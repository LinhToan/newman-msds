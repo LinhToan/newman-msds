{
 "cells": [
  {
   "cell_type": "markdown",
   "metadata": {
    "id": "Y3qNnvYtdv_1"
   },
   "source": [
    "# Churn Modelling EDA — STARTER NOTEBOOK\n",
    "\n",
    "**Data Analytics @ Newman University**\n",
    "\n",
    "\n",
    "## About this Data Set\n",
    "**This data is from [the Churn-Modelling data set from Kaggle](https://www.kaggle.com/shubh0799/churn-modelling).**<br/>\n",
    "**Number of Records:** 10,000<br/>\n",
    "**Number of original fields:** 14 (including a supplied index)<br/>\n",
    "**Fields include:**\n",
    "- `RowNumber` - a supplied index\n",
    "- `CustomerId` - unique ID number for each customer\n",
    "- `Surname` - customer last name\n",
    "- `CreditScore` - customer credit score\n",
    "- `Geography` - the country in which the customer resides\n",
    "- `Gender` - Male or Female\n",
    "- `Age` - customer's age as integer\n",
    "- `Tenure` - number of years as a customer, in integers\n",
    "- `Balance` - customer's total bank balance\n",
    "- `NumOfProducts` - the number of banking products a custom participates in\n",
    "- `HasCrCard` - binary 0 or 1 indicating whether the customer has a bank credit card\n",
    "- `IsActiveMember` - binary 0 or 1 indicating whether the customer has been active within past ?? time period\n",
    "- `EstimatedSalary` - the customer's estimated salary\n",
    "- `Exited` - binary 0 or 1 indicating whether the customer has left the bank and closed all accounts"
   ]
  },
  {
   "cell_type": "markdown",
   "metadata": {
    "id": "EPtu7efedv_4"
   },
   "source": [
    "# Import Libraries & Set Default Plot Attributes"
   ]
  },
  {
   "cell_type": "code",
   "execution_count": null,
   "metadata": {
    "id": "BgT5Ty7tdv_7"
   },
   "outputs": [],
   "source": [
    "import numpy as np\n",
    "import pandas as pd\n",
    "import matplotlib.pyplot as plt\n",
    "import seaborn as sns\n",
    "%matplotlib inline"
   ]
  },
  {
   "cell_type": "code",
   "execution_count": null,
   "metadata": {
    "id": "9PI_DZUaenh0"
   },
   "outputs": [],
   "source": [
    "# Customize seaborn plot styles\n",
    "# Seaborn docs: https://seaborn.pydata.org/tutorial/aesthetics.html\n",
    "\n",
    "# Adjust to retina quality\n",
    "import matplotlib_inline.backend_inline\n",
    "matplotlib_inline.backend_inline.set_matplotlib_formats(\"retina\")\n",
    "\n",
    "# Adjust dpi and font size\n",
    "sns.set(rc={\"figure.dpi\":100, 'savefig.dpi':300})\n",
    "sns.set_context('notebook', font_scale = 0.8)\n",
    "\n",
    "# Display tick marks\n",
    "sns.set_style('ticks')\n",
    "\n",
    "# Remove borders\n",
    "plt.rc('axes.spines', top=False, right=False, left=False, bottom=False)"
   ]
  },
  {
   "cell_type": "code",
   "execution_count": null,
   "metadata": {
    "id": "FDwdAOHteoVm"
   },
   "outputs": [],
   "source": [
    "# Color palettes for plots\n",
    "# Named colors: https://matplotlib.org/stable/gallery/color/named_colors.html\n",
    "# Seaborn color palette docs: https://seaborn.pydata.org/tutorial/color_palettes.html\n",
    "# Seaborn palette chart: https://www.codecademy.com/article/seaborn-design-ii\n",
    "\n",
    "# cp1 Color Palette - a binary blue/orange palette\n",
    "blue = 'deepskyblue' # Use 'skyblue' for a lighter blue\n",
    "orange = 'orange'\n",
    "cp1 = [blue, orange]\n",
    "\n",
    "# cp2 Palette - Reversed binary color order when needed for certain plots\n",
    "cp2 = [orange, blue]\n",
    "\n",
    "# cp5 Palette - 5 colors for use with categorical data\n",
    "turqoise = 'mediumaquamarine'\n",
    "salmon = 'darksalmon'\n",
    "tan = 'tan'\n",
    "gray = 'darkgray'\n",
    "cp5 = [blue, turqoise, salmon, tan, gray]\n",
    "\n",
    "# cpd Palette - blue-to-orange diverging palette for correlation heatmaps\n",
    "cpd = sns.diverging_palette(242, 39, s=100, l=65, n=11)\n",
    "\n",
    "# Set the default palette\n",
    "sns.set_palette(cp1)"
   ]
  },
  {
   "cell_type": "code",
   "execution_count": null,
   "metadata": {
    "colab": {
     "base_uri": "https://localhost:8080/",
     "height": 112
    },
    "id": "zmjMQ8FieuD8",
    "outputId": "b13d2c07-57d4-4ad0-d88f-ec6df16c0add"
   },
   "outputs": [],
   "source": [
    "# View cp1 color palette\n",
    "sns.palplot(cp1)"
   ]
  },
  {
   "cell_type": "code",
   "execution_count": null,
   "metadata": {},
   "outputs": [],
   "source": [
    "# View cp2 color palette\n",
    "sns.palplot(cp2)"
   ]
  },
  {
   "cell_type": "code",
   "execution_count": null,
   "metadata": {
    "colab": {
     "base_uri": "https://localhost:8080/",
     "height": 112
    },
    "id": "5Sy7TBGnexFT",
    "outputId": "d9a9da58-31a9-4177-8f8c-66ec9661a0ab"
   },
   "outputs": [],
   "source": [
    "# View cp5 color palette\n",
    "sns.palplot(cp5)"
   ]
  },
  {
   "cell_type": "code",
   "execution_count": null,
   "metadata": {
    "colab": {
     "base_uri": "https://localhost:8080/",
     "height": 112
    },
    "id": "dA6pnPuZexsY",
    "outputId": "a12661b7-7012-4171-ef04-6246b5cfa0a6"
   },
   "outputs": [],
   "source": [
    "# View cpd color palette\n",
    "sns.palplot(cpd)"
   ]
  },
  {
   "cell_type": "markdown",
   "metadata": {
    "_cell_guid": "79c7e3d0-c299-4dcb-8224-4455121ee9b0",
    "_uuid": "d629ff2d2480ee46fbb7e2d37f6b5fab8052498a",
    "collapsed": true,
    "id": "ftNakW--dv_7"
   },
   "source": [
    "# Read and Review the Data"
   ]
  },
  {
   "cell_type": "code",
   "execution_count": null,
   "metadata": {
    "colab": {
     "base_uri": "https://localhost:8080/"
    },
    "id": "O_-qPBPWfREF",
    "outputId": "5e9075db-454a-45b2-8d4e-92e0adff5039"
   },
   "outputs": [],
   "source": [
    "# If using Google Colab, uncomment the following two lines\n",
    "# from google.colab import drive\n",
    "# drive.mount('/content/drive')"
   ]
  },
  {
   "cell_type": "code",
   "execution_count": null,
   "metadata": {
    "colab": {
     "base_uri": "https://localhost:8080/",
     "height": 394
    },
    "id": "kqc0YqAudv_8",
    "outputId": "9304811c-0c09-43b1-fa5c-02a7e63b7647"
   },
   "outputs": [],
   "source": [
    "# Read the data\n",
    "# Use the provided RowNumber column as the index\n",
    "df = pd.read_csv('data/Churn_Modelling.csv', index_col = 'RowNumber')\n",
    "df.head(10)"
   ]
  },
  {
   "cell_type": "code",
   "execution_count": null,
   "metadata": {
    "colab": {
     "base_uri": "https://localhost:8080/"
    },
    "id": "GQy3Zj6ydv_8",
    "outputId": "4ad68dbd-6eca-40ac-a79b-4b2cf73ad042"
   },
   "outputs": [],
   "source": [
    "# Dataframe fundamental info\n",
    "df.info()"
   ]
  },
  {
   "cell_type": "markdown",
   "metadata": {
    "id": "pXo6gG6Edv_9"
   },
   "source": [
    "**NOTE: _No missing data!_** That's an issue we don't have to worry about with this data set."
   ]
  },
  {
   "cell_type": "code",
   "execution_count": null,
   "metadata": {
    "colab": {
     "base_uri": "https://localhost:8080/"
    },
    "id": "f1reQdRQKJkd",
    "outputId": "bae1fce2-ec72-4aba-f2c4-4f19e040923a"
   },
   "outputs": [],
   "source": [
    "# Check number of unique values per field\n",
    "df.nunique()"
   ]
  },
  {
   "cell_type": "markdown",
   "metadata": {
    "id": "5FeWoIzYKdxs"
   },
   "source": [
    "**Notes**:\n",
    "- There are 10,000 unique CustomerId's so we assume 10,000 unique customers.\n",
    "- Many customers share last names, but we will assume that's a reasonable proportion.\n",
    "- Fields with only a handful of unique values can be considered categorical (for text fields like Geography) or ordinal (for fields like NumOfProducts).\n",
    "- Four fields are binary (yes/no): Gender, HasCrCard, IsActiveMember, Exited (the target variable)."
   ]
  },
  {
   "cell_type": "markdown",
   "metadata": {
    "id": "exjQRKJzdwAF"
   },
   "source": [
    "# Drop Irrelevant Columns\n",
    "\n",
    "**These have no predictive value**:\n",
    "- CustomerId\n",
    "- Surname"
   ]
  },
  {
   "cell_type": "code",
   "execution_count": null,
   "metadata": {
    "id": "56uRFHKDdwAG"
   },
   "outputs": [],
   "source": [
    "# Drop CustomerId and Surname"
   ]
  },
  {
   "cell_type": "markdown",
   "metadata": {
    "id": "6DuZI308dv_-"
   },
   "source": [
    "## Explore Target Variable: Exited\n",
    "- Exited = 0 --> did not leave our company\n",
    "- Exited = 1 --> left the company"
   ]
  },
  {
   "cell_type": "code",
   "execution_count": null,
   "metadata": {
    "colab": {
     "base_uri": "https://localhost:8080/"
    },
    "id": "mA9mfPj_dv_-",
    "outputId": "fd7b570c-62fc-46c1-cd78-a7b86e8084fe"
   },
   "outputs": [],
   "source": [
    "# Of these 10,000, how many exited?\n",
    "df['Exited'].value_counts()"
   ]
  },
  {
   "cell_type": "code",
   "execution_count": null,
   "metadata": {
    "colab": {
     "base_uri": "https://localhost:8080/",
     "height": 382
    },
    "id": "xeHBGs50M7C5",
    "outputId": "9d58756e-e738-4e03-eec8-8c76d5e64636"
   },
   "outputs": [],
   "source": [
    "# Countplot\n",
    "plt.title(\"Count of Exited: 0 or 1\", fontsize=14, fontweight='bold')\n",
    "ax = sns.countplot(data=df, x='Exited');\n",
    "# ax.set(xlabel = 'Custom x axis label', ylabel='Custom y axis label');"
   ]
  },
  {
   "cell_type": "markdown",
   "metadata": {
    "id": "0NZxogycdv__"
   },
   "source": [
    "**2037 or 20.37% of our customers exited.**"
   ]
  },
  {
   "cell_type": "markdown",
   "metadata": {
    "id": "2ie89hBUdv__"
   },
   "source": [
    "# Explore Continuous Features\n",
    "We'll explore these features, which are continuous:\n",
    "- CreditScore\n",
    "- Age\n",
    "- Tenure\n",
    "- Balance\n",
    "- Estimated Salary\n",
    "\n",
    "Keep Exited as the target variable for analysis"
   ]
  },
  {
   "cell_type": "code",
   "execution_count": null,
   "metadata": {
    "id": "-FuC39bxdv__"
   },
   "outputs": [],
   "source": [
    "# Create a variable to filter for our continuous features\n",
    "cont = ['Exited','CreditScore','Age','Tenure','Balance','EstimatedSalary']"
   ]
  },
  {
   "cell_type": "code",
   "execution_count": null,
   "metadata": {
    "id": "AB6AQCktuMez"
   },
   "outputs": [],
   "source": [
    "# View summary stats for continuous features\n",
    "# Round the output to two decimals for easier reading. See: https://gist.github.com/data-enhanced/0c48586f36e8cd27ffad8fe076d62c4e\n",
    "df[cont].describe().apply(lambda s: s.apply('{:,.2f}'.format))"
   ]
  },
  {
   "cell_type": "code",
   "execution_count": null,
   "metadata": {
    "id": "i5dpGEyudwAA"
   },
   "outputs": [],
   "source": [
    "# Group by Exited and view the mean for each continuous variable\n",
    "# Round the output to two decimals for easier reading\n",
    "df[cont].groupby('Exited').mean().apply(lambda s: s.apply('{:,.2f}'.format))"
   ]
  },
  {
   "cell_type": "markdown",
   "metadata": {
    "id": "40Jvy9AGdwAA"
   },
   "source": [
    "**Observation on above:** There are no huge and obvious differences between the mean scores across these variables for customers who did or did not exit. The widest gaps in means are for Age and Balance, then CreditScore and NumOfProducts. Those who exited are on average older with a larger balance, slightly fewer avg products, and a slightly lower avg CreditScore."
   ]
  },
  {
   "cell_type": "markdown",
   "metadata": {
    "id": "xGfVpUlHdwAB"
   },
   "source": [
    "## CreditScore"
   ]
  },
  {
   "cell_type": "code",
   "execution_count": null,
   "metadata": {},
   "outputs": [],
   "source": [
    "# Basic Stats\n",
    "df[['CreditScore','Exited']].groupby('Exited').describe().apply(lambda s: s.apply('{:,.2f}'.format))"
   ]
  },
  {
   "cell_type": "code",
   "execution_count": null,
   "metadata": {},
   "outputs": [],
   "source": [
    "# Box Plots\n",
    "plt.title(\"CreditScore Distributions Comparison\", fontsize=14, fontweight='bold')\n",
    "ax = sns.boxplot(data=df, x='CreditScore', y='Exited', orient='h');\n",
    "# ax.set(xlabel = 'Custom x axis label', ylabel='Custom y axis label');"
   ]
  },
  {
   "cell_type": "code",
   "execution_count": null,
   "metadata": {},
   "outputs": [],
   "source": [
    "# Violin Plots\n",
    "plt.title(\"CreditScore Distributions Comparison\", fontsize=14, fontweight='bold')\n",
    "ax = sns.violinplot(data=df, x='CreditScore', y='Exited', orient='h');\n",
    "# ax.set(xlabel = 'Custom x axis label', ylabel='Custom y axis label');"
   ]
  },
  {
   "cell_type": "code",
   "execution_count": null,
   "metadata": {
    "id": "IY_axO3OdwAB"
   },
   "outputs": [],
   "source": [
    "# Histogram\n",
    "# Control hue_order and palette to display minority class in orange on top: hue_order=1,0 and palette=cp2\n",
    "plt.figure(figsize=(8,4))\n",
    "plt.title(\"CreditScore Distributions Comparison\", fontsize=14, fontweight='bold')\n",
    "ax = sns.histplot(data=df, x='CreditScore', hue='Exited', hue_order=[1,0], palette=cp2, binwidth=25, alpha=0.75);\n",
    "# ax.set(xlabel = 'Custom x axis label', ylabel='Custom y axis label');"
   ]
  },
  {
   "cell_type": "markdown",
   "metadata": {
    "id": "yOXV1NP0dwAB"
   },
   "source": [
    "**Interpretation:** The distributions for Exited/Non-Exited CreditScores are nearly identical. Those who exited peak at just a slightly lower CreditScore (625) than those who did not (675)."
   ]
  },
  {
   "cell_type": "markdown",
   "metadata": {},
   "source": [
    "## Age"
   ]
  },
  {
   "cell_type": "code",
   "execution_count": null,
   "metadata": {
    "id": "IY_axO3OdwAB"
   },
   "outputs": [],
   "source": [
    "# Histogram\n",
    "# Control hue_order and palette to display minority class in orange on top: hue_order=1,0 and palette=cp2\n"
   ]
  },
  {
   "cell_type": "code",
   "execution_count": null,
   "metadata": {},
   "outputs": [],
   "source": [
    "# Violin Plots\n"
   ]
  },
  {
   "cell_type": "code",
   "execution_count": null,
   "metadata": {
    "scrolled": false
   },
   "outputs": [],
   "source": [
    "# Box Plots\n"
   ]
  },
  {
   "cell_type": "code",
   "execution_count": null,
   "metadata": {},
   "outputs": [],
   "source": [
    "# Basic Stats\n",
    "df[['Age','Exited']].groupby('Exited').describe().apply(lambda s: s.apply('{:,.2f}'.format))"
   ]
  },
  {
   "cell_type": "markdown",
   "metadata": {
    "id": "yOXV1NP0dwAB"
   },
   "source": [
    "**Interpretation:** "
   ]
  },
  {
   "cell_type": "markdown",
   "metadata": {},
   "source": [
    "## Tenure"
   ]
  },
  {
   "cell_type": "code",
   "execution_count": null,
   "metadata": {
    "id": "IY_axO3OdwAB"
   },
   "outputs": [],
   "source": [
    "# Histogram\n",
    "# Control hue_order and palette to display minority class in orange on top: hue_order=1,0 and palette=cp2\n"
   ]
  },
  {
   "cell_type": "code",
   "execution_count": null,
   "metadata": {},
   "outputs": [],
   "source": [
    "# Violin Plots\n"
   ]
  },
  {
   "cell_type": "code",
   "execution_count": null,
   "metadata": {
    "scrolled": false
   },
   "outputs": [],
   "source": [
    "# Box Plots\n"
   ]
  },
  {
   "cell_type": "code",
   "execution_count": null,
   "metadata": {},
   "outputs": [],
   "source": [
    "# Basic Stats\n"
   ]
  },
  {
   "cell_type": "markdown",
   "metadata": {
    "id": "yOXV1NP0dwAB"
   },
   "source": [
    "**Interpretation:** "
   ]
  },
  {
   "cell_type": "markdown",
   "metadata": {},
   "source": [
    "## Balance"
   ]
  },
  {
   "cell_type": "code",
   "execution_count": null,
   "metadata": {
    "id": "IY_axO3OdwAB"
   },
   "outputs": [],
   "source": []
  },
  {
   "cell_type": "code",
   "execution_count": null,
   "metadata": {},
   "outputs": [],
   "source": []
  },
  {
   "cell_type": "code",
   "execution_count": null,
   "metadata": {
    "scrolled": false
   },
   "outputs": [],
   "source": []
  },
  {
   "cell_type": "code",
   "execution_count": null,
   "metadata": {},
   "outputs": [],
   "source": []
  },
  {
   "cell_type": "markdown",
   "metadata": {
    "id": "yOXV1NP0dwAB"
   },
   "source": [
    "**Interpretation:** "
   ]
  },
  {
   "cell_type": "markdown",
   "metadata": {},
   "source": [
    "## EstimatedSalary"
   ]
  },
  {
   "cell_type": "code",
   "execution_count": null,
   "metadata": {
    "id": "IY_axO3OdwAB"
   },
   "outputs": [],
   "source": [
    "# Histogram\n",
    "# Control hue_order and palette to display minority class in orange on top: hue_order=1,0 and palette=cp2\n"
   ]
  },
  {
   "cell_type": "code",
   "execution_count": null,
   "metadata": {},
   "outputs": [],
   "source": [
    "# Violin Plots\n"
   ]
  },
  {
   "cell_type": "code",
   "execution_count": null,
   "metadata": {
    "scrolled": false
   },
   "outputs": [],
   "source": [
    "# Box Plots\n"
   ]
  },
  {
   "cell_type": "code",
   "execution_count": null,
   "metadata": {},
   "outputs": [],
   "source": [
    "# Basic Stats\n",
    "df[['EstimatedSalary','Exited']].groupby('Exited').describe().apply(lambda s: s.apply('{:,.2f}'.format))"
   ]
  },
  {
   "cell_type": "markdown",
   "metadata": {
    "id": "yOXV1NP0dwAB"
   },
   "source": [
    "**Interpretation:** "
   ]
  },
  {
   "cell_type": "markdown",
   "metadata": {},
   "source": [
    "### Summary of Continuous Features Analysis\n",
    "\n",
    "#### No Apparent Predictive Relevance\n",
    "- `Tenure`: tenure has a larger IQR, but otherwise very similar distributions, means, and medians\n",
    "- `EstimatedSalary`: averages and distributions are nearly identical\n",
    "\n",
    "#### Perhaps Small Predictive Relevance\n",
    "- `CreditScore`: **small if any predictive relevance**: there are small distribution differences\n",
    "\n",
    "#### Likely of Some Relevance\n",
    "- `Age`: churners average 9 years older than non-churners\n",
    "- `Balance`: churners have an approximately 15% higher average balance\n"
   ]
  },
  {
   "cell_type": "markdown",
   "metadata": {
    "id": "Cw57xYtFdwAC"
   },
   "source": [
    "# Explore Categorical and Ordinal Features\n",
    "- Geography\n",
    "- Gender\n",
    "- NumOfProducts\n",
    "- HasCrCard\n",
    "- IsActiveMember\n",
    "- and Target: Exited"
   ]
  },
  {
   "cell_type": "code",
   "execution_count": null,
   "metadata": {
    "id": "46OioW3DdwAC"
   },
   "outputs": [],
   "source": [
    "# Create a variable to filter for categorical and ordinal features\n",
    "\n",
    "# Preview these features\n"
   ]
  },
  {
   "cell_type": "code",
   "execution_count": null,
   "metadata": {},
   "outputs": [],
   "source": [
    "# View number of unique categories for each cateogrical and ordinal feature\n",
    "df[cat].nunique()"
   ]
  },
  {
   "cell_type": "markdown",
   "metadata": {
    "id": "h_j5Tg6PdwAD"
   },
   "source": [
    "## Geography"
   ]
  },
  {
   "cell_type": "code",
   "execution_count": null,
   "metadata": {},
   "outputs": [],
   "source": [
    "# Number of customers per category\n",
    "df['Geography'].value_counts()"
   ]
  },
  {
   "cell_type": "code",
   "execution_count": null,
   "metadata": {},
   "outputs": [],
   "source": [
    "# Countplot for all customers\n",
    "plt.title(\"Geography Distribution for All Customers\", fontsize=14, fontweight='bold')\n",
    "ax = sns.countplot(data=df, x='Geography', color=blue);\n",
    "ax.set(xlabel = '');"
   ]
  },
  {
   "cell_type": "code",
   "execution_count": null,
   "metadata": {},
   "outputs": [],
   "source": [
    "# Countplot of churners and non-churners for this category\n",
    "plt.title(\"Geographical Churn Count Comparisons\", fontsize=14, fontweight='bold')\n",
    "ax = sns.countplot(data=df, x='Geography', hue='Exited');\n",
    "# ax.set(xlabel = 'Custom x axis label', ylabel='Custom y axis label');"
   ]
  },
  {
   "cell_type": "code",
   "execution_count": null,
   "metadata": {},
   "outputs": [],
   "source": [
    "# Barplot of churn rates for this category\n",
    "plt.title(\"Geographical Churn Rates\", fontsize=14, fontweight='bold')\n",
    "ax = sns.barplot(data=df, x='Geography', y='Exited', ci=None, color=blue);\n",
    "# ax.set(xlabel = 'Custom x axis label', ylabel='Custom y axis label');"
   ]
  },
  {
   "cell_type": "code",
   "execution_count": null,
   "metadata": {},
   "outputs": [],
   "source": [
    "# Calculate Churn Rate for this category\n",
    "df[['Geography','Exited']].groupby('Geography').mean()"
   ]
  },
  {
   "cell_type": "markdown",
   "metadata": {},
   "source": [
    "**Interpretation**: German customers are churning at nearly twice the rate of those from France and Spain!"
   ]
  },
  {
   "cell_type": "markdown",
   "metadata": {
    "id": "h_j5Tg6PdwAD"
   },
   "source": [
    "## Gender"
   ]
  },
  {
   "cell_type": "code",
   "execution_count": null,
   "metadata": {},
   "outputs": [],
   "source": [
    "# Count of Customers per Category\n"
   ]
  },
  {
   "cell_type": "code",
   "execution_count": null,
   "metadata": {},
   "outputs": [],
   "source": [
    "# Count of Customers per Category\n"
   ]
  },
  {
   "cell_type": "code",
   "execution_count": null,
   "metadata": {},
   "outputs": [],
   "source": [
    "# Countplot of churners and non-churners for this category\n"
   ]
  },
  {
   "cell_type": "code",
   "execution_count": null,
   "metadata": {},
   "outputs": [],
   "source": [
    "# Barplot of churn rates for this category\n"
   ]
  },
  {
   "cell_type": "code",
   "execution_count": null,
   "metadata": {},
   "outputs": [],
   "source": [
    "# Calculate Churn Rate for this category\n"
   ]
  },
  {
   "cell_type": "markdown",
   "metadata": {},
   "source": [
    "**Interpretation**: Women churn at nearly a 10% higher rate than men: Women at 25%; Men at 16.45%."
   ]
  },
  {
   "cell_type": "markdown",
   "metadata": {
    "id": "h_j5Tg6PdwAD"
   },
   "source": [
    "## NumOfProducts"
   ]
  },
  {
   "cell_type": "code",
   "execution_count": null,
   "metadata": {},
   "outputs": [],
   "source": [
    "# Count of Customers per Category\n",
    "df['NumOfProducts'].value_counts()"
   ]
  },
  {
   "cell_type": "code",
   "execution_count": null,
   "metadata": {},
   "outputs": [],
   "source": []
  },
  {
   "cell_type": "code",
   "execution_count": null,
   "metadata": {},
   "outputs": [],
   "source": []
  },
  {
   "cell_type": "code",
   "execution_count": null,
   "metadata": {},
   "outputs": [],
   "source": []
  },
  {
   "cell_type": "code",
   "execution_count": null,
   "metadata": {},
   "outputs": [],
   "source": []
  },
  {
   "cell_type": "markdown",
   "metadata": {},
   "source": [
    "**Interpretation**: "
   ]
  },
  {
   "cell_type": "markdown",
   "metadata": {
    "id": "h_j5Tg6PdwAD"
   },
   "source": [
    "## HasCrCard"
   ]
  },
  {
   "cell_type": "code",
   "execution_count": null,
   "metadata": {},
   "outputs": [],
   "source": []
  },
  {
   "cell_type": "code",
   "execution_count": null,
   "metadata": {},
   "outputs": [],
   "source": []
  },
  {
   "cell_type": "code",
   "execution_count": null,
   "metadata": {},
   "outputs": [],
   "source": []
  },
  {
   "cell_type": "code",
   "execution_count": null,
   "metadata": {},
   "outputs": [],
   "source": []
  },
  {
   "cell_type": "code",
   "execution_count": null,
   "metadata": {},
   "outputs": [],
   "source": []
  },
  {
   "cell_type": "markdown",
   "metadata": {},
   "source": [
    "**Interpretation**: "
   ]
  },
  {
   "cell_type": "markdown",
   "metadata": {
    "id": "h_j5Tg6PdwAD"
   },
   "source": [
    "## IsActiveMember"
   ]
  },
  {
   "cell_type": "code",
   "execution_count": null,
   "metadata": {},
   "outputs": [],
   "source": []
  },
  {
   "cell_type": "code",
   "execution_count": null,
   "metadata": {},
   "outputs": [],
   "source": []
  },
  {
   "cell_type": "code",
   "execution_count": null,
   "metadata": {},
   "outputs": [],
   "source": []
  },
  {
   "cell_type": "code",
   "execution_count": null,
   "metadata": {},
   "outputs": [],
   "source": []
  },
  {
   "cell_type": "code",
   "execution_count": null,
   "metadata": {},
   "outputs": [],
   "source": []
  },
  {
   "cell_type": "markdown",
   "metadata": {},
   "source": [
    "**Interpretation**: "
   ]
  },
  {
   "cell_type": "markdown",
   "metadata": {},
   "source": [
    "### Summary of Categorical and Ordinal Feature Analysis\n",
    "\n"
   ]
  },
  {
   "cell_type": "markdown",
   "metadata": {},
   "source": [
    "# Explore Relationships between Numeric Variables"
   ]
  },
  {
   "cell_type": "code",
   "execution_count": null,
   "metadata": {},
   "outputs": [],
   "source": [
    "df.info()"
   ]
  },
  {
   "cell_type": "code",
   "execution_count": null,
   "metadata": {},
   "outputs": [],
   "source": [
    "# Create variable to hold all features with numeric data types\n",
    "# https://pandas.pydata.org/docs/reference/api/pandas.DataFrame.select_dtypes.html\n",
    "num = list(df.select_dtypes(include=['number']).columns)\n",
    "df[num].info()"
   ]
  },
  {
   "cell_type": "code",
   "execution_count": null,
   "metadata": {},
   "outputs": [],
   "source": [
    "# Calculate Pearson Correlations for Numeric Features\n",
    "# https://pandas.pydata.org/docs/reference/api/pandas.DataFrame.corr.html \n",
    "df[num].corr()"
   ]
  },
  {
   "cell_type": "code",
   "execution_count": null,
   "metadata": {},
   "outputs": [],
   "source": [
    "# Heatmap Pearson Correlations for Numeric Features\n",
    "# https://seaborn.pydata.org/generated/seaborn.heatmap.html\n",
    "mask = np.triu(np.ones_like(df[num].corr()))\n",
    "plt.figure(figsize=(7,4))\n",
    "plt.title(\"Correlation Heatmap\", fontsize=14, fontweight='bold')\n",
    "ax = sns.heatmap(df[num].corr(), cmap=cpd, vmin=-1, vmax=1, mask=mask, annot=True);"
   ]
  },
  {
   "cell_type": "markdown",
   "metadata": {},
   "source": [
    "**Interpretation**:\n",
    "- There are no glaring multicollinearity problems with this data set."
   ]
  },
  {
   "cell_type": "markdown",
   "metadata": {
    "id": "1m4SYnrAdwAF"
   },
   "source": [
    "# Data Prep\n",
    "Prepare all fields for machine learning."
   ]
  },
  {
   "cell_type": "code",
   "execution_count": null,
   "metadata": {
    "id": "-a5qgHUgdwAF"
   },
   "outputs": [],
   "source": [
    "# Preview current dataframe\n",
    "df.head()"
   ]
  },
  {
   "cell_type": "code",
   "execution_count": null,
   "metadata": {},
   "outputs": [],
   "source": [
    "# Overview current dataframe fundamentals\n",
    "df.info()"
   ]
  },
  {
   "cell_type": "markdown",
   "metadata": {
    "id": "CKdb0vBhdwAG"
   },
   "source": [
    "## Convert Gender to 0 or 1"
   ]
  },
  {
   "cell_type": "code",
   "execution_count": null,
   "metadata": {
    "id": "fkyX0FiidwAG"
   },
   "outputs": [],
   "source": [
    "# Convert gender to binary integer: Male = 0, Female = 1\n"
   ]
  },
  {
   "cell_type": "markdown",
   "metadata": {
    "id": "LDqtRl14dwAG"
   },
   "source": [
    "## Convert Geography to numeric"
   ]
  },
  {
   "cell_type": "code",
   "execution_count": null,
   "metadata": {
    "id": "Shle7L5FdwAG"
   },
   "outputs": [],
   "source": [
    "# Convert Geography to integer: France = 0, Spain = 1, Germany = 2\n"
   ]
  },
  {
   "cell_type": "markdown",
   "metadata": {
    "id": "WxCCCbO5dwAH"
   },
   "source": [
    "## Write to CSV\n",
    "\n",
    "Write to CSV file, named `churn_cleaned.csv`"
   ]
  },
  {
   "cell_type": "code",
   "execution_count": null,
   "metadata": {
    "id": "vGy7DPiedwAH"
   },
   "outputs": [],
   "source": [
    "# Write to CSV\n"
   ]
  }
 ],
 "metadata": {
  "colab": {
   "collapsed_sections": [],
   "name": "Churn_EDA_and_Prep_2022_DC.ipynb",
   "provenance": []
  },
  "kernelspec": {
   "display_name": "Python 3 (ipykernel)",
   "language": "python",
   "name": "python3"
  },
  "language_info": {
   "codemirror_mode": {
    "name": "ipython",
    "version": 3
   },
   "file_extension": ".py",
   "mimetype": "text/x-python",
   "name": "python",
   "nbconvert_exporter": "python",
   "pygments_lexer": "ipython3",
   "version": "3.9.7"
  }
 },
 "nbformat": 4,
 "nbformat_minor": 1
}
