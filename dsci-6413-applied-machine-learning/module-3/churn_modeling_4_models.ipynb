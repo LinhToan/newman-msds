{
 "cells": [
  {
   "cell_type": "markdown",
   "id": "5c8467bd",
   "metadata": {},
   "source": [
    "# Churn Modeling: Basic Version -- 4 MODELS\n",
    "**by Linh Toan**<br/>\n",
    "**Data Analytics @ Newman University**\n",
    "\n",
    "## About this Data Set\n",
    "**This data is from [the Churn-Modelling data set from Kaggle](https://www.kaggle.com/shubh0799/churn-modelling).**<br/>\n",
    "**Number of Records:** 10,000<br/>\n",
    "**Number of original fields:** 14 (including a supplied index)<br/>\n",
    "**Fields include:**\n",
    "- `RowNumber` - a supplied index\n",
    "- `CustomerId` - unique ID number for each customer\n",
    "- `Surname` - customer last name\n",
    "- `CreditScore` - customer credit score\n",
    "- `Geography` - the country in which the customer resides\n",
    "- `Gender` - Male or Female\n",
    "- `Age` - customer's age as integer\n",
    "- `Tenure` - number of years as a customer, in integers\n",
    "- `Balance` - customer's total bank balance\n",
    "- `NumOfProducts` - the number of banking products a custom participates in\n",
    "- `HasCrCard` - binary 0 or 1 indicating whether the customer has a bank credit card\n",
    "- `IsActiveMember` - binary 0 or 1 indicating whether the customer has been active within past ?? time period\n",
    "- `EstimatedSalary` - the customer's estimated salary\n",
    "- `Exited` - binary 0 or 1 indicating whether the customer has left the bank and closed all accounts"
   ]
  },
  {
   "cell_type": "code",
   "execution_count": 1,
   "id": "b5530609",
   "metadata": {},
   "outputs": [],
   "source": [
    "# Essential Libraries\n",
    "import numpy as np\n",
    "import pandas as pd\n",
    "\n",
    "# Libraries for Machine Learning Process\n",
    "from sklearn.model_selection import train_test_split\n",
    "from sklearn.metrics import accuracy_score\n",
    "\n",
    "# Algorithms\n",
    "from sklearn.linear_model import LogisticRegression\n",
    "from sklearn.tree import DecisionTreeClassifier\n",
    "from sklearn.ensemble import RandomForestClassifier\n",
    "from sklearn.ensemble import GradientBoostingClassifier"
   ]
  },
  {
   "cell_type": "markdown",
   "id": "c1444152",
   "metadata": {},
   "source": [
    "# 1. Read and Review Data\n",
    "\n",
    "This data has been cleaned in a previous EDA and preparation process."
   ]
  },
  {
   "cell_type": "code",
   "execution_count": 2,
   "id": "5b74f597",
   "metadata": {},
   "outputs": [
    {
     "data": {
      "text/html": [
       "<div>\n",
       "<style scoped>\n",
       "    .dataframe tbody tr th:only-of-type {\n",
       "        vertical-align: middle;\n",
       "    }\n",
       "\n",
       "    .dataframe tbody tr th {\n",
       "        vertical-align: top;\n",
       "    }\n",
       "\n",
       "    .dataframe thead th {\n",
       "        text-align: right;\n",
       "    }\n",
       "</style>\n",
       "<table border=\"1\" class=\"dataframe\">\n",
       "  <thead>\n",
       "    <tr style=\"text-align: right;\">\n",
       "      <th></th>\n",
       "      <th>CreditScore</th>\n",
       "      <th>Geography</th>\n",
       "      <th>Gender</th>\n",
       "      <th>Age</th>\n",
       "      <th>Tenure</th>\n",
       "      <th>Balance</th>\n",
       "      <th>NumOfProducts</th>\n",
       "      <th>HasCrCard</th>\n",
       "      <th>IsActiveMember</th>\n",
       "      <th>EstimatedSalary</th>\n",
       "      <th>Exited</th>\n",
       "    </tr>\n",
       "  </thead>\n",
       "  <tbody>\n",
       "    <tr>\n",
       "      <th>0</th>\n",
       "      <td>619</td>\n",
       "      <td>0</td>\n",
       "      <td>1</td>\n",
       "      <td>42</td>\n",
       "      <td>2</td>\n",
       "      <td>0.00</td>\n",
       "      <td>1</td>\n",
       "      <td>1</td>\n",
       "      <td>1</td>\n",
       "      <td>101348.88</td>\n",
       "      <td>1</td>\n",
       "    </tr>\n",
       "    <tr>\n",
       "      <th>1</th>\n",
       "      <td>608</td>\n",
       "      <td>1</td>\n",
       "      <td>1</td>\n",
       "      <td>41</td>\n",
       "      <td>1</td>\n",
       "      <td>83807.86</td>\n",
       "      <td>1</td>\n",
       "      <td>0</td>\n",
       "      <td>1</td>\n",
       "      <td>112542.58</td>\n",
       "      <td>0</td>\n",
       "    </tr>\n",
       "    <tr>\n",
       "      <th>2</th>\n",
       "      <td>502</td>\n",
       "      <td>0</td>\n",
       "      <td>1</td>\n",
       "      <td>42</td>\n",
       "      <td>8</td>\n",
       "      <td>159660.80</td>\n",
       "      <td>3</td>\n",
       "      <td>1</td>\n",
       "      <td>0</td>\n",
       "      <td>113931.57</td>\n",
       "      <td>1</td>\n",
       "    </tr>\n",
       "    <tr>\n",
       "      <th>3</th>\n",
       "      <td>699</td>\n",
       "      <td>0</td>\n",
       "      <td>1</td>\n",
       "      <td>39</td>\n",
       "      <td>1</td>\n",
       "      <td>0.00</td>\n",
       "      <td>2</td>\n",
       "      <td>0</td>\n",
       "      <td>0</td>\n",
       "      <td>93826.63</td>\n",
       "      <td>0</td>\n",
       "    </tr>\n",
       "    <tr>\n",
       "      <th>4</th>\n",
       "      <td>850</td>\n",
       "      <td>1</td>\n",
       "      <td>1</td>\n",
       "      <td>43</td>\n",
       "      <td>2</td>\n",
       "      <td>125510.82</td>\n",
       "      <td>1</td>\n",
       "      <td>1</td>\n",
       "      <td>1</td>\n",
       "      <td>79084.10</td>\n",
       "      <td>0</td>\n",
       "    </tr>\n",
       "    <tr>\n",
       "      <th>5</th>\n",
       "      <td>645</td>\n",
       "      <td>1</td>\n",
       "      <td>0</td>\n",
       "      <td>44</td>\n",
       "      <td>8</td>\n",
       "      <td>113755.78</td>\n",
       "      <td>2</td>\n",
       "      <td>1</td>\n",
       "      <td>0</td>\n",
       "      <td>149756.71</td>\n",
       "      <td>1</td>\n",
       "    </tr>\n",
       "    <tr>\n",
       "      <th>6</th>\n",
       "      <td>822</td>\n",
       "      <td>0</td>\n",
       "      <td>0</td>\n",
       "      <td>50</td>\n",
       "      <td>7</td>\n",
       "      <td>0.00</td>\n",
       "      <td>2</td>\n",
       "      <td>1</td>\n",
       "      <td>1</td>\n",
       "      <td>10062.80</td>\n",
       "      <td>0</td>\n",
       "    </tr>\n",
       "    <tr>\n",
       "      <th>7</th>\n",
       "      <td>376</td>\n",
       "      <td>2</td>\n",
       "      <td>1</td>\n",
       "      <td>29</td>\n",
       "      <td>4</td>\n",
       "      <td>115046.74</td>\n",
       "      <td>4</td>\n",
       "      <td>1</td>\n",
       "      <td>0</td>\n",
       "      <td>119346.88</td>\n",
       "      <td>1</td>\n",
       "    </tr>\n",
       "    <tr>\n",
       "      <th>8</th>\n",
       "      <td>501</td>\n",
       "      <td>0</td>\n",
       "      <td>0</td>\n",
       "      <td>44</td>\n",
       "      <td>4</td>\n",
       "      <td>142051.07</td>\n",
       "      <td>2</td>\n",
       "      <td>0</td>\n",
       "      <td>1</td>\n",
       "      <td>74940.50</td>\n",
       "      <td>0</td>\n",
       "    </tr>\n",
       "    <tr>\n",
       "      <th>9</th>\n",
       "      <td>684</td>\n",
       "      <td>0</td>\n",
       "      <td>0</td>\n",
       "      <td>27</td>\n",
       "      <td>2</td>\n",
       "      <td>134603.88</td>\n",
       "      <td>1</td>\n",
       "      <td>1</td>\n",
       "      <td>1</td>\n",
       "      <td>71725.73</td>\n",
       "      <td>0</td>\n",
       "    </tr>\n",
       "  </tbody>\n",
       "</table>\n",
       "</div>"
      ],
      "text/plain": [
       "   CreditScore  Geography  Gender  Age  Tenure    Balance  NumOfProducts  \\\n",
       "0          619          0       1   42       2       0.00              1   \n",
       "1          608          1       1   41       1   83807.86              1   \n",
       "2          502          0       1   42       8  159660.80              3   \n",
       "3          699          0       1   39       1       0.00              2   \n",
       "4          850          1       1   43       2  125510.82              1   \n",
       "5          645          1       0   44       8  113755.78              2   \n",
       "6          822          0       0   50       7       0.00              2   \n",
       "7          376          2       1   29       4  115046.74              4   \n",
       "8          501          0       0   44       4  142051.07              2   \n",
       "9          684          0       0   27       2  134603.88              1   \n",
       "\n",
       "   HasCrCard  IsActiveMember  EstimatedSalary  Exited  \n",
       "0          1               1        101348.88       1  \n",
       "1          0               1        112542.58       0  \n",
       "2          1               0        113931.57       1  \n",
       "3          0               0         93826.63       0  \n",
       "4          1               1         79084.10       0  \n",
       "5          1               0        149756.71       1  \n",
       "6          1               1         10062.80       0  \n",
       "7          1               0        119346.88       1  \n",
       "8          0               1         74940.50       0  \n",
       "9          1               1         71725.73       0  "
      ]
     },
     "execution_count": 2,
     "metadata": {},
     "output_type": "execute_result"
    }
   ],
   "source": [
    "# Read cleaned version of the data\n",
    "df = pd.read_csv('data/Churn_Modelling_cleaned.csv')\n",
    "df.head(10)"
   ]
  },
  {
   "cell_type": "code",
   "execution_count": 3,
   "id": "44f00c48",
   "metadata": {},
   "outputs": [
    {
     "name": "stdout",
     "output_type": "stream",
     "text": [
      "<class 'pandas.core.frame.DataFrame'>\n",
      "RangeIndex: 10000 entries, 0 to 9999\n",
      "Data columns (total 11 columns):\n",
      " #   Column           Non-Null Count  Dtype  \n",
      "---  ------           --------------  -----  \n",
      " 0   CreditScore      10000 non-null  int64  \n",
      " 1   Geography        10000 non-null  int64  \n",
      " 2   Gender           10000 non-null  int64  \n",
      " 3   Age              10000 non-null  int64  \n",
      " 4   Tenure           10000 non-null  int64  \n",
      " 5   Balance          10000 non-null  float64\n",
      " 6   NumOfProducts    10000 non-null  int64  \n",
      " 7   HasCrCard        10000 non-null  int64  \n",
      " 8   IsActiveMember   10000 non-null  int64  \n",
      " 9   EstimatedSalary  10000 non-null  float64\n",
      " 10  Exited           10000 non-null  int64  \n",
      "dtypes: float64(2), int64(9)\n",
      "memory usage: 859.5 KB\n"
     ]
    }
   ],
   "source": [
    "# Dataframe fundamental info\n",
    "df.info()"
   ]
  },
  {
   "cell_type": "markdown",
   "id": "f36d2cf1",
   "metadata": {},
   "source": [
    "# 2. Prepare Data Splits"
   ]
  },
  {
   "cell_type": "code",
   "execution_count": 4,
   "id": "a1468ef5",
   "metadata": {},
   "outputs": [],
   "source": [
    "# features — all columns except target variable\n",
    "features = df.drop('Exited', axis=1)\n",
    "\n",
    "# labels — only the target variable column\n",
    "labels = df['Exited']"
   ]
  },
  {
   "cell_type": "code",
   "execution_count": 5,
   "id": "0c215120",
   "metadata": {},
   "outputs": [
    {
     "name": "stdout",
     "output_type": "stream",
     "text": [
      "Train Split: 8000 Records, 8000 Labels = 80.0%\n",
      "Test Split: 2000 Records, 2000 Labels = 20.0%\n"
     ]
    }
   ],
   "source": [
    "# Create Train and Test Splits\n",
    "X_train, X_test, y_train, y_test = train_test_split(features, labels, test_size=0.2, random_state=42)\n",
    "\n",
    "# Report Number and Proportion of Train and Test Features and Labels\n",
    "print(f'Train Split: {X_train.shape[0]} Records, {len(y_train)} Labels = {round(len(y_train)/len(labels), 4) * 100}%')\n",
    "print(f'Test Split: {X_test.shape[0]} Records, {len(y_test)} Labels = {round(len(y_test)/len(labels), 4) * 100}%')"
   ]
  },
  {
   "cell_type": "markdown",
   "id": "36f5d7b7",
   "metadata": {},
   "source": [
    "# 3. Train Models"
   ]
  },
  {
   "cell_type": "code",
   "execution_count": 6,
   "id": "1b38ff9e",
   "metadata": {},
   "outputs": [
    {
     "name": "stdout",
     "output_type": "stream",
     "text": [
      "Trained and ready: LogisticRegression()\n",
      "Trained and ready: DecisionTreeClassifier()\n",
      "Trained and ready: RandomForestClassifier()\n",
      "Trained and ready: GradientBoostingClassifier()\n"
     ]
    }
   ],
   "source": [
    "# Define the model\n",
    "models = [LogisticRegression(), \n",
    "          DecisionTreeClassifier(), \n",
    "          RandomForestClassifier(), \n",
    "          GradientBoostingClassifier()\n",
    "         ]\n",
    "\n",
    "# Train the model using the training features and labels\n",
    "for model in models:\n",
    "    model.fit(X_train, y_train)\n",
    "    # Report trained model\n",
    "    print(f'Trained and ready: {model}')"
   ]
  },
  {
   "cell_type": "markdown",
   "id": "ec7c4176",
   "metadata": {},
   "source": [
    "# 4. Test Models"
   ]
  },
  {
   "cell_type": "code",
   "execution_count": 7,
   "id": "42a31d22",
   "metadata": {},
   "outputs": [
    {
     "name": "stdout",
     "output_type": "stream",
     "text": [
      "LogisticRegression()\n",
      "  80.05\n",
      "\n",
      "DecisionTreeClassifier()\n",
      "  77.85\n",
      "\n",
      "RandomForestClassifier()\n",
      "  86.6\n",
      "\n",
      "GradientBoostingClassifier()\n",
      "  86.5\n",
      "\n"
     ]
    }
   ],
   "source": [
    "# Test all models on the test split\n",
    "for model in models:\n",
    "    # Use the model to generate predictions for the Test split, based on its features only\n",
    "    y_pred = model.predict(X_test)\n",
    "\n",
    "    # Compare model's predictive performance to the provided test labels\n",
    "    score = accuracy_score(y_test, y_pred) * 100\n",
    "\n",
    "    # Report the model and its score\n",
    "    print(model)\n",
    "    print(f'  {score}\\n')"
   ]
  },
  {
   "cell_type": "code",
   "execution_count": null,
   "id": "e9e31e3b",
   "metadata": {},
   "outputs": [],
   "source": []
  }
 ],
 "metadata": {
  "kernelspec": {
   "display_name": "Python 3 (ipykernel)",
   "language": "python",
   "name": "python3"
  },
  "language_info": {
   "codemirror_mode": {
    "name": "ipython",
    "version": 3
   },
   "file_extension": ".py",
   "mimetype": "text/x-python",
   "name": "python",
   "nbconvert_exporter": "python",
   "pygments_lexer": "ipython3",
   "version": "3.10.5"
  }
 },
 "nbformat": 4,
 "nbformat_minor": 5
}
