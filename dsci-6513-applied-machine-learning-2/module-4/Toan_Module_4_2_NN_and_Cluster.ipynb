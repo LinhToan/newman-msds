{
  "cells": [
    {
      "cell_type": "markdown",
      "metadata": {
        "id": "d7NTjmnkr18Q"
      },
      "source": [
        "# Clustering and Neural Networks Application — STARTER NOTEBOOK\n",
        "\n",
        "**Applied Machine Learning 2 @ Newman University**\n",
        "\n",
        "*Prof. Ricky Boyer*\n",
        "\n",
        "**Linh Toan**"
      ]
    },
    {
      "cell_type": "markdown",
      "metadata": {
        "deletable": false,
        "editable": false,
        "id": "2uSMRM6fr18T"
      },
      "source": [
        "Before getting started, you may notice that this notebook adds up to a total of `450 points`, rather than the typical 350. In order to get the full points for this lesson, you only need do enough to yield the `350 points`, however if you do complete the whole notebook, you will receive all the points you earned, giving you a maximum of **`100 bonus points`**. This will be appliead right on top of the notebook, giving the opportunity to mitigate any lost points on other assignments or self-assessments.\n",
        "\n",
        "As always, best of luck. You've got this."
      ]
    },
    {
      "cell_type": "markdown",
      "metadata": {
        "deletable": false,
        "editable": false,
        "id": "_1Y343V_r18U"
      },
      "source": [
        "# Part 1: Regression via Neural Network\n",
        "\n",
        "You'll remember that we began this journey of Applied Machine Learning 2 by outlining all the different limitations of linear regression. In this assignment, we'll consider the following supervised form of the neural network task. Suppose you have\n",
        "\n",
        "- a set of observations, $u$, and\n",
        "- a target variable $y$.\n",
        "\n",
        "While neural networks can be very complicated, having entire branches of computer science devoted to individualized applications of them, our goal is to give a basic overview through application to a standard regression problem.\n",
        "\n",
        "> **Note:** Neural networks have broad and far reaching applications. They are capable of solving problems from regression, classification, reinforcement learning, predictive maintenance, generative AI, and so on.\n",
        "\n",
        "In it's most basic form, all neural networks look like the following with inputs, outputs, weights, biases, activation functions, and neurons.\n",
        "\n",
        "Each oval in the above graph represents a neuron, and the output of the neuron is calculated as shown below. In simple terms, the output of a neuron is the weighted value of its inputs, with and added bias, passed through what is known as an activation function. The function shown in the picture is known as a logistic or sigmoid function.\n",
        "\n",
        "The above example uses the simoid function to illustrate that when an input passes through each layer of neurons, the signal is transformed via the activation function. The input signal of the activation function represents the $x$ value of the activation function, where it is solved, creating $f$($x$) in the output signal. There are a wide variety of functions that can be used, but the general idea is that each individual neuron contains a simple function for transformation of the input. We then stack these together in layers, apply weights and biases through backpropagation, and sum the total results. Check out the most commonly used activation functions below:"
      ]
    },
    {
      "cell_type": "markdown",
      "metadata": {
        "deletable": false,
        "editable": false,
        "id": "kg1uz5_3r18V"
      },
      "source": [
        "## Setup: Dataset\n",
        "\n",
        "As always, let's start by pulling in some data. The following cell will download the data you'll need for this lab. Run it now."
      ]
    },
    {
      "cell_type": "code",
      "execution_count": null,
      "metadata": {
        "deletable": false,
        "editable": false,
        "id": "-sW64Z_3r18V",
        "outputId": "f45690cb-835c-419a-fc5b-cf3d90239875",
        "colab": {
          "base_uri": "https://localhost:8080/"
        }
      },
      "outputs": [
        {
          "output_type": "stream",
          "name": "stdout",
          "text": [
            "Downloading: https://raw.githubusercontent.com/boyerr111/newmanu_AML2/master/datasets/logreg_points_train.csv ...\n",
            "'logreg_points_train.csv' is ready!\n",
            "Downloading: https://raw.githubusercontent.com/boyerr111/newmanu_AML2/master/datasets/centers_initial_testing.npy ...\n",
            "'centers_initial_testing.npy' is ready!\n",
            "Downloading: https://raw.githubusercontent.com/boyerr111/newmanu_AML2/master/datasets/compute_d2_soln.npy ...\n",
            "'compute_d2_soln.npy' is ready!\n",
            "Downloading: https://raw.githubusercontent.com/boyerr111/newmanu_AML2/master/datasets/y_test3.npy ...\n",
            "'y_test3.npy' is ready!\n",
            "Downloading: https://raw.githubusercontent.com/boyerr111/newmanu_AML2/master/datasets/centers_test3_soln.npy ...\n",
            "'centers_test3_soln.npy' is ready!\n",
            "Downloading: https://raw.githubusercontent.com/boyerr111/newmanu_AML2/master/datasets/assign_cluster_labels_S.npy ...\n",
            "'assign_cluster_labels_S.npy' is ready!\n",
            "Downloading: https://raw.githubusercontent.com/boyerr111/newmanu_AML2/master/datasets/assign_cluster_labels_soln.npy ...\n",
            "'assign_cluster_labels_soln.npy' is ready!\n",
            "\n",
            "(All data appears to be ready.)\n"
          ]
        }
      ],
      "source": [
        "import requests\n",
        "import os\n",
        "import hashlib\n",
        "import io\n",
        "import numpy as np\n",
        "import matplotlib.pyplot as plt\n",
        "%matplotlib inline\n",
        "\n",
        "def download(file, local_dir=\"\", url_base=None, checksum=None):\n",
        "    local_file = \"{}{}\".format(local_dir, file)\n",
        "    if not os.path.exists(local_file):\n",
        "        url = \"{}{}\".format(url_base, file)\n",
        "        print(\"Downloading: {} ...\".format(url))\n",
        "        r = requests.get(url)\n",
        "        with open(local_file, 'wb') as f:\n",
        "            f.write(r.content)\n",
        "\n",
        "    if checksum is not None:\n",
        "        with io.open(local_file, 'rb') as f:\n",
        "            body = f.read()\n",
        "            body_checksum = hashlib.md5(body).hexdigest()\n",
        "            assert body_checksum == checksum, \\\n",
        "                \"Downloaded file '{}' has incorrect checksum: '{}' instead of '{}'\".format(local_file,\n",
        "                                                                                           body_checksum,\n",
        "                                                                                           checksum)\n",
        "    print(\"'{}' is ready!\".format(file))\n",
        "\n",
        "URL_BASE = \"https://raw.githubusercontent.com/boyerr111/newmanu_AML2/master/datasets/\"\n",
        "DATA_PATH = \"\"\n",
        "\n",
        "datasets = {'logreg_points_train.csv': '9d1e42f49a719da43113678732491c6d',\n",
        "            'centers_initial_testing.npy': '8884b4af540c1d5119e6e8980da43f04',\n",
        "            'compute_d2_soln.npy': '980fe348b6cba23cb81ddf703494fb4c',\n",
        "            'y_test3.npy': 'df322037ea9c523564a5018ea0a70fbf',\n",
        "            'centers_test3_soln.npy': '0c594b28e512a532a2ef4201535868b5',\n",
        "            'assign_cluster_labels_S.npy': '37e464f2b79dc1d59f5ec31eaefe4161',\n",
        "            'assign_cluster_labels_soln.npy': 'fc0e084ac000f30948946d097ed85ebc'}\n",
        "\n",
        "for filename, checksum in datasets.items():\n",
        "    download(filename, local_dir=DATA_PATH, url_base=URL_BASE, checksum=checksum)\n",
        "\n",
        "\n",
        "\n",
        "print(\"\\n(All data appears to be ready.)\")"
      ]
    },
    {
      "cell_type": "code",
      "source": [
        "import pandas as pd\n",
        "x = pd.read_csv('./logreg_points_train.csv')\n",
        "x.head()"
      ],
      "metadata": {
        "colab": {
          "base_uri": "https://localhost:8080/",
          "height": 206
        },
        "id": "JSqOQCHXpWgE",
        "outputId": "ce85b932-877c-47e5-dc84-9dcb4822a3ad"
      },
      "execution_count": null,
      "outputs": [
        {
          "output_type": "execute_result",
          "data": {
            "text/plain": [
              "        x_1       x_2  label\n",
              "0 -0.234443 -1.075960      1\n",
              "1  0.730359 -0.918093      0\n",
              "2  1.432270 -0.439449      0\n",
              "3  0.026733  1.050300      0\n",
              "4  1.879650  0.207743      0"
            ],
            "text/html": [
              "\n",
              "  <div id=\"df-07a8b981-4789-4926-94a5-3df36880cc56\" class=\"colab-df-container\">\n",
              "    <div>\n",
              "<style scoped>\n",
              "    .dataframe tbody tr th:only-of-type {\n",
              "        vertical-align: middle;\n",
              "    }\n",
              "\n",
              "    .dataframe tbody tr th {\n",
              "        vertical-align: top;\n",
              "    }\n",
              "\n",
              "    .dataframe thead th {\n",
              "        text-align: right;\n",
              "    }\n",
              "</style>\n",
              "<table border=\"1\" class=\"dataframe\">\n",
              "  <thead>\n",
              "    <tr style=\"text-align: right;\">\n",
              "      <th></th>\n",
              "      <th>x_1</th>\n",
              "      <th>x_2</th>\n",
              "      <th>label</th>\n",
              "    </tr>\n",
              "  </thead>\n",
              "  <tbody>\n",
              "    <tr>\n",
              "      <th>0</th>\n",
              "      <td>-0.234443</td>\n",
              "      <td>-1.075960</td>\n",
              "      <td>1</td>\n",
              "    </tr>\n",
              "    <tr>\n",
              "      <th>1</th>\n",
              "      <td>0.730359</td>\n",
              "      <td>-0.918093</td>\n",
              "      <td>0</td>\n",
              "    </tr>\n",
              "    <tr>\n",
              "      <th>2</th>\n",
              "      <td>1.432270</td>\n",
              "      <td>-0.439449</td>\n",
              "      <td>0</td>\n",
              "    </tr>\n",
              "    <tr>\n",
              "      <th>3</th>\n",
              "      <td>0.026733</td>\n",
              "      <td>1.050300</td>\n",
              "      <td>0</td>\n",
              "    </tr>\n",
              "    <tr>\n",
              "      <th>4</th>\n",
              "      <td>1.879650</td>\n",
              "      <td>0.207743</td>\n",
              "      <td>0</td>\n",
              "    </tr>\n",
              "  </tbody>\n",
              "</table>\n",
              "</div>\n",
              "    <div class=\"colab-df-buttons\">\n",
              "\n",
              "  <div class=\"colab-df-container\">\n",
              "    <button class=\"colab-df-convert\" onclick=\"convertToInteractive('df-07a8b981-4789-4926-94a5-3df36880cc56')\"\n",
              "            title=\"Convert this dataframe to an interactive table.\"\n",
              "            style=\"display:none;\">\n",
              "\n",
              "  <svg xmlns=\"http://www.w3.org/2000/svg\" height=\"24px\" viewBox=\"0 -960 960 960\">\n",
              "    <path d=\"M120-120v-720h720v720H120Zm60-500h600v-160H180v160Zm220 220h160v-160H400v160Zm0 220h160v-160H400v160ZM180-400h160v-160H180v160Zm440 0h160v-160H620v160ZM180-180h160v-160H180v160Zm440 0h160v-160H620v160Z\"/>\n",
              "  </svg>\n",
              "    </button>\n",
              "\n",
              "  <style>\n",
              "    .colab-df-container {\n",
              "      display:flex;\n",
              "      gap: 12px;\n",
              "    }\n",
              "\n",
              "    .colab-df-convert {\n",
              "      background-color: #E8F0FE;\n",
              "      border: none;\n",
              "      border-radius: 50%;\n",
              "      cursor: pointer;\n",
              "      display: none;\n",
              "      fill: #1967D2;\n",
              "      height: 32px;\n",
              "      padding: 0 0 0 0;\n",
              "      width: 32px;\n",
              "    }\n",
              "\n",
              "    .colab-df-convert:hover {\n",
              "      background-color: #E2EBFA;\n",
              "      box-shadow: 0px 1px 2px rgba(60, 64, 67, 0.3), 0px 1px 3px 1px rgba(60, 64, 67, 0.15);\n",
              "      fill: #174EA6;\n",
              "    }\n",
              "\n",
              "    .colab-df-buttons div {\n",
              "      margin-bottom: 4px;\n",
              "    }\n",
              "\n",
              "    [theme=dark] .colab-df-convert {\n",
              "      background-color: #3B4455;\n",
              "      fill: #D2E3FC;\n",
              "    }\n",
              "\n",
              "    [theme=dark] .colab-df-convert:hover {\n",
              "      background-color: #434B5C;\n",
              "      box-shadow: 0px 1px 3px 1px rgba(0, 0, 0, 0.15);\n",
              "      filter: drop-shadow(0px 1px 2px rgba(0, 0, 0, 0.3));\n",
              "      fill: #FFFFFF;\n",
              "    }\n",
              "  </style>\n",
              "\n",
              "    <script>\n",
              "      const buttonEl =\n",
              "        document.querySelector('#df-07a8b981-4789-4926-94a5-3df36880cc56 button.colab-df-convert');\n",
              "      buttonEl.style.display =\n",
              "        google.colab.kernel.accessAllowed ? 'block' : 'none';\n",
              "\n",
              "      async function convertToInteractive(key) {\n",
              "        const element = document.querySelector('#df-07a8b981-4789-4926-94a5-3df36880cc56');\n",
              "        const dataTable =\n",
              "          await google.colab.kernel.invokeFunction('convertToInteractive',\n",
              "                                                    [key], {});\n",
              "        if (!dataTable) return;\n",
              "\n",
              "        const docLinkHtml = 'Like what you see? Visit the ' +\n",
              "          '<a target=\"_blank\" href=https://colab.research.google.com/notebooks/data_table.ipynb>data table notebook</a>'\n",
              "          + ' to learn more about interactive tables.';\n",
              "        element.innerHTML = '';\n",
              "        dataTable['output_type'] = 'display_data';\n",
              "        await google.colab.output.renderOutput(dataTable, element);\n",
              "        const docLink = document.createElement('div');\n",
              "        docLink.innerHTML = docLinkHtml;\n",
              "        element.appendChild(docLink);\n",
              "      }\n",
              "    </script>\n",
              "  </div>\n",
              "\n",
              "\n",
              "<div id=\"df-e40ede65-2017-4d9f-b7ee-527c9a77d3be\">\n",
              "  <button class=\"colab-df-quickchart\" onclick=\"quickchart('df-e40ede65-2017-4d9f-b7ee-527c9a77d3be')\"\n",
              "            title=\"Suggest charts\"\n",
              "            style=\"display:none;\">\n",
              "\n",
              "<svg xmlns=\"http://www.w3.org/2000/svg\" height=\"24px\"viewBox=\"0 0 24 24\"\n",
              "     width=\"24px\">\n",
              "    <g>\n",
              "        <path d=\"M19 3H5c-1.1 0-2 .9-2 2v14c0 1.1.9 2 2 2h14c1.1 0 2-.9 2-2V5c0-1.1-.9-2-2-2zM9 17H7v-7h2v7zm4 0h-2V7h2v10zm4 0h-2v-4h2v4z\"/>\n",
              "    </g>\n",
              "</svg>\n",
              "  </button>\n",
              "\n",
              "<style>\n",
              "  .colab-df-quickchart {\n",
              "      --bg-color: #E8F0FE;\n",
              "      --fill-color: #1967D2;\n",
              "      --hover-bg-color: #E2EBFA;\n",
              "      --hover-fill-color: #174EA6;\n",
              "      --disabled-fill-color: #AAA;\n",
              "      --disabled-bg-color: #DDD;\n",
              "  }\n",
              "\n",
              "  [theme=dark] .colab-df-quickchart {\n",
              "      --bg-color: #3B4455;\n",
              "      --fill-color: #D2E3FC;\n",
              "      --hover-bg-color: #434B5C;\n",
              "      --hover-fill-color: #FFFFFF;\n",
              "      --disabled-bg-color: #3B4455;\n",
              "      --disabled-fill-color: #666;\n",
              "  }\n",
              "\n",
              "  .colab-df-quickchart {\n",
              "    background-color: var(--bg-color);\n",
              "    border: none;\n",
              "    border-radius: 50%;\n",
              "    cursor: pointer;\n",
              "    display: none;\n",
              "    fill: var(--fill-color);\n",
              "    height: 32px;\n",
              "    padding: 0;\n",
              "    width: 32px;\n",
              "  }\n",
              "\n",
              "  .colab-df-quickchart:hover {\n",
              "    background-color: var(--hover-bg-color);\n",
              "    box-shadow: 0 1px 2px rgba(60, 64, 67, 0.3), 0 1px 3px 1px rgba(60, 64, 67, 0.15);\n",
              "    fill: var(--button-hover-fill-color);\n",
              "  }\n",
              "\n",
              "  .colab-df-quickchart-complete:disabled,\n",
              "  .colab-df-quickchart-complete:disabled:hover {\n",
              "    background-color: var(--disabled-bg-color);\n",
              "    fill: var(--disabled-fill-color);\n",
              "    box-shadow: none;\n",
              "  }\n",
              "\n",
              "  .colab-df-spinner {\n",
              "    border: 2px solid var(--fill-color);\n",
              "    border-color: transparent;\n",
              "    border-bottom-color: var(--fill-color);\n",
              "    animation:\n",
              "      spin 1s steps(1) infinite;\n",
              "  }\n",
              "\n",
              "  @keyframes spin {\n",
              "    0% {\n",
              "      border-color: transparent;\n",
              "      border-bottom-color: var(--fill-color);\n",
              "      border-left-color: var(--fill-color);\n",
              "    }\n",
              "    20% {\n",
              "      border-color: transparent;\n",
              "      border-left-color: var(--fill-color);\n",
              "      border-top-color: var(--fill-color);\n",
              "    }\n",
              "    30% {\n",
              "      border-color: transparent;\n",
              "      border-left-color: var(--fill-color);\n",
              "      border-top-color: var(--fill-color);\n",
              "      border-right-color: var(--fill-color);\n",
              "    }\n",
              "    40% {\n",
              "      border-color: transparent;\n",
              "      border-right-color: var(--fill-color);\n",
              "      border-top-color: var(--fill-color);\n",
              "    }\n",
              "    60% {\n",
              "      border-color: transparent;\n",
              "      border-right-color: var(--fill-color);\n",
              "    }\n",
              "    80% {\n",
              "      border-color: transparent;\n",
              "      border-right-color: var(--fill-color);\n",
              "      border-bottom-color: var(--fill-color);\n",
              "    }\n",
              "    90% {\n",
              "      border-color: transparent;\n",
              "      border-bottom-color: var(--fill-color);\n",
              "    }\n",
              "  }\n",
              "</style>\n",
              "\n",
              "  <script>\n",
              "    async function quickchart(key) {\n",
              "      const quickchartButtonEl =\n",
              "        document.querySelector('#' + key + ' button');\n",
              "      quickchartButtonEl.disabled = true;  // To prevent multiple clicks.\n",
              "      quickchartButtonEl.classList.add('colab-df-spinner');\n",
              "      try {\n",
              "        const charts = await google.colab.kernel.invokeFunction(\n",
              "            'suggestCharts', [key], {});\n",
              "      } catch (error) {\n",
              "        console.error('Error during call to suggestCharts:', error);\n",
              "      }\n",
              "      quickchartButtonEl.classList.remove('colab-df-spinner');\n",
              "      quickchartButtonEl.classList.add('colab-df-quickchart-complete');\n",
              "    }\n",
              "    (() => {\n",
              "      let quickchartButtonEl =\n",
              "        document.querySelector('#df-e40ede65-2017-4d9f-b7ee-527c9a77d3be button');\n",
              "      quickchartButtonEl.style.display =\n",
              "        google.colab.kernel.accessAllowed ? 'block' : 'none';\n",
              "    })();\n",
              "  </script>\n",
              "</div>\n",
              "\n",
              "    </div>\n",
              "  </div>\n"
            ],
            "application/vnd.google.colaboratory.intrinsic+json": {
              "type": "dataframe",
              "variable_name": "x",
              "summary": "{\n  \"name\": \"x\",\n  \"rows\": 375,\n  \"fields\": [\n    {\n      \"column\": \"x_1\",\n      \"properties\": {\n        \"dtype\": \"number\",\n        \"std\": 0.7364981839626461,\n        \"min\": -1.01656,\n        \"max\": 2.09811,\n        \"num_unique_values\": 374,\n        \"samples\": [\n          1.29983,\n          -0.53968,\n          0.682025\n        ],\n        \"semantic_type\": \"\",\n        \"description\": \"\"\n      }\n    },\n    {\n      \"column\": \"x_2\",\n      \"properties\": {\n        \"dtype\": \"number\",\n        \"std\": 1.0757635116856148,\n        \"min\": -3.28461,\n        \"max\": 2.50672,\n        \"num_unique_values\": 375,\n        \"samples\": [\n          -2.33617,\n          -0.929356,\n          1.38689\n        ],\n        \"semantic_type\": \"\",\n        \"description\": \"\"\n      }\n    },\n    {\n      \"column\": \"label\",\n      \"properties\": {\n        \"dtype\": \"number\",\n        \"std\": 0,\n        \"min\": 0,\n        \"max\": 1,\n        \"num_unique_values\": 2,\n        \"samples\": [\n          0,\n          1\n        ],\n        \"semantic_type\": \"\",\n        \"description\": \"\"\n      }\n    }\n  ]\n}"
            }
          },
          "metadata": {},
          "execution_count": 3
        }
      ]
    },
    {
      "cell_type": "markdown",
      "metadata": {
        "deletable": false,
        "editable": false,
        "id": "Jx-wWqE7r18X"
      },
      "source": [
        "Let's make a quick dataset to demonstrate the power of neural networks."
      ]
    },
    {
      "cell_type": "code",
      "execution_count": null,
      "metadata": {
        "deletable": false,
        "editable": false,
        "id": "-_yPDCpVr18X",
        "colab": {
          "base_uri": "https://localhost:8080/",
          "height": 448
        },
        "outputId": "37da7978-a12b-486e-fe2b-02d218383155"
      },
      "outputs": [
        {
          "output_type": "execute_result",
          "data": {
            "text/plain": [
              "<matplotlib.collections.PathCollection at 0x78a5220d6140>"
            ]
          },
          "metadata": {},
          "execution_count": 5
        },
        {
          "output_type": "display_data",
          "data": {
            "text/plain": [
              "<Figure size 640x480 with 1 Axes>"
            ],
            "image/png": "[encoded data removed]"
          },
          "metadata": {}
        }
      ],
      "source": [
        "u = np.linspace(-1, 1)\n",
        "y = np.sin(u*np.pi)*0.8 + np.random.randn(len(u), )*0.05\n",
        "plt.scatter(u, y)"
      ]
    },
    {
      "cell_type": "markdown",
      "metadata": {
        "deletable": false,
        "editable": false,
        "id": "P0UI9bCvr18X"
      },
      "source": [
        "As you can imagine, a line of best fit created via a linear regression function would pass through with an equation like $y$ = $x$, which make be the best fit that a straight line have, but that doesn't necessarily make it a *good* fit. We can likely do better by allowing for bending in the line. In large part, this is what neural networks excel at when used in a regressive application."
      ]
    },
    {
      "cell_type": "markdown",
      "metadata": {
        "deletable": false,
        "editable": false,
        "id": "_iRBYDVWr18Y"
      },
      "source": [
        "## Initializing our Network\n",
        "\n",
        "\n",
        "We will build our own network in this example to regress a one dimensional function. This means we will only have one input ($u$), and one output ($y$), but should be a step-by-step guide to building a network. First we need to create our layer of hidden neurons."
      ]
    },
    {
      "cell_type": "markdown",
      "metadata": {
        "deletable": false,
        "editable": false,
        "id": "tWCWo16Wr18Z"
      },
      "source": [
        "**Exercise 0** (`hneurons_test`: 20 points). Create a variable `hneurons`, by assigning an integer between 1 and 10."
      ]
    },
    {
      "cell_type": "code",
      "execution_count": null,
      "metadata": {
        "id": "RoxRx-Xvr18b"
      },
      "outputs": [],
      "source": [
        "hneurons = 3"
      ]
    },
    {
      "cell_type": "code",
      "execution_count": null,
      "metadata": {
        "deletable": false,
        "editable": false,
        "id": "wBJW0Lemr18b",
        "colab": {
          "base_uri": "https://localhost:8080/"
        },
        "outputId": "241bf51e-a1a2-47df-a8b1-5bdeaa011f22"
      },
      "outputs": [
        {
          "output_type": "stream",
          "name": "stdout",
          "text": [
            "\n",
            "(Passed! Congrats you got 20 points!)\n"
          ]
        }
      ],
      "source": [
        "# Test cell: `hneurons_test`\n",
        "\n",
        "assert type(hneurons) is int, \"Your variable should be an integer instead of a {}\".format(type(hneurons))\n",
        "assert 1 < hneurons < 10, \"Your variable should be greater than 1 and less than 10\"\n",
        "\n",
        "print(\"\\n(Passed! Congrats you got 20 points!)\")"
      ]
    },
    {
      "cell_type": "markdown",
      "metadata": {
        "deletable": false,
        "editable": false,
        "id": "Oy5eCSoyr18b"
      },
      "source": [
        "Next we need to set some initialize some biases. As we have not done backpropagation yet, it doesn't matter what the biases are, we just need somewhere to start!\n",
        "\n",
        "We'll also need to do the same with the weights."
      ]
    },
    {
      "cell_type": "markdown",
      "metadata": {
        "deletable": false,
        "editable": false,
        "id": "IRezjpHIr18b"
      },
      "source": [
        "**Exercise 1** (`hbias_obias_test`: 30 points). Create two bias variables, one for the hidden layer (`h_bias`) and one for the output layer (`o_bias`), using numpy's [`randn()`](https://numpy.org/doc/stable/reference/random/generated/numpy.random.randn.html) function.\n",
        "\n",
        "> Hint: These can be basically any number, but if you use the function correctly, they'll each be a single float."
      ]
    },
    {
      "cell_type": "code",
      "execution_count": null,
      "metadata": {
        "id": "hWAnozXxr18c"
      },
      "outputs": [],
      "source": [
        "h_bias = np.random.random()\n",
        "o_bias = np.random.random()"
      ]
    },
    {
      "cell_type": "code",
      "execution_count": null,
      "metadata": {
        "deletable": false,
        "editable": false,
        "id": "pnvFGD6tr18c",
        "colab": {
          "base_uri": "https://localhost:8080/"
        },
        "outputId": "5ce902dd-7e1d-4bab-e52b-e32f08d1ee24"
      },
      "outputs": [
        {
          "output_type": "stream",
          "name": "stdout",
          "text": [
            "0.6259349153930295 0.4929569722687529\n",
            "\n",
            "(Passed! Congrats you got 30 points!)\n"
          ]
        }
      ],
      "source": [
        "# Test cell: `hbias_obias_test`\n",
        "print(h_bias, o_bias)\n",
        "assert type(h_bias) is float and type(o_bias) is float, \"Your variables should be floats instead of a {}\".format(type(h_bias))\n",
        "\n",
        "print(\"\\n(Passed! Congrats you got 30 points!)\")"
      ]
    },
    {
      "cell_type": "markdown",
      "metadata": {
        "deletable": false,
        "editable": false,
        "id": "Htr40FOXr18c"
      },
      "source": [
        "**Exercise 2** (`weights_test`: 30 points). Similarly, create two weight arrays, one for between the input/hidden layer (`w_in_hid`) and one for the output layer (`w_hid_out`), using numpy's [`randn()`](https://numpy.org/doc/stable/reference/random/generated/numpy.random.randn.html) function.\n",
        "\n",
        ">Hint: Since you need a value for each available connection between layers, this time a correct implementation will yield an array of length `hneurons`."
      ]
    },
    {
      "cell_type": "code",
      "execution_count": null,
      "metadata": {
        "id": "0ndLNXwFr18c"
      },
      "outputs": [],
      "source": [
        "w_in_hid = np.random.randn(hneurons)\n",
        "w_hid_out = np.random.randn(hneurons)"
      ]
    },
    {
      "cell_type": "code",
      "execution_count": null,
      "metadata": {
        "deletable": false,
        "editable": false,
        "id": "1hRPfc32r18d",
        "colab": {
          "base_uri": "https://localhost:8080/"
        },
        "outputId": "48a2c7f4-9b81-41ce-a2b6-17d14d5247e9"
      },
      "outputs": [
        {
          "output_type": "stream",
          "name": "stdout",
          "text": [
            "[-1.17120408  1.29347228  1.47674576] [-0.33149007 -0.28109457  0.786946  ]\n",
            "\n",
            "(Passed! Congrats you got 30 points!)\n"
          ]
        }
      ],
      "source": [
        "# Test cell: `weights_test`\n",
        "print(w_in_hid, w_hid_out)\n",
        "test = np.zeros((hneurons,))\n",
        "assert w_in_hid.shape == test.shape and w_hid_out.shape == test.shape, \"Your arrays should have a shape of {}\".format(test.shape)\n",
        "\n",
        "print(\"\\n(Passed! Congrats you got 30 points!)\")"
      ]
    },
    {
      "cell_type": "markdown",
      "metadata": {
        "deletable": false,
        "editable": false,
        "id": "d87nN8o9r18d"
      },
      "source": [
        "## Activating our Network\n",
        "Now we need to set up the activation function that will define our hidden layer. Let's experiment with a sigmoid function."
      ]
    },
    {
      "cell_type": "markdown",
      "metadata": {
        "deletable": false,
        "editable": false,
        "id": "O8uW4kyHr18d"
      },
      "source": [
        "**Exercise 3** (`sigmoid_test`: 30 points). Complete the below function such that it represents the mathematical sigmoid function, taking input `i` and outputting a transformed value.\n",
        "\n",
        ">Remember that your fully defined formula will need a return function"
      ]
    },
    {
      "cell_type": "code",
      "source": [
        "import math as m"
      ],
      "metadata": {
        "id": "8HcCQMM81rqm"
      },
      "execution_count": null,
      "outputs": []
    },
    {
      "cell_type": "code",
      "execution_count": null,
      "metadata": {
        "id": "C2-HHQVWr18e"
      },
      "outputs": [],
      "source": [
        "def sigmoid(i):\n",
        "    s = 1 / (1 + m.exp(-i))\n",
        "    return s"
      ]
    },
    {
      "cell_type": "code",
      "execution_count": null,
      "metadata": {
        "deletable": false,
        "editable": false,
        "id": "lwWL0OKLr18e",
        "colab": {
          "base_uri": "https://localhost:8080/",
          "height": 221
        },
        "outputId": "67e3f407-db86-4f01-ffe2-82079254df56"
      },
      "outputs": [
        {
          "output_type": "error",
          "ename": "AssertionError",
          "evalue": "Your output is yielding the sigmoid results",
          "traceback": [
            "\u001b[0;31m---------------------------------------------------------------------------\u001b[0m",
            "\u001b[0;31mAssertionError\u001b[0m                            Traceback (most recent call last)",
            "\u001b[0;32m<ipython-input-22-b6360fc18aa8>\u001b[0m in \u001b[0;36m<cell line: 7>\u001b[0;34m()\u001b[0m\n\u001b[1;32m      5\u001b[0m \u001b[0;32mfor\u001b[0m \u001b[0mi\u001b[0m \u001b[0;32min\u001b[0m \u001b[0msig_test\u001b[0m\u001b[0;34m:\u001b[0m\u001b[0;34m\u001b[0m\u001b[0;34m\u001b[0m\u001b[0m\n\u001b[1;32m      6\u001b[0m     \u001b[0ma\u001b[0m\u001b[0;34m.\u001b[0m\u001b[0mappend\u001b[0m\u001b[0;34m(\u001b[0m\u001b[0msigmoid\u001b[0m\u001b[0;34m(\u001b[0m\u001b[0mi\u001b[0m\u001b[0;34m)\u001b[0m\u001b[0;34m)\u001b[0m\u001b[0;34m\u001b[0m\u001b[0;34m\u001b[0m\u001b[0m\n\u001b[0;32m----> 7\u001b[0;31m \u001b[0;32massert\u001b[0m \u001b[0mnp\u001b[0m\u001b[0;34m.\u001b[0m\u001b[0mallclose\u001b[0m\u001b[0;34m(\u001b[0m\u001b[0ma\u001b[0m\u001b[0;34m,\u001b[0m \u001b[0mb\u001b[0m\u001b[0;34m)\u001b[0m\u001b[0;34m,\u001b[0m \u001b[0;34m\"Your output is yielding the sigmoid results\"\u001b[0m\u001b[0;34m\u001b[0m\u001b[0;34m\u001b[0m\u001b[0m\n\u001b[0m\u001b[1;32m      8\u001b[0m \u001b[0;34m\u001b[0m\u001b[0m\n\u001b[1;32m      9\u001b[0m \u001b[0mprint\u001b[0m\u001b[0;34m(\u001b[0m\u001b[0;34m\"\\n(Passed! Congrats you got 30 points!)\"\u001b[0m\u001b[0;34m)\u001b[0m\u001b[0;34m\u001b[0m\u001b[0;34m\u001b[0m\u001b[0m\n",
            "\u001b[0;31mAssertionError\u001b[0m: Your output is yielding the sigmoid results"
          ]
        }
      ],
      "source": [
        "# Test cell: `sigmoid_test`\n",
        "sig_test = [-3, -2, -1, 0, 1, 2, 3]\n",
        "b = [-0.9051482536448664, -0.7615941559557649, -0.46211715726000974, 0.0, 0.46211715726000974, 0.7615941559557649, 0.9051482536448665]\n",
        "a=[]\n",
        "for i in sig_test:\n",
        "    a.append(sigmoid(i))\n",
        "assert np.allclose(a, b), \"Your output is yielding the sigmoid results\"\n",
        "\n",
        "print(\"\\n(Passed! Congrats you got 30 points!)\")"
      ]
    },
    {
      "cell_type": "markdown",
      "metadata": {
        "deletable": false,
        "editable": false,
        "id": "xdfCX_p5r18e"
      },
      "source": [
        "## Putting it Together\n",
        "We should have almost all the pieces we need! Now let's put everything together, and calculate the sum for y.\n",
        "\n",
        "Here is what we know happens in each layer:\n",
        "- Hidden Layer\n",
        "    - Multiply the weight `w_in_hid` by input `u`\n",
        "    - Add our bias `h_bias`\n",
        "    - Apply the activation function to the above\n",
        "    - Save result as variable\n",
        "- Output Layer\n",
        "    - Multiply the weight `w_hid_out` by result of hidden layer\n",
        "    - Add our bias `o_bias`\n",
        "    - Apply the activation function to the above\n",
        "    - Sum all results of the above\n",
        "    - Output result as y"
      ]
    },
    {
      "cell_type": "markdown",
      "metadata": {
        "deletable": false,
        "editable": false,
        "id": "V4E4b_h2r18f"
      },
      "source": [
        "**Exercise 4** (`n_o_test`: 50 points). Complete the below function, given inputs $u$, `w_in_hid`, `w_hid_out`, `h_bias`, `o_bias` implements all the aforementioned steps in both the hidden layer and the output layer, outputting the final summed answer `y`."
      ]
    },
    {
      "cell_type": "code",
      "execution_count": null,
      "metadata": {
        "id": "94pSoBEor18f"
      },
      "outputs": [],
      "source": [
        "def network_output(u, w_in_hid, w_hid_out, h_bias, o_bias):\n",
        "    hidden_layer_input = np.dot(w_in_hid, u) + h_bias\n",
        "    hidden_layer_output = sigmoid(hidden_layer_input)\n",
        "\n",
        "    output_layer_input = np.dot(w_hid_out, hidden_layer_output) + o_bias\n",
        "    output_layer_output = sigmoid(output_layer_input)\n",
        "\n",
        "\n",
        "    y = np.sum(output_layer_output)\n",
        "\n",
        "    return y"
      ]
    },
    {
      "cell_type": "code",
      "execution_count": null,
      "metadata": {
        "deletable": false,
        "editable": false,
        "id": "Ak0pnH8mr18f",
        "colab": {
          "base_uri": "https://localhost:8080/"
        },
        "outputId": "dbcfa4e7-67a3-42b5-ae5d-da096a04d069"
      },
      "outputs": [
        {
          "output_type": "stream",
          "name": "stdout",
          "text": [
            "0.5841951004328227\n",
            "0.6302737385134084\n",
            "0.6692595685874094\n",
            "[0.5841951004328227, 0.6302737385134084, 0.6692595685874094]\n",
            "\n",
            "(Passed! Congrats you got 50 points!)\n"
          ]
        }
      ],
      "source": [
        "# Test cell: `n_o_test`\n",
        "n_o_test = [0.1, 0.2, 0.3]\n",
        "a=[]\n",
        "for u in n_o_test:\n",
        "    print(network_output(u, w_in_hid, w_hid_out, h_bias, o_bias))\n",
        "    assert .05 <= network_output(u, w_in_hid, w_hid_out, h_bias, o_bias) <= .95\n",
        "    a.append(network_output(u, w_in_hid, w_hid_out, h_bias, o_bias))\n",
        "\n",
        "print(a)\n",
        "print(\"\\n(Passed! Congrats you got 50 points!)\")"
      ]
    },
    {
      "cell_type": "code",
      "execution_count": null,
      "metadata": {
        "deletable": false,
        "editable": false,
        "id": "rzWe02Q_r18g",
        "colab": {
          "base_uri": "https://localhost:8080/",
          "height": 430
        },
        "outputId": "f961d1b1-aee5-4f0e-c7cb-b483006b808d"
      },
      "outputs": [
        {
          "output_type": "display_data",
          "data": {
            "text/plain": [
              "<Figure size 640x480 with 1 Axes>"
            ],
            "image/png": "[encoded data removed]"
          },
          "metadata": {}
        }
      ],
      "source": [
        "##Importing some more and creating helper functions for later\n",
        "import scipy.optimize\n",
        "import sklearn\n",
        "import sklearn.neural_network\n",
        "u = np.linspace(-1, 1)\n",
        "y = np.sin(u*np.pi)*0.8 + np.random.randn(len(u), )*0.05\n",
        "\n",
        "def pack(w_in_hid, w_hid_out, h_bias, o_bias):\n",
        "    return np.concatenate([w_in_hid,\n",
        "                              w_hid_out,\n",
        "                              np.array([h_bias]),\n",
        "                              np.array([o_bias])])\n",
        "\n",
        "def unpack(parameters):\n",
        "    parts = np.split(parameters, [hneurons, 2*hneurons, 2*hneurons + 1])\n",
        "    return parts\n",
        "\n",
        "p0 = pack(w_in_hid, w_hid_out, h_bias, o_bias)\n",
        "\n",
        "def predict(parameters, us):\n",
        "    w_in_hid, w_hid_out, h_bias, o_bias = unpack(parameters)\n",
        "    return np.array([network_output(u, w_in_hid, w_hid_out, h_bias, o_bias) for u in us])\n",
        "\n",
        "def plotfit(predictions):\n",
        "    plt.scatter(u, y, alpha=0.4)\n",
        "    plt.plot(u, predictions)\n",
        "\n",
        "def errorfunction(parameters):\n",
        "    return y - predict(parameters, u)\n",
        "\n",
        "plotfit(predict(p0, u))"
      ]
    },
    {
      "cell_type": "markdown",
      "metadata": {
        "deletable": false,
        "editable": false,
        "id": "jwyhJqmEr18g"
      },
      "source": [
        "## Backing it Up\n",
        "\n",
        "As stated earlier, and you saw through your implementation, we have chosen random weights and biases that are not optimized. As you can see, our current line is not much better than we could expect from a simple linear regression. However, we have much more to work with by adding the hidden layer!\n",
        "\n",
        "Using gradient descent, we can backpropagate the weights and biases with a function that minimizes the least squares, much like we did when creating our regression algorithm."
      ]
    },
    {
      "cell_type": "markdown",
      "metadata": {
        "deletable": false,
        "editable": false,
        "id": "3ftB1Fpcr18g"
      },
      "source": [
        "**Exercise 5** (`neural_test`: 30 points). Based on our objective of reducing the error function `errorfunction`, use the function [scipy.optimize.least_squares()](https://docs.scipy.org/doc/scipy/reference/generated/scipy.optimize.least_squares.html) using the `errorfunction` and our packed `p0` to create the `result` variable."
      ]
    },
    {
      "cell_type": "code",
      "execution_count": null,
      "metadata": {
        "id": "tqJ7Z0Pbr18h"
      },
      "outputs": [],
      "source": [
        "result = scipy.optimize.least_squares(errorfunction, p0)"
      ]
    },
    {
      "cell_type": "code",
      "execution_count": null,
      "metadata": {
        "deletable": false,
        "editable": false,
        "id": "bkGLEROar18h",
        "colab": {
          "base_uri": "https://localhost:8080/",
          "height": 485
        },
        "outputId": "cef9546a-d2ea-4600-adff-5e08ea6706e6"
      },
      "outputs": [
        {
          "output_type": "stream",
          "name": "stdout",
          "text": [
            "Sum of Squared Error:  0.1530060097482676\n",
            "\n",
            "(Passed! Congrats you got 30 points!)\n"
          ]
        },
        {
          "output_type": "display_data",
          "data": {
            "text/plain": [
              "<Figure size 640x480 with 1 Axes>"
            ],
            "image/png": "[encoded data removed]"
          },
          "metadata": {}
        }
      ],
      "source": [
        "# Test cell: `neural_test`\n",
        "squared_error = (predict(result.x, u) - y)**2\n",
        "print(\"Sum of Squared Error: \", squared_error.sum())\n",
        "assert squared_error.sum() < .3\n",
        "print(\"\\n(Passed! Congrats you got 30 points!)\")\n",
        "plotfit(predict(result.x, u))"
      ]
    },
    {
      "cell_type": "markdown",
      "metadata": {
        "deletable": false,
        "editable": false,
        "id": "LoV23ZChr18h"
      },
      "source": [
        "## Un-reinvernting the Wheel\n",
        "\n",
        "As you may be aware, there is already a function within scikit that runs a full neural network for regression problems. Check it out here: [MLPRegressor](https://scikit-learn.org/stable/modules/generated/sklearn.neural_network.MLPRegressor.html). We should try it out and see how it compares to our homebrewed algorithm!"
      ]
    },
    {
      "cell_type": "markdown",
      "metadata": {
        "deletable": false,
        "editable": false,
        "id": "ski7Hn5or18h"
      },
      "source": [
        "**Exercise 6** (`MLP_test`: 30 points). Use the `scikit.MLPRegressor` function to create the variable `MLP`. Set the maximum iterations to 1000, as to not take too long to run.\n",
        "\n",
        "> Note:  The sigmoid activation function is not an available option, but we'll want to use one that looks similar. Try the `tanh` function.\n",
        "\n",
        "> You may also need to experiment with which `solver` function works best for our purposes. There are only 3 options, so try them out and see which one you think fits best."
      ]
    },
    {
      "cell_type": "code",
      "source": [
        "from sklearn.neural_network import MLPRegressor"
      ],
      "metadata": {
        "id": "S-4oovrQ4xwZ"
      },
      "execution_count": null,
      "outputs": []
    },
    {
      "cell_type": "code",
      "execution_count": null,
      "metadata": {
        "id": "ZEzGYb9Jr18i",
        "colab": {
          "base_uri": "https://localhost:8080/",
          "height": 75
        },
        "outputId": "b5ec4601-7ebc-4a3a-8947-c7103a2038b2"
      },
      "outputs": [
        {
          "output_type": "execute_result",
          "data": {
            "text/plain": [
              "MLPRegressor(activation='tanh', max_iter=1000, solver='lbfgs')"
            ],
            "text/html": [
              "<style>#sk-container-id-9 {color: black;background-color: white;}#sk-container-id-9 pre{padding: 0;}#sk-container-id-9 div.sk-toggleable {background-color: white;}#sk-container-id-9 label.sk-toggleable__label {cursor: pointer;display: block;width: 100%;margin-bottom: 0;padding: 0.3em;box-sizing: border-box;text-align: center;}#sk-container-id-9 label.sk-toggleable__label-arrow:before {content: \"▸\";float: left;margin-right: 0.25em;color: #696969;}#sk-container-id-9 label.sk-toggleable__label-arrow:hover:before {color: black;}#sk-container-id-9 div.sk-estimator:hover label.sk-toggleable__label-arrow:before {color: black;}#sk-container-id-9 div.sk-toggleable__content {max-height: 0;max-width: 0;overflow: hidden;text-align: left;background-color: #f0f8ff;}#sk-container-id-9 div.sk-toggleable__content pre {margin: 0.2em;color: black;border-radius: 0.25em;background-color: #f0f8ff;}#sk-container-id-9 input.sk-toggleable__control:checked~div.sk-toggleable__content {max-height: 200px;max-width: 100%;overflow: auto;}#sk-container-id-9 input.sk-toggleable__control:checked~label.sk-toggleable__label-arrow:before {content: \"▾\";}#sk-container-id-9 div.sk-estimator input.sk-toggleable__control:checked~label.sk-toggleable__label {background-color: #d4ebff;}#sk-container-id-9 div.sk-label input.sk-toggleable__control:checked~label.sk-toggleable__label {background-color: #d4ebff;}#sk-container-id-9 input.sk-hidden--visually {border: 0;clip: rect(1px 1px 1px 1px);clip: rect(1px, 1px, 1px, 1px);height: 1px;margin: -1px;overflow: hidden;padding: 0;position: absolute;width: 1px;}#sk-container-id-9 div.sk-estimator {font-family: monospace;background-color: #f0f8ff;border: 1px dotted black;border-radius: 0.25em;box-sizing: border-box;margin-bottom: 0.5em;}#sk-container-id-9 div.sk-estimator:hover {background-color: #d4ebff;}#sk-container-id-9 div.sk-parallel-item::after {content: \"\";width: 100%;border-bottom: 1px solid gray;flex-grow: 1;}#sk-container-id-9 div.sk-label:hover label.sk-toggleable__label {background-color: #d4ebff;}#sk-container-id-9 div.sk-serial::before {content: \"\";position: absolute;border-left: 1px solid gray;box-sizing: border-box;top: 0;bottom: 0;left: 50%;z-index: 0;}#sk-container-id-9 div.sk-serial {display: flex;flex-direction: column;align-items: center;background-color: white;padding-right: 0.2em;padding-left: 0.2em;position: relative;}#sk-container-id-9 div.sk-item {position: relative;z-index: 1;}#sk-container-id-9 div.sk-parallel {display: flex;align-items: stretch;justify-content: center;background-color: white;position: relative;}#sk-container-id-9 div.sk-item::before, #sk-container-id-9 div.sk-parallel-item::before {content: \"\";position: absolute;border-left: 1px solid gray;box-sizing: border-box;top: 0;bottom: 0;left: 50%;z-index: -1;}#sk-container-id-9 div.sk-parallel-item {display: flex;flex-direction: column;z-index: 1;position: relative;background-color: white;}#sk-container-id-9 div.sk-parallel-item:first-child::after {align-self: flex-end;width: 50%;}#sk-container-id-9 div.sk-parallel-item:last-child::after {align-self: flex-start;width: 50%;}#sk-container-id-9 div.sk-parallel-item:only-child::after {width: 0;}#sk-container-id-9 div.sk-dashed-wrapped {border: 1px dashed gray;margin: 0 0.4em 0.5em 0.4em;box-sizing: border-box;padding-bottom: 0.4em;background-color: white;}#sk-container-id-9 div.sk-label label {font-family: monospace;font-weight: bold;display: inline-block;line-height: 1.2em;}#sk-container-id-9 div.sk-label-container {text-align: center;}#sk-container-id-9 div.sk-container {/* jupyter's `normalize.less` sets `[hidden] { display: none; }` but bootstrap.min.css set `[hidden] { display: none !important; }` so we also need the `!important` here to be able to override the default hidden behavior on the sphinx rendered scikit-learn.org. See: https://github.com/scikit-learn/scikit-learn/issues/21755 */display: inline-block !important;position: relative;}#sk-container-id-9 div.sk-text-repr-fallback {display: none;}</style><div id=\"sk-container-id-9\" class=\"sk-top-container\"><div class=\"sk-text-repr-fallback\"><pre>MLPRegressor(activation=&#x27;tanh&#x27;, max_iter=1000, solver=&#x27;lbfgs&#x27;)</pre><b>In a Jupyter environment, please rerun this cell to show the HTML representation or trust the notebook. <br />On GitHub, the HTML representation is unable to render, please try loading this page with nbviewer.org.</b></div><div class=\"sk-container\" hidden><div class=\"sk-item\"><div class=\"sk-estimator sk-toggleable\"><input class=\"sk-toggleable__control sk-hidden--visually\" id=\"sk-estimator-id-9\" type=\"checkbox\" checked><label for=\"sk-estimator-id-9\" class=\"sk-toggleable__label sk-toggleable__label-arrow\">MLPRegressor</label><div class=\"sk-toggleable__content\"><pre>MLPRegressor(activation=&#x27;tanh&#x27;, max_iter=1000, solver=&#x27;lbfgs&#x27;)</pre></div></div></div></div></div>"
            ]
          },
          "metadata": {},
          "execution_count": 49
        }
      ],
      "source": [
        "MLP = MLPRegressor(activation='tanh', solver='lbfgs', max_iter=1000)\n",
        "\n",
        "\n",
        "observations = np.atleast_2d(u).T\n",
        "MLP.fit(observations, y)"
      ]
    },
    {
      "cell_type": "code",
      "execution_count": null,
      "metadata": {
        "deletable": false,
        "editable": false,
        "id": "Z_U_uyOar18i",
        "colab": {
          "base_uri": "https://localhost:8080/",
          "height": 485
        },
        "outputId": "f66e6ee9-fc04-4ee0-8995-f5d808f80b89"
      },
      "outputs": [
        {
          "output_type": "stream",
          "name": "stdout",
          "text": [
            "Sum of Squared Error:  0.06822759442197503\n",
            "\n",
            "(Passed! Congrats you got 30 points!)\n"
          ]
        },
        {
          "output_type": "display_data",
          "data": {
            "text/plain": [
              "<Figure size 640x480 with 1 Axes>"
            ],
            "image/png": "[encoded data removed]"
          },
          "metadata": {}
        }
      ],
      "source": [
        "# Test cell: `MLP_test`\n",
        "# Tests that it uses sckit function and has 3 layers\n",
        "assert MLP.n_layers_ == 3, \"Your network should have 3 layers  instead of {}\".format(MLP.n_layers_)\n",
        "\n",
        "# Tests that has decent enough configuration\n",
        "sum_squared_error = (MLP.predict(observations)-y)**2\n",
        "print(\"Sum of Squared Error: \", sum_squared_error.sum())\n",
        "assert sum_squared_error.sum() < .20, \"Scikit's MLPRegressor should be getting a little closer than that. Sum or sqaured error should be less than .2\"\n",
        "print(\"\\n(Passed! Congrats you got 30 points!)\")\n",
        "plotfit(MLP.predict(observations))"
      ]
    },
    {
      "cell_type": "markdown",
      "metadata": {
        "deletable": false,
        "editable": false,
        "id": "mElT_Obur18i"
      },
      "source": [
        "Seems like ours was not quite as good as the Scikit function but not too bad for something that we cooked up in just a few weeks.\n",
        "\n",
        "**Impressive!** If you have made it this far, then you should be ready to move on to the next section!"
      ]
    },
    {
      "cell_type": "markdown",
      "metadata": {
        "deletable": false,
        "editable": false,
        "id": "oP6OjqpQr18i"
      },
      "source": [
        "# Part 2: Clustering via $k$-means\n",
        "\n",
        "In our previous course, we studied the classification problem using the logistic regression, XGBoost, and various other algorithms. Since we had labels for each data point, we regard the problem as one of _supervised learning_. However, in many applications, the data have no labels but we wish to discover possible labels (or other hidden patterns or structures). This problem is one of _unsupervised learning_. How can we approach such problems?\n",
        "\n",
        "**Clustering** is one class of unsupervised learning methods. In this assignment, we'll consider the following form of the clustering task. Suppose you are given\n",
        "\n",
        "- a set of observations, $X \\equiv \\{\\hat{x}_i \\,|\\, 0 \\leq i < n\\}$, and\n",
        "- a target number of _clusters_, $k$.\n",
        "\n",
        "Your goal is to partition the points into $k$ subsets, $C_0,\\dots, C_{k-1} \\subseteq X$, which are\n",
        "\n",
        "- disjoint, i.e., $i \\neq j \\implies C_i \\cap C_j = \\emptyset$;\n",
        "- but also complete, i.e., $C_0 \\cup C_1 \\cup \\cdots \\cup C_{k-1} = X$.\n",
        "\n",
        "Intuitively, each cluster should reflect some \"sensible\" grouping. Thus, we need to specify what constitutes such a grouping."
      ]
    },
    {
      "cell_type": "markdown",
      "metadata": {
        "deletable": false,
        "editable": false,
        "id": "BAomCSiTr18j"
      },
      "source": [
        "## The $k$-means clustering criterion\n",
        "\n",
        "Here is one way to measure the quality of a set of clusters. For each cluster $C$, consider its center $\\mu$ and measure the distance $\\|x-\\mu\\|$ of each observation $x \\in C$ to the center. Add these up for all points in the cluster; call this sum is the _within-cluster sum-of-squares (WCSS)_. Then, set as our goal to choose clusters that minimize the total WCSS over _all_ clusters.\n",
        "\n",
        "More formally, given a clustering $C = \\{C_0, C_1, \\ldots, C_{k-1}\\}$, let\n",
        "\n",
        "$$\n",
        "  \\mathrm{WCSS}(C) \\equiv \\sum_{i=0}^{k-1} \\sum_{x\\in C_i} \\|x - \\mu_i\\|^2,\n",
        "$$\n",
        "\n",
        "where $\\mu_i$ is the center of $C_i$. This center may be computed simply as the mean of all points in $C_i$, i.e.,\n",
        "\n",
        "$$\n",
        "  \\mu_i \\equiv \\dfrac{1}{|C_i|} \\sum_{x \\in C_i} x.\n",
        "$$\n",
        "\n",
        "Then, our objective is to find the \"best\" clustering, $C_*$, which is the one that has a minimum WCSS.\n",
        "\n",
        "$$\n",
        "  C_* = \\arg\\min_C \\mathrm{WCSS}(C).\n",
        "$$"
      ]
    },
    {
      "cell_type": "markdown",
      "metadata": {
        "deletable": false,
        "editable": false,
        "id": "HV0M-t9Lr18j"
      },
      "source": [
        "## The standard $k$-means algorithm (Lloyd's algorithm)\n",
        "\n",
        "Finding the global optimum is [NP-hard](https://en.wikipedia.org/wiki/NP-hardness), which is computer science mumbo jumbo for \"we don't know whether there is an algorithm to calculate the exact answer in fewer steps than exponential in the size of the input.\" Nevertheless, there is an iterative method, Lloyd’s algorithm, that can quickly converge to a _local_ (as opposed to _global_) minimum. The procedure alternates between two operations: _assignment_ and _update_.\n",
        "\n",
        "**Step 1: Assignment.** Given a fixed set of $k$ centers, assign each point to the nearest center:\n",
        "\n",
        "$$\n",
        "  C_i = \\{\\hat{x}: \\| \\hat{x} - \\mu_i \\| \\le \\| \\hat{x} - \\mu_j \\|, 1 \\le j \\le k \\}.\n",
        "$$\n",
        "\n",
        "**Step 2: Update.** Recompute the $k$ centers (\"centroids\") by averaging all the data points belonging to each cluster, i.e., taking their mean:\n",
        "\n",
        "$$\n",
        "  \\mu_i = \\dfrac{1}{|C_i|} \\sum_{\\hat{x} \\in C_i} \\hat{x}\n",
        "$$\n",
        "\n",
        "> Figure from: http://stanford.edu/~cpiech/cs221/img/kmeansViz.png"
      ]
    },
    {
      "cell_type": "markdown",
      "metadata": {
        "deletable": false,
        "editable": false,
        "id": "UCVDwAesr18j"
      },
      "source": [
        "In the code that follows, it will be convenient to use our usual \"data matrix\" convention, that is, each row of a data matrix $X$ is one of $m$ observations and each column (coordinate) is one of $d$ predictors. However, we will _not_ need a dummy column of ones since we are not fitting a function.\n",
        "\n",
        "$$\n",
        "  X\n",
        "  \\equiv \\left(\\begin{array}{c} \\hat{x}_0^T \\\\ \\vdots \\\\ \\hat{x}_{m}^T \\end{array}\\right)\n",
        "  = \\left(\\begin{array}{ccc} x_0 & \\cdots & x_{d-1} \\end{array}\\right).\n",
        "$$"
      ]
    },
    {
      "cell_type": "code",
      "execution_count": null,
      "metadata": {
        "deletable": false,
        "editable": false,
        "id": "zFxmM5j1r18k"
      },
      "outputs": [],
      "source": [
        "import numpy as np\n",
        "import pandas as pd\n",
        "import seaborn as sns\n",
        "import matplotlib.pyplot as plt\n",
        "\n",
        "%matplotlib inline\n",
        "\n",
        "import matplotlib as mpl\n",
        "mpl.rc(\"savefig\", dpi=100) # Adjust for higher-resolution figures"
      ]
    },
    {
      "cell_type": "markdown",
      "metadata": {
        "deletable": false,
        "editable": false,
        "id": "QNS1NFdlr18k"
      },
      "source": [
        "We will use the following data set for this portion of the assignment."
      ]
    },
    {
      "cell_type": "code",
      "execution_count": null,
      "metadata": {
        "deletable": false,
        "editable": false,
        "id": "xZz0RY35r18k",
        "colab": {
          "base_uri": "https://localhost:8080/",
          "height": 206
        },
        "outputId": "a893a1ac-32ac-4148-92d4-a735285e6070"
      },
      "outputs": [
        {
          "output_type": "execute_result",
          "data": {
            "text/plain": [
              "        x_1       x_2  label\n",
              "0 -0.234443 -1.075960      1\n",
              "1  0.730359 -0.918093      0\n",
              "2  1.432270 -0.439449      0\n",
              "3  0.026733  1.050300      0\n",
              "4  1.879650  0.207743      0"
            ],
            "text/html": [
              "\n",
              "  <div id=\"df-945e0bda-35b4-4d24-81bc-31bbb539fd87\" class=\"colab-df-container\">\n",
              "    <div>\n",
              "<style scoped>\n",
              "    .dataframe tbody tr th:only-of-type {\n",
              "        vertical-align: middle;\n",
              "    }\n",
              "\n",
              "    .dataframe tbody tr th {\n",
              "        vertical-align: top;\n",
              "    }\n",
              "\n",
              "    .dataframe thead th {\n",
              "        text-align: right;\n",
              "    }\n",
              "</style>\n",
              "<table border=\"1\" class=\"dataframe\">\n",
              "  <thead>\n",
              "    <tr style=\"text-align: right;\">\n",
              "      <th></th>\n",
              "      <th>x_1</th>\n",
              "      <th>x_2</th>\n",
              "      <th>label</th>\n",
              "    </tr>\n",
              "  </thead>\n",
              "  <tbody>\n",
              "    <tr>\n",
              "      <th>0</th>\n",
              "      <td>-0.234443</td>\n",
              "      <td>-1.075960</td>\n",
              "      <td>1</td>\n",
              "    </tr>\n",
              "    <tr>\n",
              "      <th>1</th>\n",
              "      <td>0.730359</td>\n",
              "      <td>-0.918093</td>\n",
              "      <td>0</td>\n",
              "    </tr>\n",
              "    <tr>\n",
              "      <th>2</th>\n",
              "      <td>1.432270</td>\n",
              "      <td>-0.439449</td>\n",
              "      <td>0</td>\n",
              "    </tr>\n",
              "    <tr>\n",
              "      <th>3</th>\n",
              "      <td>0.026733</td>\n",
              "      <td>1.050300</td>\n",
              "      <td>0</td>\n",
              "    </tr>\n",
              "    <tr>\n",
              "      <th>4</th>\n",
              "      <td>1.879650</td>\n",
              "      <td>0.207743</td>\n",
              "      <td>0</td>\n",
              "    </tr>\n",
              "  </tbody>\n",
              "</table>\n",
              "</div>\n",
              "    <div class=\"colab-df-buttons\">\n",
              "\n",
              "  <div class=\"colab-df-container\">\n",
              "    <button class=\"colab-df-convert\" onclick=\"convertToInteractive('df-945e0bda-35b4-4d24-81bc-31bbb539fd87')\"\n",
              "            title=\"Convert this dataframe to an interactive table.\"\n",
              "            style=\"display:none;\">\n",
              "\n",
              "  <svg xmlns=\"http://www.w3.org/2000/svg\" height=\"24px\" viewBox=\"0 -960 960 960\">\n",
              "    <path d=\"M120-120v-720h720v720H120Zm60-500h600v-160H180v160Zm220 220h160v-160H400v160Zm0 220h160v-160H400v160ZM180-400h160v-160H180v160Zm440 0h160v-160H620v160ZM180-180h160v-160H180v160Zm440 0h160v-160H620v160Z\"/>\n",
              "  </svg>\n",
              "    </button>\n",
              "\n",
              "  <style>\n",
              "    .colab-df-container {\n",
              "      display:flex;\n",
              "      gap: 12px;\n",
              "    }\n",
              "\n",
              "    .colab-df-convert {\n",
              "      background-color: #E8F0FE;\n",
              "      border: none;\n",
              "      border-radius: 50%;\n",
              "      cursor: pointer;\n",
              "      display: none;\n",
              "      fill: #1967D2;\n",
              "      height: 32px;\n",
              "      padding: 0 0 0 0;\n",
              "      width: 32px;\n",
              "    }\n",
              "\n",
              "    .colab-df-convert:hover {\n",
              "      background-color: #E2EBFA;\n",
              "      box-shadow: 0px 1px 2px rgba(60, 64, 67, 0.3), 0px 1px 3px 1px rgba(60, 64, 67, 0.15);\n",
              "      fill: #174EA6;\n",
              "    }\n",
              "\n",
              "    .colab-df-buttons div {\n",
              "      margin-bottom: 4px;\n",
              "    }\n",
              "\n",
              "    [theme=dark] .colab-df-convert {\n",
              "      background-color: #3B4455;\n",
              "      fill: #D2E3FC;\n",
              "    }\n",
              "\n",
              "    [theme=dark] .colab-df-convert:hover {\n",
              "      background-color: #434B5C;\n",
              "      box-shadow: 0px 1px 3px 1px rgba(0, 0, 0, 0.15);\n",
              "      filter: drop-shadow(0px 1px 2px rgba(0, 0, 0, 0.3));\n",
              "      fill: #FFFFFF;\n",
              "    }\n",
              "  </style>\n",
              "\n",
              "    <script>\n",
              "      const buttonEl =\n",
              "        document.querySelector('#df-945e0bda-35b4-4d24-81bc-31bbb539fd87 button.colab-df-convert');\n",
              "      buttonEl.style.display =\n",
              "        google.colab.kernel.accessAllowed ? 'block' : 'none';\n",
              "\n",
              "      async function convertToInteractive(key) {\n",
              "        const element = document.querySelector('#df-945e0bda-35b4-4d24-81bc-31bbb539fd87');\n",
              "        const dataTable =\n",
              "          await google.colab.kernel.invokeFunction('convertToInteractive',\n",
              "                                                    [key], {});\n",
              "        if (!dataTable) return;\n",
              "\n",
              "        const docLinkHtml = 'Like what you see? Visit the ' +\n",
              "          '<a target=\"_blank\" href=https://colab.research.google.com/notebooks/data_table.ipynb>data table notebook</a>'\n",
              "          + ' to learn more about interactive tables.';\n",
              "        element.innerHTML = '';\n",
              "        dataTable['output_type'] = 'display_data';\n",
              "        await google.colab.output.renderOutput(dataTable, element);\n",
              "        const docLink = document.createElement('div');\n",
              "        docLink.innerHTML = docLinkHtml;\n",
              "        element.appendChild(docLink);\n",
              "      }\n",
              "    </script>\n",
              "  </div>\n",
              "\n",
              "\n",
              "<div id=\"df-a62f1f76-1176-4d92-b3bd-95151fa1ac88\">\n",
              "  <button class=\"colab-df-quickchart\" onclick=\"quickchart('df-a62f1f76-1176-4d92-b3bd-95151fa1ac88')\"\n",
              "            title=\"Suggest charts\"\n",
              "            style=\"display:none;\">\n",
              "\n",
              "<svg xmlns=\"http://www.w3.org/2000/svg\" height=\"24px\"viewBox=\"0 0 24 24\"\n",
              "     width=\"24px\">\n",
              "    <g>\n",
              "        <path d=\"M19 3H5c-1.1 0-2 .9-2 2v14c0 1.1.9 2 2 2h14c1.1 0 2-.9 2-2V5c0-1.1-.9-2-2-2zM9 17H7v-7h2v7zm4 0h-2V7h2v10zm4 0h-2v-4h2v4z\"/>\n",
              "    </g>\n",
              "</svg>\n",
              "  </button>\n",
              "\n",
              "<style>\n",
              "  .colab-df-quickchart {\n",
              "      --bg-color: #E8F0FE;\n",
              "      --fill-color: #1967D2;\n",
              "      --hover-bg-color: #E2EBFA;\n",
              "      --hover-fill-color: #174EA6;\n",
              "      --disabled-fill-color: #AAA;\n",
              "      --disabled-bg-color: #DDD;\n",
              "  }\n",
              "\n",
              "  [theme=dark] .colab-df-quickchart {\n",
              "      --bg-color: #3B4455;\n",
              "      --fill-color: #D2E3FC;\n",
              "      --hover-bg-color: #434B5C;\n",
              "      --hover-fill-color: #FFFFFF;\n",
              "      --disabled-bg-color: #3B4455;\n",
              "      --disabled-fill-color: #666;\n",
              "  }\n",
              "\n",
              "  .colab-df-quickchart {\n",
              "    background-color: var(--bg-color);\n",
              "    border: none;\n",
              "    border-radius: 50%;\n",
              "    cursor: pointer;\n",
              "    display: none;\n",
              "    fill: var(--fill-color);\n",
              "    height: 32px;\n",
              "    padding: 0;\n",
              "    width: 32px;\n",
              "  }\n",
              "\n",
              "  .colab-df-quickchart:hover {\n",
              "    background-color: var(--hover-bg-color);\n",
              "    box-shadow: 0 1px 2px rgba(60, 64, 67, 0.3), 0 1px 3px 1px rgba(60, 64, 67, 0.15);\n",
              "    fill: var(--button-hover-fill-color);\n",
              "  }\n",
              "\n",
              "  .colab-df-quickchart-complete:disabled,\n",
              "  .colab-df-quickchart-complete:disabled:hover {\n",
              "    background-color: var(--disabled-bg-color);\n",
              "    fill: var(--disabled-fill-color);\n",
              "    box-shadow: none;\n",
              "  }\n",
              "\n",
              "  .colab-df-spinner {\n",
              "    border: 2px solid var(--fill-color);\n",
              "    border-color: transparent;\n",
              "    border-bottom-color: var(--fill-color);\n",
              "    animation:\n",
              "      spin 1s steps(1) infinite;\n",
              "  }\n",
              "\n",
              "  @keyframes spin {\n",
              "    0% {\n",
              "      border-color: transparent;\n",
              "      border-bottom-color: var(--fill-color);\n",
              "      border-left-color: var(--fill-color);\n",
              "    }\n",
              "    20% {\n",
              "      border-color: transparent;\n",
              "      border-left-color: var(--fill-color);\n",
              "      border-top-color: var(--fill-color);\n",
              "    }\n",
              "    30% {\n",
              "      border-color: transparent;\n",
              "      border-left-color: var(--fill-color);\n",
              "      border-top-color: var(--fill-color);\n",
              "      border-right-color: var(--fill-color);\n",
              "    }\n",
              "    40% {\n",
              "      border-color: transparent;\n",
              "      border-right-color: var(--fill-color);\n",
              "      border-top-color: var(--fill-color);\n",
              "    }\n",
              "    60% {\n",
              "      border-color: transparent;\n",
              "      border-right-color: var(--fill-color);\n",
              "    }\n",
              "    80% {\n",
              "      border-color: transparent;\n",
              "      border-right-color: var(--fill-color);\n",
              "      border-bottom-color: var(--fill-color);\n",
              "    }\n",
              "    90% {\n",
              "      border-color: transparent;\n",
              "      border-bottom-color: var(--fill-color);\n",
              "    }\n",
              "  }\n",
              "</style>\n",
              "\n",
              "  <script>\n",
              "    async function quickchart(key) {\n",
              "      const quickchartButtonEl =\n",
              "        document.querySelector('#' + key + ' button');\n",
              "      quickchartButtonEl.disabled = true;  // To prevent multiple clicks.\n",
              "      quickchartButtonEl.classList.add('colab-df-spinner');\n",
              "      try {\n",
              "        const charts = await google.colab.kernel.invokeFunction(\n",
              "            'suggestCharts', [key], {});\n",
              "      } catch (error) {\n",
              "        console.error('Error during call to suggestCharts:', error);\n",
              "      }\n",
              "      quickchartButtonEl.classList.remove('colab-df-spinner');\n",
              "      quickchartButtonEl.classList.add('colab-df-quickchart-complete');\n",
              "    }\n",
              "    (() => {\n",
              "      let quickchartButtonEl =\n",
              "        document.querySelector('#df-a62f1f76-1176-4d92-b3bd-95151fa1ac88 button');\n",
              "      quickchartButtonEl.style.display =\n",
              "        google.colab.kernel.accessAllowed ? 'block' : 'none';\n",
              "    })();\n",
              "  </script>\n",
              "</div>\n",
              "\n",
              "    </div>\n",
              "  </div>\n"
            ],
            "application/vnd.google.colaboratory.intrinsic+json": {
              "type": "dataframe",
              "variable_name": "df",
              "summary": "{\n  \"name\": \"df\",\n  \"rows\": 375,\n  \"fields\": [\n    {\n      \"column\": \"x_1\",\n      \"properties\": {\n        \"dtype\": \"number\",\n        \"std\": 0.7364981839626461,\n        \"min\": -1.01656,\n        \"max\": 2.09811,\n        \"num_unique_values\": 374,\n        \"samples\": [\n          1.29983,\n          -0.53968,\n          0.682025\n        ],\n        \"semantic_type\": \"\",\n        \"description\": \"\"\n      }\n    },\n    {\n      \"column\": \"x_2\",\n      \"properties\": {\n        \"dtype\": \"number\",\n        \"std\": 1.0757635116856148,\n        \"min\": -3.28461,\n        \"max\": 2.50672,\n        \"num_unique_values\": 375,\n        \"samples\": [\n          -2.33617,\n          -0.929356,\n          1.38689\n        ],\n        \"semantic_type\": \"\",\n        \"description\": \"\"\n      }\n    },\n    {\n      \"column\": \"label\",\n      \"properties\": {\n        \"dtype\": \"number\",\n        \"std\": 0,\n        \"min\": 0,\n        \"max\": 1,\n        \"num_unique_values\": 2,\n        \"samples\": [\n          0,\n          1\n        ],\n        \"semantic_type\": \"\",\n        \"description\": \"\"\n      }\n    }\n  ]\n}"
            }
          },
          "metadata": {},
          "execution_count": 52
        }
      ],
      "source": [
        "df = pd.read_csv('{}logreg_points_train.csv'.format(DATA_PATH))\n",
        "df.head()"
      ]
    },
    {
      "cell_type": "code",
      "execution_count": null,
      "metadata": {
        "deletable": false,
        "editable": false,
        "id": "7K-y9AhKr18k"
      },
      "outputs": [],
      "source": [
        "# Some helper functions as we go along\n",
        "def make_scatter_plot(df, x=\"x_1\", y=\"x_2\", hue=\"label\",\n",
        "                      palette={0: \"red\", 1: \"blue\"},\n",
        "                      size=5,\n",
        "                      centers=None):\n",
        "    sns.lmplot(x=x, y=y, hue=hue, data=df, palette=palette,\n",
        "               fit_reg=False)\n",
        "    if centers is not None:\n",
        "        plt.scatter(centers[:,0], centers[:,1],\n",
        "                    marker=u'x', s=200,\n",
        "                    c=[palette[0], palette[1]])\n",
        "\n",
        "def mark_matches(a, b, exact=False):\n",
        "    \"\"\"\n",
        "    Given two Numpy arrays of {0, 1} labels, returns a new boolean\n",
        "    array indicating at which locations the input arrays have the\n",
        "    same label (i.e., the corresponding entry is True).\n",
        "\n",
        "    This function can consider \"inexact\" matches. That is, if `exact`\n",
        "    is False, then the function will assume the {0, 1} labels may be\n",
        "    regarded as the same up to a swapping of the labels. This feature\n",
        "    allows\n",
        "\n",
        "      a == [0, 0, 1, 1, 0, 1, 1]\n",
        "      b == [1, 1, 0, 0, 1, 0, 0]\n",
        "\n",
        "    to be regarded as equal. (That is, use `exact=False` when you\n",
        "    only care about \"relative\" labeling.)\n",
        "    \"\"\"\n",
        "    assert a.shape == b.shape\n",
        "    a_int = a.astype(dtype=int)\n",
        "    b_int = b.astype(dtype=int)\n",
        "    all_axes = tuple(range(len(a.shape)))\n",
        "    assert ((a_int == 0) | (a_int == 1)).all()\n",
        "    assert ((b_int == 0) | (b_int == 1)).all()\n",
        "\n",
        "    exact_matches = (a_int == b_int)\n",
        "    if exact:\n",
        "        return exact_matches\n",
        "\n",
        "    assert exact == False\n",
        "    num_exact_matches = np.sum(exact_matches)\n",
        "    if (2*num_exact_matches) >= np.prod (a.shape):\n",
        "        return exact_matches\n",
        "    return exact_matches == False # Invert\n",
        "\n",
        "def count_matches(a, b, exact=False):\n",
        "    \"\"\"\n",
        "    Given two sets of {0, 1} labels, returns the number of mismatches.\n",
        "\n",
        "    This function can consider \"inexact\" matches. That is, if `exact`\n",
        "    is False, then the function will assume the {0, 1} labels may be\n",
        "    regarded as similar up to a swapping of the labels. This feature\n",
        "    allows\n",
        "\n",
        "      a == [0, 0, 1, 1, 0, 1, 1]\n",
        "      b == [1, 1, 0, 0, 1, 0, 0]\n",
        "\n",
        "    to be regarded as equal. (That is, use `exact=False` when you\n",
        "    only care about \"relative\" labeling.)\n",
        "    \"\"\"\n",
        "    matches = mark_matches(a, b, exact=exact)\n",
        "    return np.sum(matches)"
      ]
    },
    {
      "cell_type": "code",
      "execution_count": null,
      "metadata": {
        "deletable": false,
        "editable": false,
        "id": "ofDTzkYzr18l",
        "colab": {
          "base_uri": "https://localhost:8080/",
          "height": 506
        },
        "outputId": "b3b01d0c-6eff-4cfd-e398-896c2731a136"
      },
      "outputs": [
        {
          "output_type": "display_data",
          "data": {
            "text/plain": [
              "<Figure size 558.875x500 with 1 Axes>"
            ],
            "image/png": "[encoded data removed]"
          },
          "metadata": {}
        }
      ],
      "source": [
        "make_scatter_plot(df)"
      ]
    },
    {
      "cell_type": "markdown",
      "metadata": {
        "deletable": false,
        "editable": false,
        "id": "K4YlwOR3r18l"
      },
      "source": [
        "Let's extract the data points as a data matrix, `points`, and the labels as a vector, `labels`. Note that the k-means algorithm you will implement should **not** reference `labels` -- that's the solution we will try to predict given only the point coordinates (`points`) and target number of clusters (`k`)."
      ]
    },
    {
      "cell_type": "code",
      "execution_count": null,
      "metadata": {
        "deletable": false,
        "editable": false,
        "id": "L6rPXOBMr18m"
      },
      "outputs": [],
      "source": [
        "points = df[['x_1', 'x_2']].to_numpy()\n",
        "labels = df['label'].to_numpy()\n",
        "n, d = points.shape\n",
        "k = 2"
      ]
    },
    {
      "cell_type": "markdown",
      "metadata": {
        "deletable": false,
        "editable": false,
        "id": "_hIRZECRr18m"
      },
      "source": [
        "Note that the labels should _not_ be used in the $k$-means algorithm. We use them here only as ground truth for later verification."
      ]
    },
    {
      "cell_type": "markdown",
      "metadata": {
        "deletable": false,
        "editable": false,
        "id": "_h-uGL-Pr18m"
      },
      "source": [
        "### How to start? Initializing the $k$ centers\n",
        "\n",
        "To start the algorithm, you need an initial guess. Let's randomly choose $k$ observations from the data.\n",
        "\n",
        "**Exercise 7** (`init_centers_test`: 25 points). Complete the following function, `init_centers(X, k)`, so that it randomly selects $k$ of the given observations to serve as centers. It should return a Numpy array of size `k`-by-`d`, where `d` is the number of columns of `X`."
      ]
    },
    {
      "cell_type": "code",
      "execution_count": null,
      "metadata": {
        "id": "SNQM5Z4jr18n"
      },
      "outputs": [],
      "source": [
        "def init_centers(X, k):\n",
        "    \"\"\"\n",
        "    Randomly samples k observations from X as centers.\n",
        "    Returns these centers as a (k x d) numpy array.\n",
        "    \"\"\"\n",
        "    from numpy.random import choice\n",
        "    idx = np.random.choice(X.shape[0], k, replace=False)\n",
        "    centroid = X[idx]\n",
        "    return centroid"
      ]
    },
    {
      "cell_type": "code",
      "execution_count": null,
      "metadata": {
        "deletable": false,
        "editable": false,
        "id": "M-LWFb9Vr18n",
        "colab": {
          "base_uri": "https://localhost:8080/"
        },
        "outputId": "888fd869-f1b8-44ce-e206-fe9310783233"
      },
      "outputs": [
        {
          "output_type": "stream",
          "name": "stdout",
          "text": [
            "Initial centers:\n",
            " [[ 0.548412  1.47245 ]\n",
            " [-0.49388  -1.05223 ]]\n",
            "\n",
            "(Passed! Congrats you got 25 points!)\n"
          ]
        }
      ],
      "source": [
        "# Test cell: `init_centers_test`\n",
        "\n",
        "centers_initial = init_centers(points, k)\n",
        "print(\"Initial centers:\\n\", centers_initial)\n",
        "\n",
        "assert type(centers_initial) is np.ndarray, \"Your function should return a Numpy array instead of a {}\".format(type(centers_initial))\n",
        "assert centers_initial.shape == (k, d), \"Returned centers do not have the right shape ({} x {})\".format(k, d)\n",
        "assert (sum(centers_initial[0, :] == points) == [1, 1]).all(), \"The centers must come from the input.\"\n",
        "assert (sum(centers_initial[1, :] == points) == [1, 1]).all(), \"The centers must come from the input.\"\n",
        "\n",
        "print(\"\\n(Passed! Congrats you got 25 points!)\")"
      ]
    },
    {
      "cell_type": "markdown",
      "metadata": {
        "deletable": false,
        "editable": false,
        "id": "yEND8TLPr18o"
      },
      "source": [
        "### Computing the distances\n",
        "\n",
        "**Exercise 8** (`compute_d2_test`: 30 points). Implement a function that computes a distance matrix, $S = (s_{ij})$ such that $s_{ij} = d_{ij}^2$ is the _squared_ distance from point $\\hat{x}_i$ to center $\\mu_j$. It should return a Numpy matrix `S[:m, :k]`.\n",
        "\n",
        ">Try a `for` loop"
      ]
    },
    {
      "cell_type": "code",
      "execution_count": null,
      "metadata": {
        "id": "JKYqyowor18o"
      },
      "outputs": [],
      "source": [
        "def compute_d2(X, centers):\n",
        "    m = len(X)\n",
        "    k = len(centers)\n",
        "\n",
        "    S = np.empty((m, k))\n",
        "\n",
        "    for i in range(m):\n",
        "      for j in range(k):\n",
        "        S[i,j] = np.sum((X[i] - centers[j]) ** 2)\n",
        "\n",
        "    return S"
      ]
    },
    {
      "cell_type": "code",
      "execution_count": null,
      "metadata": {
        "deletable": false,
        "editable": false,
        "id": "j-gOKBVFr18o",
        "colab": {
          "base_uri": "https://localhost:8080/"
        },
        "outputId": "473b6e35-ebde-45ad-f56d-2e4108d25aca"
      },
      "outputs": [
        {
          "output_type": "stream",
          "name": "stdout",
          "text": [
            "\n",
            "(Passed! Congrats you got 30 points!)\n"
          ]
        }
      ],
      "source": [
        "# Test cell: `compute_d2_test`\n",
        "\n",
        "centers_initial_testing = np.load(\"{}centers_initial_testing.npy\".format(DATA_PATH))\n",
        "compute_d2_soln = np.load(\"{}compute_d2_soln.npy\".format(DATA_PATH))\n",
        "\n",
        "S = compute_d2 (points, centers_initial_testing)\n",
        "assert (np.linalg.norm (S - compute_d2_soln, axis=1) <= (50.0 * np.finfo(float).eps)).all ()\n",
        "\n",
        "print(\"\\n(Passed! Congrats you got 30 points!)\")"
      ]
    },
    {
      "cell_type": "markdown",
      "metadata": {
        "deletable": false,
        "editable": false,
        "id": "EY3sqXxxr18o"
      },
      "source": [
        "**Exercise 9** (`assign_cluster_labels_test`: 25 points). Write a function that uses the (squared) distance matrix to assign a \"cluster label\" to each point.\n",
        "\n",
        "That is, consider the $m \\times k$ squared distance matrix $S$. For each point $i$, if $s_{i,j}$ is the minimum squared distance for point $i$, then the index $j$ is $i$'s cluster label. In other words, your function should return a (column) vector $y$ of length $m$ such that\n",
        "\n",
        "$$\n",
        "  y_i = \\underset{j \\in \\{0, \\ldots, k-1\\}}{\\operatorname{argmin}} s_{ij}.\n",
        "$$\n",
        "\n",
        "> Hint: Judicious use of Numpy's [`argmin()`](https://docs.scipy.org/doc/numpy/reference/generated/numpy.argmin.html) makes for a nice one-line solution."
      ]
    },
    {
      "cell_type": "code",
      "execution_count": null,
      "metadata": {
        "id": "PZe5UGC_r18p",
        "colab": {
          "base_uri": "https://localhost:8080/"
        },
        "outputId": "ba7ff4c0-338f-4c4b-e68d-553e47366cc8"
      },
      "outputs": [
        {
          "output_type": "stream",
          "name": "stdout",
          "text": [
            "You found: [1 0 1]\n"
          ]
        }
      ],
      "source": [
        "def assign_cluster_labels(S):\n",
        "    y = np.argmin(S, axis=1)\n",
        "    return y\n",
        "\n",
        "\n",
        "# Cluster labels:     0    1\n",
        "S_test1 = np.array([[0.3, 0.2],  # --> cluster 1\n",
        "                    [0.1, 0.5],  # --> cluster 0\n",
        "                    [0.4, 0.2]]) # --> cluster 1\n",
        "y_test1 = assign_cluster_labels(S_test1)\n",
        "print(\"You found:\", y_test1)\n",
        "\n",
        "assert (y_test1 == np.array([1, 0, 1])).all()"
      ]
    },
    {
      "cell_type": "code",
      "execution_count": null,
      "metadata": {
        "deletable": false,
        "editable": false,
        "id": "cqpegk2Rr18p",
        "colab": {
          "base_uri": "https://localhost:8080/"
        },
        "outputId": "945efeca-a3be-459d-989a-cdda7ec52c03"
      },
      "outputs": [
        {
          "output_type": "stream",
          "name": "stdout",
          "text": [
            "\n",
            "(Passed! Congrats you got 25 points!)\n"
          ]
        }
      ],
      "source": [
        "# Test cell: `assign_cluster_labels_test`\n",
        "\n",
        "S_test2 = np.load(\"{}assign_cluster_labels_S.npy\".format(DATA_PATH))\n",
        "y_test2_soln = np.load(\"{}assign_cluster_labels_soln.npy\".format(DATA_PATH))\n",
        "y_test2 = assign_cluster_labels(S_test2)\n",
        "assert (y_test2 == y_test2_soln).all()\n",
        "\n",
        "print(\"\\n(Passed! Congrats you got 25 points!)\")"
      ]
    },
    {
      "cell_type": "markdown",
      "metadata": {
        "deletable": false,
        "editable": false,
        "id": "OkUp8jx3r18p"
      },
      "source": [
        "**Exercise 10** (`update_centers_test`: 30 points). Given a clustering (i.e., a set of points and assignment of labels), compute the center of each cluster."
      ]
    },
    {
      "cell_type": "code",
      "execution_count": null,
      "metadata": {
        "id": "8w8GKcw_r18q",
        "colab": {
          "base_uri": "https://localhost:8080/",
          "height": 110
        },
        "outputId": "de6f6d2d-39c1-4fac-c99b-e38a6b9c8205"
      },
      "outputs": [
        {
          "output_type": "error",
          "ename": "IndentationError",
          "evalue": "expected an indented block after 'for' statement on line 10 (<ipython-input-68-0b96ec2ff4ab>, line 14)",
          "traceback": [
            "\u001b[0;36m  File \u001b[0;32m\"<ipython-input-68-0b96ec2ff4ab>\"\u001b[0;36m, line \u001b[0;32m14\u001b[0m\n\u001b[0;31m    return centers\u001b[0m\n\u001b[0m    ^\u001b[0m\n\u001b[0;31mIndentationError\u001b[0m\u001b[0;31m:\u001b[0m expected an indented block after 'for' statement on line 10\n"
          ]
        }
      ],
      "source": [
        "def update_centers(X, y):\n",
        "    # X[:m, :d] == m points, each of dimension d\n",
        "    # y[:m] == cluster labels\n",
        "    m, d = X.shape\n",
        "    k = max(y) + 1\n",
        "    assert m == len(y)\n",
        "    assert (min(y) >= 0)\n",
        "\n",
        "    centers = np.empty((k, d))\n",
        "    for j in range(k):\n",
        "        # Compute the new center of cluster j,\n",
        "        # i.e., centers[j, :d].\n",
        "        ##YOUR ANSWER HERE##\n",
        "    return centers"
      ]
    },
    {
      "cell_type": "code",
      "execution_count": null,
      "metadata": {
        "deletable": false,
        "editable": false,
        "id": "zO5P4Fjkr18q"
      },
      "outputs": [],
      "source": [
        "# Test cell: `update_centers_test`\n",
        "\n",
        "y_test3 = np.load(\"{}y_test3.npy\".format(DATA_PATH))\n",
        "centers_test3_soln = np.load(\"{}centers_test3_soln.npy\".format(DATA_PATH))\n",
        "centers_test3 = update_centers(points, y_test3)\n",
        "\n",
        "delta_test3 = np.abs(centers_test3 - centers_test3_soln)\n",
        "assert (delta_test3 <= 2.0*len(centers_test3_soln)*np.finfo(float).eps).all()\n",
        "\n",
        "print(\"\\n(Passed! Congrats you got 30 points!)\")"
      ]
    },
    {
      "cell_type": "markdown",
      "metadata": {
        "deletable": false,
        "editable": false,
        "id": "MJj0xlwDr18q"
      },
      "source": [
        "**Exercise 11** (`WCSS`: 30 points). Given the squared distances, return the within-cluster sum of squares.\n",
        "\n",
        "In particular, your function should have the signature,\n",
        "\n",
        "```python\n",
        "    def WCSS(S):\n",
        "        ...\n",
        "```\n",
        "\n",
        "where `S` is an array of distances as might be computed from Exercise 2.\n",
        "\n",
        "For example, suppose `S` is defined as follows:\n",
        "\n",
        "```python\n",
        "    S = np.array([[0.3, 0.2],\n",
        "                  [0.1, 0.5],\n",
        "                  [0.4, 0.2]])\n",
        "```\n",
        "\n",
        "Then `WCSS(S) == 0.2 + 0.1 + 0.2 == 0.5.`\n",
        "\n",
        "> _Hint_: See [numpy.amin](https://docs.scipy.org/doc/numpy/reference/generated/numpy.amin.html#numpy.amin)."
      ]
    },
    {
      "cell_type": "code",
      "execution_count": null,
      "metadata": {
        "id": "jKxE9IoYr18q"
      },
      "outputs": [],
      "source": [
        "def WCSS(S):\n",
        "    ##YOUR ANSWER HERE##\n",
        "\n",
        "# Quick test:\n",
        "print(\"S ==\\n\", S_test1)\n",
        "WCSS_test1 = WCSS(S_test1)\n",
        "print(\"\\nWCSS(S) ==\", WCSS(S_test1))"
      ]
    },
    {
      "cell_type": "code",
      "execution_count": null,
      "metadata": {
        "deletable": false,
        "editable": false,
        "id": "b53bWEEHr18r"
      },
      "outputs": [],
      "source": [
        "# Test cell: `WCSS_test`\n",
        "\n",
        "assert np.abs(WCSS_test1 - 0.5) <= 3.0*np.finfo(float).eps, \"WCSS(S_test1) should be close to 0.5, not {}\".format(WCSS_test1)\n",
        "print(\"\\n(Passed! Congrats you got 30 points!)\")"
      ]
    },
    {
      "cell_type": "markdown",
      "metadata": {
        "deletable": false,
        "editable": false,
        "id": "FKTiSJZ0r18r"
      },
      "source": [
        "Lastly, here is a function to check whether the centers have \"moved,\" given two instances of the center values. It accounts for the fact that the order of centers may have changed."
      ]
    },
    {
      "cell_type": "code",
      "execution_count": null,
      "metadata": {
        "deletable": false,
        "editable": false,
        "id": "2VhIxcU3r18r"
      },
      "outputs": [],
      "source": [
        "def has_converged(old_centers, centers):\n",
        "    return set([tuple(x) for x in old_centers]) == set([tuple(x) for x in centers])"
      ]
    },
    {
      "cell_type": "markdown",
      "metadata": {
        "id": "e_9lbxL2r18r"
      },
      "source": [
        "**Exercise 12** (`kmeans_test`: 40 points). Put all of the preceding building blocks together to implement Lloyd's $k$-means algorithm."
      ]
    },
    {
      "cell_type": "code",
      "execution_count": null,
      "metadata": {
        "id": "9YXRlxmlr18s"
      },
      "outputs": [],
      "source": [
        "def kmeans(X, k,\n",
        "           starting_centers=None,\n",
        "           max_steps=np.inf):\n",
        "    if starting_centers is None:\n",
        "        centers = init_centers(X, k)\n",
        "    else:\n",
        "        centers = starting_centers\n",
        "\n",
        "    converged = False\n",
        "    labels = np.zeros(len(X))\n",
        "    i = 1\n",
        "    while (not converged) and (i <= max_steps):\n",
        "        old_centers = centers\n",
        "\n",
        "        ##YOUR ANSWER HERE##\n",
        "\n",
        "        print (\"iteration\", i, \"WCSS = \", WCSS (S))\n",
        "        i += 1\n",
        "    return labels\n",
        "\n",
        "clustering = kmeans(points, k, starting_centers=points[[0, 187], :])"
      ]
    },
    {
      "cell_type": "markdown",
      "metadata": {
        "deletable": false,
        "editable": false,
        "id": "xuBR5XORr18t"
      },
      "source": [
        "Let's visualize the results."
      ]
    },
    {
      "cell_type": "code",
      "execution_count": null,
      "metadata": {
        "deletable": false,
        "editable": false,
        "id": "06EGXBe4r18t"
      },
      "outputs": [],
      "source": [
        "# Test cell: `kmeans_test`\n",
        "\n",
        "df['clustering'] = clustering\n",
        "centers = update_centers(points, clustering)\n",
        "make_scatter_plot(df, hue='clustering', centers=centers)\n",
        "\n",
        "n_matches = count_matches(df['label'], df['clustering'])\n",
        "print(n_matches,\n",
        "      \"matches out of\",\n",
        "      len(df), \"possible\",\n",
        "      \"(~ {:.1f}%)\".format(100.0 * n_matches / len(df)))\n",
        "\n",
        "assert n_matches >= 320, \"Seems like your clusters don't match as much as expected. At least 85% should match.\"\n",
        "print(\"\\n(Passed! Congrats you got 40 points!)\")"
      ]
    },
    {
      "cell_type": "markdown",
      "metadata": {
        "deletable": false,
        "editable": false,
        "id": "Kxeiv5Pzr18t"
      },
      "source": [
        "## Built-in $k$-means\n",
        "\n",
        "The preceding exercises walked you through how to implement $k$-means, but as you might have imagined, there are existing implementations as well! The following shows you how to use Scipy's implementation, which should yield similar results. If you are asked to use $k$-means in a future lab (or exam!), you can use this one."
      ]
    },
    {
      "cell_type": "code",
      "execution_count": null,
      "metadata": {
        "deletable": false,
        "editable": false,
        "id": "0OwSsvTYr18t"
      },
      "outputs": [],
      "source": [
        "from scipy.cluster import vq"
      ]
    },
    {
      "cell_type": "code",
      "execution_count": null,
      "metadata": {
        "deletable": false,
        "editable": false,
        "id": "-zFa8vH8r18u"
      },
      "outputs": [],
      "source": [
        "# `distortion` below is the similar to WCSS.\n",
        "# It is called distortion in the Scipy documentation\n",
        "# since clustering can be used in compression.\n",
        "centers_vq, distortion_vq = vq.kmeans(points, k)\n",
        "\n",
        "# vq return the clustering (assignment of group for each point)\n",
        "# based on the centers obtained by the kmeans function.\n",
        "# _ here means ignore the second return value\n",
        "clustering_vq, _ = vq.vq(points, centers_vq)\n",
        "\n",
        "print(\"Centers:\\n\", centers_vq)\n",
        "print(\"\\nCompare with your method:\\n\", centers, \"\\n\")\n",
        "print(\"Distortion (WCSS):\", distortion_vq)\n",
        "\n",
        "df['clustering_vq'] = clustering_vq\n",
        "make_scatter_plot(df, hue='clustering_vq', centers=centers_vq)\n",
        "\n",
        "n_matches_vq = count_matches(df['label'], df['clustering_vq'])\n",
        "print(n_matches_vq,\n",
        "      \"matches out of\",\n",
        "      len(df), \"possible\",\n",
        "      \"(~ {:.1f}%)\".format(100.0 * n_matches_vq / len(df)))"
      ]
    },
    {
      "cell_type": "markdown",
      "metadata": {
        "deletable": false,
        "editable": false,
        "id": "9zF5q6syr18u"
      },
      "source": [
        "**How exciting!** If you have made it this far, then you should be ready to move on to the next section!"
      ]
    },
    {
      "cell_type": "markdown",
      "metadata": {
        "deletable": false,
        "editable": false,
        "id": "8v93IFt2r18u"
      },
      "source": [
        "# Part 3: Spectral Clustering\n",
        "\n",
        "If you do not wish to complete this part of the notebook, then you are not required to do so. However, if you feel that you'd like additional knowledge, or bonus points to put you ahead, then this is the spot for you!\n",
        "\n",
        "> This portion of the notebook is adapted from https://www.kaggle.com/code/oscarm524/intro-to-spectral-clustering-a-toy-example. If you have questions or concerns, it should prove a great resource."
      ]
    },
    {
      "cell_type": "markdown",
      "metadata": {
        "deletable": false,
        "editable": false,
        "id": "D96Nsrkrr18u"
      },
      "source": [
        "As noted earlier, **Clustering** is one class of unsupervised learning methods. $k$-means is great if you are looking at data that is more sporadically placed around a scatterplot in our 2 dimesnsional space. Let's explore a potential shortcoming of the k-means function."
      ]
    },
    {
      "cell_type": "code",
      "execution_count": null,
      "metadata": {
        "deletable": false,
        "editable": false,
        "id": "d_V4mbaar18v"
      },
      "outputs": [],
      "source": [
        "from sklearn.preprocessing import MinMaxScaler\n",
        "from sklearn.datasets import make_moons\n",
        "from sklearn.cluster import KMeans\n",
        "from sklearn.cluster import SpectralClustering\n",
        "import matplotlib.pyplot as plt"
      ]
    },
    {
      "cell_type": "code",
      "execution_count": null,
      "metadata": {
        "deletable": false,
        "editable": false,
        "id": "fbQP1HCYr18v"
      },
      "outputs": [],
      "source": [
        "nb_samples = 1000\n",
        "#X = np.zeros(shape = (nb_samples, 2))\n",
        "X, _ = make_moons(n_samples=1000, noise=0.1, random_state=42)\n",
        "\n",
        "moons = pd.DataFrame(X)\n",
        "\n",
        "fig = plt.figure(figsize = (12,8))\n",
        "\n",
        "plt.scatter(X[:, 0], X[:, 1])\n",
        "plt.xlabel('x0')\n",
        "plt.ylabel('x1')\n",
        "plt.grid()\n",
        "plt.show();"
      ]
    },
    {
      "cell_type": "markdown",
      "metadata": {
        "deletable": false,
        "editable": false,
        "id": "kFscPVjRr18v"
      },
      "source": [
        "Let's try the scikit $k$-means function to see what clusters would be created via traditional means."
      ]
    },
    {
      "cell_type": "code",
      "execution_count": null,
      "metadata": {
        "deletable": false,
        "editable": false,
        "id": "ZIiM-keWr18v"
      },
      "outputs": [],
      "source": [
        "## Fitting k-means with 2 clusters\n",
        "kmeans_md = KMeans(n_clusters = 2, init = 'k-means++', n_init = 20).fit(X)\n",
        "## Appending cluster to the sine dataset\n",
        "moons.columns = ['x', 'y']\n",
        "moons['kmeans_cluster'] = kmeans_md.labels_\n",
        "\n",
        "## Visualizing the data with cluster\n",
        "\n",
        "fig = plt.figure(figsize = (12,8))\n",
        "plt.xlabel('x')\n",
        "plt.ylabel('y')\n",
        "plt.grid()\n",
        "\n",
        "for c in moons['kmeans_cluster'].unique():\n",
        "\n",
        "        temp = moons[moons['kmeans_cluster'] == c]\n",
        "        plt.scatter(temp['x'], temp['y'])\n",
        "\n",
        "moons = moons.drop(columns=['kmeans_cluster'])"
      ]
    },
    {
      "cell_type": "markdown",
      "metadata": {
        "deletable": false,
        "editable": false,
        "id": "iy2L4MFsr18w"
      },
      "source": [
        "In most cases, we would want to be grouping the top set of points together and the bottom set together. Based on what you know about the $k$-means function, it's limitation to this specific case is that it seeks to minimize the summed distance between the centers and each point, however for data with irregular shapes, our goal is not always to minimize euclidean distance.\n",
        "\n",
        "Most of the below is some pretty complicated math jargon from the original Berkley-created method of clustering. You will not be expected to know the math behind the eigenvalue and eiganvecotrs, but see how much of the below you are able to follow. For our purposes, focus on the **$k$-nearest neighbor** portion."
      ]
    },
    {
      "cell_type": "markdown",
      "metadata": {
        "deletable": false,
        "editable": false,
        "id": "py1u8qcmr18w"
      },
      "source": [
        "We can build a graph $G = \\{V, E\\}$, where the vertices are the points and the edges are determined using an affinity matrix $W$. Each element $w_{ij}$ must express the affinity between the points $x_i$ and $x_j$. $W$ is normally built using two different approaches:\n",
        "\n",
        "\n",
        "1. **$k$-nearest neighbors:** In this case, we can build the number of neighbors to take into account for each point $x_i$. $W$ can be built as a connectivity matrix (expressing only the existence of a connection between two samples) if we adopt the criterion:\n",
        "\n",
        "$$ w_{ij} = \\left\\{ \\begin{array}{ll} 1 & \\text{ if $x_j \\: \\in \\: neighborhood_k(x_i)$} \\\\ 0 & \\text{ otherwise} \\end{array} \\right.$$\n",
        "\n",
        "  Alternatively, it's possible to build a distance matrix as follows:\n",
        "\n",
        "$$ w_{ij} = \\left\\{ \\begin{array}{ll} d(x_i, x_j) & \\text{ if $x_j \\: \\in \\: neighborhood_k(x_i)$} \\\\ 0 & \\text{ otherwise} \\end{array} \\right.$$\n",
        "\n",
        "\n",
        "2. **Radial basis function (RBF):** The previous method can lead to graphs that are not fully connected because samples can exist that have no neighbors. In order to obtain a fully connected graph, it's possible to employ an RBF approach as follows:\n",
        "\n",
        "$$ w_{ij} = e^{-\\gamma ||x_i - x_j||^2}$$\n",
        "\n",
        "  The parameter $\\gamma$ allows you to control the amplitude of the Gaussian function, reducing or increasing the number of samples with a large weight (actual neighbors). However, a weight is assigned to all points and the resulting graph will always be connected (even if many elements are close to zero).\n",
        "\n",
        "\n",
        "In both cases, the elements of $W$ will represent a measure of affinity (or closeness) between points and no restrictions are imposed on the global geometry (contrary to $k$-means). In particular, using $k$-NN connectivity matrix, we are implicitly segmenting the original dataset into smaller regions with a high level of internal cohesion. The problem that we need to solve now is to find out a way to merge all regions belonging to the same cluster.\n",
        "\n",
        "The approach we are going to present in this section has been proposed by [Shi and Malik (2000)](https://people.eecs.berkeley.edu/~malik/papers/SM-ncut.pdf), and it is based on the normalized graph Laplacian:\n",
        "\n",
        "\\begin{equation}\n",
        "L_n = I - D^{-1}W\n",
        "\\end{equation}\n",
        "\n",
        "The matrix $D$ is called the degree matrix as is given by:\n",
        "\n",
        "\\begin{equation}\n",
        "D = diag\\left( \\underset{j}{\\sum} w_{ij} \\: \\text{ for all } i \\in (1, M) \\right)\n",
        "\\end{equation}\n",
        "\n",
        "It is possible to prove the following:\n",
        "\n",
        "1. The eigenvalues $\\lambda_i$ and the eigenvectors $v_i$ of $L_n$ can be found by solving the problem $Lv = \\lambda Dv$, where L is the unnormalized graph Laplacian $L = D - W$.\n",
        "\n",
        "2. $L_n$ always has an eigenvalue equal to 0 (with a multiplicity $k$) with a corresponding eigenvector $v_0 = (1, 1, \\ldots, 1)$\n",
        "\n",
        "3. As G is undirected and all $w_{ij} \\geq 0$, the number of connected components $k$ of $G$ is equal to the multiplicity of the null eigenvalue.\n",
        "\n",
        "In other words, the normalized graph Laplacian encodes the information about the number of connected components and provides us with a new reference system where the clusters can be separated using regular geometric shapes (normally hyper-spheres).\n",
        "\n",
        "Since $L_n \\in \\mathbb{R}^{M \\times M}$, its eigenvectors $v_i \\in \\mathbb{R}^M$. Selecting the first $k$ eigenvectors it is possible to build a matrix $A \\in \\mathbb{R}^{M \\times k}$:\n",
        "\n",
        "\\begin{equation}\n",
        "A = \\left(\\begin{array}{cccc} v_1^{(1)} & v_2^{(1)} & \\cdots & v_k^{(1)} \\\\ \\vdots & \\vdots & \\ddots & \\vdots \\\\ v_1^{(M)} & v_2^{(M)} & \\cdots & v_k^{(M)} \\end{array} \\right)\n",
        "\\end{equation}\n",
        "\n",
        "Each row of $A$, $(a_j \\in \\mathbb{R}^k)$, can be considered as the projection of an original point $x_j$ in the low dimensional subspace spanned by the eigenvectors associated with the null eigenvalues of $L_n$. At this point, the separability of the new dataset $A = \\{a_j\\}$ depends only on the structure of the graph $G$ and, in particular, on the number of neighbors or the $\\gamma$ parameter for RBF. As in many other similar cases, it's impossible to define a standard value suitable for all problems. A reasonable approach should start with a small number of neighbors (for example, 5 or 10) or $\\gamma = 1$ and increase the values until a performance metric (such as the adjusted rank index) reaches its maximum."
      ]
    },
    {
      "cell_type": "markdown",
      "metadata": {
        "deletable": false,
        "editable": false,
        "id": "sS1Mq75vr18w"
      },
      "source": [
        "## The complete Shi-Malik spectral clustering algorithm is:\n",
        "\n",
        "1. Select a graph construction method between $k$-NN and RBF:\n",
        "    \n",
        "    * Select the parameter $k$ or\n",
        "\n",
        "    * Select the parameter $\\gamma$\n",
        "\n",
        "2. Select the expected number of clusters $N_k$.\n",
        "\n",
        "3. Compute the matrices $W$ and $D$\n",
        "\n",
        "4. Compute the normalized graph Laplacian $L_n$\n",
        "\n",
        "5. Compute the first $k$ eigenvectors of $L_n$\n",
        "\n",
        "6. Build the matrix $A$\n",
        "\n",
        "    * Cluster the rows of $A$ using $k$-means or $k$-means++\n",
        "\n",
        "The result of running $k$-means (with 2 clusters) is the sinusoidal dataset is shown in below. As expected, $k$-means is not able to separate the two sinusoids. You are free to try running $k$-means with other number of clusters, but the result will always be unacceptable because $k$-means bi-dimensional clusters are circles (when working in $\\mathbb{R}^n$ they become hyper-spheres, but the structural relations remain the same) and no valid configurations exist. We can now employ spectral clustering using an affinity matrix based on $k$-NN algorithm (in this case, scikit-learn produce a warning because the graph is not fully connected, but normally this doesn't affect the results)."
      ]
    },
    {
      "cell_type": "markdown",
      "metadata": {
        "deletable": false,
        "editable": false,
        "id": "Jcz2fGHZr18w"
      },
      "source": [
        "**Exercise 13** (`spectral_test`: 50 points). Complete the spectral clustering algorithm such that given inputs of matrix $X$ and desired clusters $k$, it will appropriately cluster and label the $X$ matrix."
      ]
    },
    {
      "cell_type": "code",
      "execution_count": null,
      "metadata": {
        "id": "8e549hTHr18w"
      },
      "outputs": [],
      "source": [
        "def spec_clust(X, k):\n",
        "    ##YOUR ANSWER HERE\n"
      ]
    },
    {
      "cell_type": "code",
      "execution_count": null,
      "metadata": {
        "deletable": false,
        "editable": false,
        "id": "_Qmkfz9Er18w"
      },
      "outputs": [],
      "source": [
        "# Test cell: `spectral_test`\n",
        "spec_clust(moons, 2)\n",
        "plt.figure(figsize = (12, 8))\n",
        "plt.xlabel('x0')\n",
        "plt.ylabel('x1')\n",
        "plt.grid()\n",
        "\n",
        "for c in moons['spectral_clusters'].unique():\n",
        "        temp = moons[moons['spectral_clusters'] == c]\n",
        "        plt.scatter(temp['x'], temp['y'])"
      ]
    },
    {
      "cell_type": "markdown",
      "metadata": {
        "deletable": false,
        "editable": false,
        "id": "DYM6YHN0r18w"
      },
      "source": [
        "**Mathematical!** If you have made it this far with no errors, then you are ready to submit your notebook!"
      ]
    }
  ],
  "metadata": {
    "anaconda-cloud": {},
    "celltoolbar": "Edit Metadata",
    "kernelspec": {
      "display_name": "Python 3 (ipykernel)",
      "language": "python",
      "name": "python3"
    },
    "language_info": {
      "codemirror_mode": {
        "name": "ipython",
        "version": 3
      },
      "file_extension": ".py",
      "mimetype": "text/x-python",
      "name": "python",
      "nbconvert_exporter": "python",
      "pygments_lexer": "ipython3",
      "version": "3.10.5"
    },
    "colab": {
      "provenance": []
    }
  },
  "nbformat": 4,
  "nbformat_minor": 0
}