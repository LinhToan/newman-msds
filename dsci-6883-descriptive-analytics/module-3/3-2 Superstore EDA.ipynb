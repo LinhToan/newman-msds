{
 "cells": [
  {
   "cell_type": "markdown",
   "id": "49c9bceb",
   "metadata": {},
   "source": [
    "# Assignment 3.2: Superstore EDA\n",
    "\n",
    "## Description\n",
    "#### In this Jupyter notebook, we will perform exploratory data analysis on the Superstore dataset.\n",
    "\n",
    "## Source\n",
    "- #### `Global_Superstore_Orders_2012_2015.xlsx`\n",
    "\n",
    "## Worksheets\n",
    "- #### `Orders` - Spreadsheet with information about orders, such as products, product categories, customers, sales, etc.\n",
    "- #### `People` - Salesperson and the region they manage.\n",
    "\n",
    "## Data Dictionary\n",
    "### `Orders`\n",
    "- #### Row ID: Unique number for each row\n",
    "- #### Order ID: Unique number for each order\n",
    "- #### Order Date: Date when order was placed\n",
    "- #### Ship Date: Date when order was shipped\n",
    "- #### Ship Mode: Mode of transportation\n",
    "- #### Customer ID: Unique number for customer\n",
    "- #### Custoner Name: Name of customer\n",
    "- #### Segment: Business unit\n",
    "- #### Postal Code: Customer's zip code\n",
    "- #### City: Customer's city\n",
    "- #### State: Customer's state\n",
    "- #### Country: Customer's country\n",
    "- #### Region: Customer's region\n",
    "- #### Market: Broader region category\n",
    "- #### Product ID: Unique number for product\n",
    "- #### Category: Category of product\n",
    "- #### Sub-Category: Sub-category of product\n",
    "- #### Sales: Dollars sold from order\n",
    "- #### Quantity: Number of items on order\n",
    "- #### Discount: Discount rate on order\n",
    "- #### Profit: Profit made on order\n",
    "- #### Shipping Cost: Shipping cost on order\n",
    "- #### Order priority: Order priority on order\n",
    "### `People`\n",
    "- #### Person: Employee who sold the order\n",
    "- #### Region: Region managed by employee"
   ]
  },
  {
   "cell_type": "code",
   "execution_count": 1,
   "id": "fc5ccb06",
   "metadata": {},
   "outputs": [],
   "source": [
    "import numpy as np\n",
    "import pandas as pd\n",
    "import matplotlib.pyplot as plt\n",
    "import seaborn as sns\n",
    "%matplotlib inline"
   ]
  },
  {
   "cell_type": "code",
   "execution_count": 2,
   "id": "43a433cb",
   "metadata": {},
   "outputs": [],
   "source": [
    "# Run this cell to properly install openpyxl, or else it'll keep throwing an error message.\n",
    "# import pip\n",
    "# pip.main([\"install\", \"openpyxl\"])"
   ]
  },
  {
   "cell_type": "code",
   "execution_count": 3,
   "id": "8e83d4a5",
   "metadata": {},
   "outputs": [],
   "source": [
    "xlsx = pd.ExcelFile('data/Global_Superstore_Orders_2012_2015.xlsx')\n",
    "df_orders = pd.read_excel(xlsx, 'Orders')\n",
    "df_people = pd.read_excel(xlsx, 'People')"
   ]
  },
  {
   "cell_type": "markdown",
   "id": "716f69a4",
   "metadata": {},
   "source": [
    "### After importing both tabs in the spreadsheet as separate dataframes, we will proceed to inspect them both."
   ]
  },
  {
   "cell_type": "code",
   "execution_count": 4,
   "id": "93cb780c",
   "metadata": {},
   "outputs": [
    {
     "data": {
      "text/html": [
       "<div>\n",
       "<style scoped>\n",
       "    .dataframe tbody tr th:only-of-type {\n",
       "        vertical-align: middle;\n",
       "    }\n",
       "\n",
       "    .dataframe tbody tr th {\n",
       "        vertical-align: top;\n",
       "    }\n",
       "\n",
       "    .dataframe thead th {\n",
       "        text-align: right;\n",
       "    }\n",
       "</style>\n",
       "<table border=\"1\" class=\"dataframe\">\n",
       "  <thead>\n",
       "    <tr style=\"text-align: right;\">\n",
       "      <th></th>\n",
       "      <th>Row ID</th>\n",
       "      <th>Order ID</th>\n",
       "      <th>Order Date</th>\n",
       "      <th>Ship Date</th>\n",
       "      <th>Ship Mode</th>\n",
       "      <th>Customer ID</th>\n",
       "      <th>Customer Name</th>\n",
       "      <th>Segment</th>\n",
       "      <th>Postal Code</th>\n",
       "      <th>City</th>\n",
       "      <th>...</th>\n",
       "      <th>Product ID</th>\n",
       "      <th>Category</th>\n",
       "      <th>Sub-Category</th>\n",
       "      <th>Product Name</th>\n",
       "      <th>Sales</th>\n",
       "      <th>Quantity</th>\n",
       "      <th>Discount</th>\n",
       "      <th>Profit</th>\n",
       "      <th>Shipping Cost</th>\n",
       "      <th>Order Priority</th>\n",
       "    </tr>\n",
       "  </thead>\n",
       "  <tbody>\n",
       "    <tr>\n",
       "      <th>5693</th>\n",
       "      <td>11981</td>\n",
       "      <td>ES-2012-MS1783048-41178</td>\n",
       "      <td>2012-09-26</td>\n",
       "      <td>2012-09-30</td>\n",
       "      <td>Standard Class</td>\n",
       "      <td>MS-1783048</td>\n",
       "      <td>Melanie Seite</td>\n",
       "      <td>Consumer</td>\n",
       "      <td>NaN</td>\n",
       "      <td>Berlin</td>\n",
       "      <td>...</td>\n",
       "      <td>OFF-ST-6060</td>\n",
       "      <td>Office Supplies</td>\n",
       "      <td>Storage</td>\n",
       "      <td>Smead Shelving, Wire Frame</td>\n",
       "      <td>115.2</td>\n",
       "      <td>3</td>\n",
       "      <td>0.2</td>\n",
       "      <td>37.44</td>\n",
       "      <td>4.6</td>\n",
       "      <td>Medium</td>\n",
       "    </tr>\n",
       "  </tbody>\n",
       "</table>\n",
       "<p>1 rows × 24 columns</p>\n",
       "</div>"
      ],
      "text/plain": [
       "      Row ID                 Order ID Order Date  Ship Date       Ship Mode  \\\n",
       "5693   11981  ES-2012-MS1783048-41178 2012-09-26 2012-09-30  Standard Class   \n",
       "\n",
       "     Customer ID  Customer Name   Segment  Postal Code    City  ...  \\\n",
       "5693  MS-1783048  Melanie Seite  Consumer          NaN  Berlin  ...   \n",
       "\n",
       "       Product ID         Category Sub-Category                Product Name  \\\n",
       "5693  OFF-ST-6060  Office Supplies      Storage  Smead Shelving, Wire Frame   \n",
       "\n",
       "      Sales Quantity Discount Profit  Shipping Cost  Order Priority  \n",
       "5693  115.2        3      0.2  37.44            4.6          Medium  \n",
       "\n",
       "[1 rows x 24 columns]"
      ]
     },
     "execution_count": 4,
     "metadata": {},
     "output_type": "execute_result"
    }
   ],
   "source": [
    "df_orders.sample()"
   ]
  },
  {
   "cell_type": "code",
   "execution_count": 5,
   "id": "9866978f",
   "metadata": {},
   "outputs": [
    {
     "data": {
      "text/plain": [
       "(51290, 24)"
      ]
     },
     "execution_count": 5,
     "metadata": {},
     "output_type": "execute_result"
    }
   ],
   "source": [
    "df_orders.shape"
   ]
  },
  {
   "cell_type": "code",
   "execution_count": 6,
   "id": "4db0d73c",
   "metadata": {},
   "outputs": [
    {
     "data": {
      "text/plain": [
       "Row ID                     int64\n",
       "Order ID                  object\n",
       "Order Date        datetime64[ns]\n",
       "Ship Date         datetime64[ns]\n",
       "Ship Mode                 object\n",
       "Customer ID               object\n",
       "Customer Name             object\n",
       "Segment                   object\n",
       "Postal Code              float64\n",
       "City                      object\n",
       "State                     object\n",
       "Country                   object\n",
       "Region                    object\n",
       "Market                    object\n",
       "Product ID                object\n",
       "Category                  object\n",
       "Sub-Category              object\n",
       "Product Name              object\n",
       "Sales                    float64\n",
       "Quantity                   int64\n",
       "Discount                 float64\n",
       "Profit                   float64\n",
       "Shipping Cost            float64\n",
       "Order Priority            object\n",
       "dtype: object"
      ]
     },
     "execution_count": 6,
     "metadata": {},
     "output_type": "execute_result"
    }
   ],
   "source": [
    "df_orders.dtypes"
   ]
  },
  {
   "cell_type": "code",
   "execution_count": 7,
   "id": "0c38e384",
   "metadata": {},
   "outputs": [
    {
     "data": {
      "text/html": [
       "<div>\n",
       "<style scoped>\n",
       "    .dataframe tbody tr th:only-of-type {\n",
       "        vertical-align: middle;\n",
       "    }\n",
       "\n",
       "    .dataframe tbody tr th {\n",
       "        vertical-align: top;\n",
       "    }\n",
       "\n",
       "    .dataframe thead th {\n",
       "        text-align: right;\n",
       "    }\n",
       "</style>\n",
       "<table border=\"1\" class=\"dataframe\">\n",
       "  <thead>\n",
       "    <tr style=\"text-align: right;\">\n",
       "      <th></th>\n",
       "      <th>count</th>\n",
       "      <th>mean</th>\n",
       "      <th>std</th>\n",
       "      <th>min</th>\n",
       "      <th>25%</th>\n",
       "      <th>50%</th>\n",
       "      <th>75%</th>\n",
       "      <th>max</th>\n",
       "    </tr>\n",
       "  </thead>\n",
       "  <tbody>\n",
       "    <tr>\n",
       "      <th>Row ID</th>\n",
       "      <td>51290.0</td>\n",
       "      <td>25645.500000</td>\n",
       "      <td>14806.291990</td>\n",
       "      <td>1.000</td>\n",
       "      <td>12823.250000</td>\n",
       "      <td>25645.500</td>\n",
       "      <td>38467.7500</td>\n",
       "      <td>51290.000</td>\n",
       "    </tr>\n",
       "    <tr>\n",
       "      <th>Postal Code</th>\n",
       "      <td>9994.0</td>\n",
       "      <td>55190.379428</td>\n",
       "      <td>32063.693350</td>\n",
       "      <td>1040.000</td>\n",
       "      <td>23223.000000</td>\n",
       "      <td>56430.500</td>\n",
       "      <td>90008.0000</td>\n",
       "      <td>99301.000</td>\n",
       "    </tr>\n",
       "    <tr>\n",
       "      <th>Sales</th>\n",
       "      <td>51290.0</td>\n",
       "      <td>246.490581</td>\n",
       "      <td>487.565361</td>\n",
       "      <td>0.444</td>\n",
       "      <td>30.758625</td>\n",
       "      <td>85.053</td>\n",
       "      <td>251.0532</td>\n",
       "      <td>22638.480</td>\n",
       "    </tr>\n",
       "    <tr>\n",
       "      <th>Quantity</th>\n",
       "      <td>51290.0</td>\n",
       "      <td>3.476545</td>\n",
       "      <td>2.278766</td>\n",
       "      <td>1.000</td>\n",
       "      <td>2.000000</td>\n",
       "      <td>3.000</td>\n",
       "      <td>5.0000</td>\n",
       "      <td>14.000</td>\n",
       "    </tr>\n",
       "    <tr>\n",
       "      <th>Discount</th>\n",
       "      <td>51290.0</td>\n",
       "      <td>0.142908</td>\n",
       "      <td>0.212280</td>\n",
       "      <td>0.000</td>\n",
       "      <td>0.000000</td>\n",
       "      <td>0.000</td>\n",
       "      <td>0.2000</td>\n",
       "      <td>0.850</td>\n",
       "    </tr>\n",
       "    <tr>\n",
       "      <th>Profit</th>\n",
       "      <td>51290.0</td>\n",
       "      <td>28.610982</td>\n",
       "      <td>174.340972</td>\n",
       "      <td>-6599.978</td>\n",
       "      <td>0.000000</td>\n",
       "      <td>9.240</td>\n",
       "      <td>36.8100</td>\n",
       "      <td>8399.976</td>\n",
       "    </tr>\n",
       "    <tr>\n",
       "      <th>Shipping Cost</th>\n",
       "      <td>51290.0</td>\n",
       "      <td>26.478567</td>\n",
       "      <td>57.251373</td>\n",
       "      <td>1.002</td>\n",
       "      <td>2.610000</td>\n",
       "      <td>7.790</td>\n",
       "      <td>24.4500</td>\n",
       "      <td>933.570</td>\n",
       "    </tr>\n",
       "  </tbody>\n",
       "</table>\n",
       "</div>"
      ],
      "text/plain": [
       "                 count          mean           std       min           25%  \\\n",
       "Row ID         51290.0  25645.500000  14806.291990     1.000  12823.250000   \n",
       "Postal Code     9994.0  55190.379428  32063.693350  1040.000  23223.000000   \n",
       "Sales          51290.0    246.490581    487.565361     0.444     30.758625   \n",
       "Quantity       51290.0      3.476545      2.278766     1.000      2.000000   \n",
       "Discount       51290.0      0.142908      0.212280     0.000      0.000000   \n",
       "Profit         51290.0     28.610982    174.340972 -6599.978      0.000000   \n",
       "Shipping Cost  51290.0     26.478567     57.251373     1.002      2.610000   \n",
       "\n",
       "                     50%         75%        max  \n",
       "Row ID         25645.500  38467.7500  51290.000  \n",
       "Postal Code    56430.500  90008.0000  99301.000  \n",
       "Sales             85.053    251.0532  22638.480  \n",
       "Quantity           3.000      5.0000     14.000  \n",
       "Discount           0.000      0.2000      0.850  \n",
       "Profit             9.240     36.8100   8399.976  \n",
       "Shipping Cost      7.790     24.4500    933.570  "
      ]
     },
     "execution_count": 7,
     "metadata": {},
     "output_type": "execute_result"
    }
   ],
   "source": [
    "df_orders.describe().T"
   ]
  },
  {
   "cell_type": "code",
   "execution_count": 8,
   "id": "75e5ebf8",
   "metadata": {},
   "outputs": [
    {
     "data": {
      "text/plain": [
       "Row ID                0\n",
       "Order ID              0\n",
       "Order Date            0\n",
       "Ship Date             0\n",
       "Ship Mode             0\n",
       "Customer ID           0\n",
       "Customer Name         0\n",
       "Segment               0\n",
       "Postal Code       41296\n",
       "City                  0\n",
       "State                 0\n",
       "Country               0\n",
       "Region                0\n",
       "Market                0\n",
       "Product ID            0\n",
       "Category              0\n",
       "Sub-Category          0\n",
       "Product Name          0\n",
       "Sales                 0\n",
       "Quantity              0\n",
       "Discount              0\n",
       "Profit                0\n",
       "Shipping Cost         0\n",
       "Order Priority        0\n",
       "dtype: int64"
      ]
     },
     "execution_count": 8,
     "metadata": {},
     "output_type": "execute_result"
    }
   ],
   "source": [
    "df_orders.isnull().sum()"
   ]
  },
  {
   "cell_type": "code",
   "execution_count": 9,
   "id": "8acf36d7",
   "metadata": {},
   "outputs": [
    {
     "data": {
      "text/html": [
       "<div>\n",
       "<style scoped>\n",
       "    .dataframe tbody tr th:only-of-type {\n",
       "        vertical-align: middle;\n",
       "    }\n",
       "\n",
       "    .dataframe tbody tr th {\n",
       "        vertical-align: top;\n",
       "    }\n",
       "\n",
       "    .dataframe thead th {\n",
       "        text-align: right;\n",
       "    }\n",
       "</style>\n",
       "<table border=\"1\" class=\"dataframe\">\n",
       "  <thead>\n",
       "    <tr style=\"text-align: right;\">\n",
       "      <th></th>\n",
       "      <th>Person</th>\n",
       "      <th>Region</th>\n",
       "    </tr>\n",
       "  </thead>\n",
       "  <tbody>\n",
       "    <tr>\n",
       "      <th>21</th>\n",
       "      <td>Angela Jephson</td>\n",
       "      <td>Western Canada</td>\n",
       "    </tr>\n",
       "  </tbody>\n",
       "</table>\n",
       "</div>"
      ],
      "text/plain": [
       "            Person          Region\n",
       "21  Angela Jephson  Western Canada"
      ]
     },
     "execution_count": 9,
     "metadata": {},
     "output_type": "execute_result"
    }
   ],
   "source": [
    "df_people.sample()"
   ]
  },
  {
   "cell_type": "code",
   "execution_count": 10,
   "id": "93e3d625",
   "metadata": {},
   "outputs": [
    {
     "data": {
      "text/plain": [
       "(24, 2)"
      ]
     },
     "execution_count": 10,
     "metadata": {},
     "output_type": "execute_result"
    }
   ],
   "source": [
    "df_people.shape"
   ]
  },
  {
   "cell_type": "code",
   "execution_count": 11,
   "id": "6f565686",
   "metadata": {},
   "outputs": [
    {
     "data": {
      "text/plain": [
       "Person    object\n",
       "Region    object\n",
       "dtype: object"
      ]
     },
     "execution_count": 11,
     "metadata": {},
     "output_type": "execute_result"
    }
   ],
   "source": [
    "df_people.dtypes"
   ]
  },
  {
   "cell_type": "code",
   "execution_count": 12,
   "id": "ee5ea3a3",
   "metadata": {},
   "outputs": [
    {
     "data": {
      "text/plain": [
       "Person    0\n",
       "Region    0\n",
       "dtype: int64"
      ]
     },
     "execution_count": 12,
     "metadata": {},
     "output_type": "execute_result"
    }
   ],
   "source": [
    "df_people.isnull().sum()"
   ]
  },
  {
   "cell_type": "markdown",
   "id": "d2b722e3",
   "metadata": {},
   "source": [
    "### After inspecting both dataframes, we see that they can be joined on the \"Region\" field."
   ]
  },
  {
   "cell_type": "code",
   "execution_count": 13,
   "id": "98118ea8",
   "metadata": {},
   "outputs": [
    {
     "data": {
      "text/html": [
       "<div>\n",
       "<style scoped>\n",
       "    .dataframe tbody tr th:only-of-type {\n",
       "        vertical-align: middle;\n",
       "    }\n",
       "\n",
       "    .dataframe tbody tr th {\n",
       "        vertical-align: top;\n",
       "    }\n",
       "\n",
       "    .dataframe thead th {\n",
       "        text-align: right;\n",
       "    }\n",
       "</style>\n",
       "<table border=\"1\" class=\"dataframe\">\n",
       "  <thead>\n",
       "    <tr style=\"text-align: right;\">\n",
       "      <th></th>\n",
       "      <th>Row ID</th>\n",
       "      <th>Order ID</th>\n",
       "      <th>Order Date</th>\n",
       "      <th>Ship Date</th>\n",
       "      <th>Ship Mode</th>\n",
       "      <th>Customer ID</th>\n",
       "      <th>Customer Name</th>\n",
       "      <th>Segment</th>\n",
       "      <th>Postal Code</th>\n",
       "      <th>City</th>\n",
       "      <th>...</th>\n",
       "      <th>Category</th>\n",
       "      <th>Sub-Category</th>\n",
       "      <th>Product Name</th>\n",
       "      <th>Sales</th>\n",
       "      <th>Quantity</th>\n",
       "      <th>Discount</th>\n",
       "      <th>Profit</th>\n",
       "      <th>Shipping Cost</th>\n",
       "      <th>Order Priority</th>\n",
       "      <th>Person</th>\n",
       "    </tr>\n",
       "  </thead>\n",
       "  <tbody>\n",
       "    <tr>\n",
       "      <th>0</th>\n",
       "      <td>42433</td>\n",
       "      <td>AG-2012-TB112803-40909</td>\n",
       "      <td>2012-01-01</td>\n",
       "      <td>2012-01-06</td>\n",
       "      <td>Standard Class</td>\n",
       "      <td>TB-112803</td>\n",
       "      <td>Toby Braunhardt</td>\n",
       "      <td>Consumer</td>\n",
       "      <td>NaN</td>\n",
       "      <td>Constantine</td>\n",
       "      <td>...</td>\n",
       "      <td>Office Supplies</td>\n",
       "      <td>Storage</td>\n",
       "      <td>Tenex Lockers, Blue</td>\n",
       "      <td>408.30</td>\n",
       "      <td>2</td>\n",
       "      <td>0.0</td>\n",
       "      <td>106.14</td>\n",
       "      <td>35.46</td>\n",
       "      <td>Medium</td>\n",
       "      <td>Lindiwe Afolayan</td>\n",
       "    </tr>\n",
       "    <tr>\n",
       "      <th>1</th>\n",
       "      <td>44301</td>\n",
       "      <td>SU-2012-JC5340122-40912</td>\n",
       "      <td>2012-01-04</td>\n",
       "      <td>2012-01-08</td>\n",
       "      <td>Standard Class</td>\n",
       "      <td>JC-5340122</td>\n",
       "      <td>Jasper Cacioppo</td>\n",
       "      <td>Consumer</td>\n",
       "      <td>NaN</td>\n",
       "      <td>Khartoum</td>\n",
       "      <td>...</td>\n",
       "      <td>Office Supplies</td>\n",
       "      <td>Art</td>\n",
       "      <td>Boston Pens, Fluorescent</td>\n",
       "      <td>15.48</td>\n",
       "      <td>1</td>\n",
       "      <td>0.0</td>\n",
       "      <td>2.61</td>\n",
       "      <td>1.82</td>\n",
       "      <td>Medium</td>\n",
       "      <td>Lindiwe Afolayan</td>\n",
       "    </tr>\n",
       "    <tr>\n",
       "      <th>2</th>\n",
       "      <td>44302</td>\n",
       "      <td>SU-2012-JC5340122-40912</td>\n",
       "      <td>2012-01-04</td>\n",
       "      <td>2012-01-08</td>\n",
       "      <td>Standard Class</td>\n",
       "      <td>JC-5340122</td>\n",
       "      <td>Jasper Cacioppo</td>\n",
       "      <td>Consumer</td>\n",
       "      <td>NaN</td>\n",
       "      <td>Khartoum</td>\n",
       "      <td>...</td>\n",
       "      <td>Office Supplies</td>\n",
       "      <td>Binders</td>\n",
       "      <td>Avery Hole Reinforcements, Durable</td>\n",
       "      <td>5.91</td>\n",
       "      <td>1</td>\n",
       "      <td>0.0</td>\n",
       "      <td>2.10</td>\n",
       "      <td>1.51</td>\n",
       "      <td>Medium</td>\n",
       "      <td>Lindiwe Afolayan</td>\n",
       "    </tr>\n",
       "    <tr>\n",
       "      <th>3</th>\n",
       "      <td>41512</td>\n",
       "      <td>AG-2012-AC4203-40915</td>\n",
       "      <td>2012-01-07</td>\n",
       "      <td>2012-01-11</td>\n",
       "      <td>Standard Class</td>\n",
       "      <td>AC-4203</td>\n",
       "      <td>Alyssa Crouse</td>\n",
       "      <td>Corporate</td>\n",
       "      <td>NaN</td>\n",
       "      <td>Algiers</td>\n",
       "      <td>...</td>\n",
       "      <td>Office Supplies</td>\n",
       "      <td>Art</td>\n",
       "      <td>Stanley Sketch Pad, Fluorescent</td>\n",
       "      <td>91.38</td>\n",
       "      <td>2</td>\n",
       "      <td>0.0</td>\n",
       "      <td>14.58</td>\n",
       "      <td>4.36</td>\n",
       "      <td>Medium</td>\n",
       "      <td>Lindiwe Afolayan</td>\n",
       "    </tr>\n",
       "    <tr>\n",
       "      <th>4</th>\n",
       "      <td>48589</td>\n",
       "      <td>EG-2012-SJ1012538-40918</td>\n",
       "      <td>2012-01-10</td>\n",
       "      <td>2012-01-12</td>\n",
       "      <td>Second Class</td>\n",
       "      <td>SJ-1012538</td>\n",
       "      <td>Sanjit Jacobs</td>\n",
       "      <td>Home Office</td>\n",
       "      <td>NaN</td>\n",
       "      <td>Cairo</td>\n",
       "      <td>...</td>\n",
       "      <td>Furniture</td>\n",
       "      <td>Tables</td>\n",
       "      <td>Chromcraft Wood Table, Fully Assembled</td>\n",
       "      <td>967.98</td>\n",
       "      <td>2</td>\n",
       "      <td>0.0</td>\n",
       "      <td>445.26</td>\n",
       "      <td>80.13</td>\n",
       "      <td>High</td>\n",
       "      <td>Lindiwe Afolayan</td>\n",
       "    </tr>\n",
       "  </tbody>\n",
       "</table>\n",
       "<p>5 rows × 25 columns</p>\n",
       "</div>"
      ],
      "text/plain": [
       "   Row ID                 Order ID Order Date  Ship Date       Ship Mode  \\\n",
       "0   42433   AG-2012-TB112803-40909 2012-01-01 2012-01-06  Standard Class   \n",
       "1   44301  SU-2012-JC5340122-40912 2012-01-04 2012-01-08  Standard Class   \n",
       "2   44302  SU-2012-JC5340122-40912 2012-01-04 2012-01-08  Standard Class   \n",
       "3   41512     AG-2012-AC4203-40915 2012-01-07 2012-01-11  Standard Class   \n",
       "4   48589  EG-2012-SJ1012538-40918 2012-01-10 2012-01-12    Second Class   \n",
       "\n",
       "  Customer ID    Customer Name      Segment  Postal Code         City  ...  \\\n",
       "0   TB-112803  Toby Braunhardt     Consumer          NaN  Constantine  ...   \n",
       "1  JC-5340122  Jasper Cacioppo     Consumer          NaN     Khartoum  ...   \n",
       "2  JC-5340122  Jasper Cacioppo     Consumer          NaN     Khartoum  ...   \n",
       "3     AC-4203    Alyssa Crouse    Corporate          NaN      Algiers  ...   \n",
       "4  SJ-1012538    Sanjit Jacobs  Home Office          NaN        Cairo  ...   \n",
       "\n",
       "          Category Sub-Category                            Product Name  \\\n",
       "0  Office Supplies      Storage                     Tenex Lockers, Blue   \n",
       "1  Office Supplies          Art                Boston Pens, Fluorescent   \n",
       "2  Office Supplies      Binders      Avery Hole Reinforcements, Durable   \n",
       "3  Office Supplies          Art         Stanley Sketch Pad, Fluorescent   \n",
       "4        Furniture       Tables  Chromcraft Wood Table, Fully Assembled   \n",
       "\n",
       "    Sales Quantity Discount  Profit Shipping Cost  Order Priority  \\\n",
       "0  408.30        2      0.0  106.14         35.46          Medium   \n",
       "1   15.48        1      0.0    2.61          1.82          Medium   \n",
       "2    5.91        1      0.0    2.10          1.51          Medium   \n",
       "3   91.38        2      0.0   14.58          4.36          Medium   \n",
       "4  967.98        2      0.0  445.26         80.13            High   \n",
       "\n",
       "             Person  \n",
       "0  Lindiwe Afolayan  \n",
       "1  Lindiwe Afolayan  \n",
       "2  Lindiwe Afolayan  \n",
       "3  Lindiwe Afolayan  \n",
       "4  Lindiwe Afolayan  \n",
       "\n",
       "[5 rows x 25 columns]"
      ]
     },
     "execution_count": 13,
     "metadata": {},
     "output_type": "execute_result"
    }
   ],
   "source": [
    "df = df_orders.merge(df_people, on='Region')\n",
    "df.head()"
   ]
  },
  {
   "cell_type": "markdown",
   "id": "9f437741",
   "metadata": {},
   "source": [
    "### Now we can select only the columns we're interested in, rearrange them, and rename \"Person\" to \"Salesperson\""
   ]
  },
  {
   "cell_type": "code",
   "execution_count": 14,
   "id": "2a5f60d6",
   "metadata": {},
   "outputs": [
    {
     "data": {
      "text/html": [
       "<div>\n",
       "<style scoped>\n",
       "    .dataframe tbody tr th:only-of-type {\n",
       "        vertical-align: middle;\n",
       "    }\n",
       "\n",
       "    .dataframe tbody tr th {\n",
       "        vertical-align: top;\n",
       "    }\n",
       "\n",
       "    .dataframe thead th {\n",
       "        text-align: right;\n",
       "    }\n",
       "</style>\n",
       "<table border=\"1\" class=\"dataframe\">\n",
       "  <thead>\n",
       "    <tr style=\"text-align: right;\">\n",
       "      <th></th>\n",
       "      <th>Person</th>\n",
       "      <th>Order ID</th>\n",
       "      <th>Order Date</th>\n",
       "      <th>Customer ID</th>\n",
       "      <th>Customer Name</th>\n",
       "      <th>Region</th>\n",
       "      <th>Category</th>\n",
       "      <th>Sub-Category</th>\n",
       "      <th>Product Name</th>\n",
       "      <th>Sales</th>\n",
       "      <th>Quantity</th>\n",
       "      <th>Discount</th>\n",
       "      <th>Profit</th>\n",
       "      <th>Shipping Cost</th>\n",
       "    </tr>\n",
       "  </thead>\n",
       "  <tbody>\n",
       "    <tr>\n",
       "      <th>16244</th>\n",
       "      <td>Nicodemo Bautista</td>\n",
       "      <td>US-2014-PG1889582-41647</td>\n",
       "      <td>2014-01-08</td>\n",
       "      <td>PG-1889582</td>\n",
       "      <td>Paul Gonzalez</td>\n",
       "      <td>Central America</td>\n",
       "      <td>Furniture</td>\n",
       "      <td>Chairs</td>\n",
       "      <td>Office Star Executive Leather Armchair, Red</td>\n",
       "      <td>751.488</td>\n",
       "      <td>3</td>\n",
       "      <td>0.2</td>\n",
       "      <td>-112.752</td>\n",
       "      <td>246.726</td>\n",
       "    </tr>\n",
       "  </tbody>\n",
       "</table>\n",
       "</div>"
      ],
      "text/plain": [
       "                  Person                 Order ID Order Date Customer ID  \\\n",
       "16244  Nicodemo Bautista  US-2014-PG1889582-41647 2014-01-08  PG-1889582   \n",
       "\n",
       "       Customer Name           Region   Category Sub-Category  \\\n",
       "16244  Paul Gonzalez  Central America  Furniture       Chairs   \n",
       "\n",
       "                                      Product Name    Sales  Quantity  \\\n",
       "16244  Office Star Executive Leather Armchair, Red  751.488         3   \n",
       "\n",
       "       Discount   Profit  Shipping Cost  \n",
       "16244       0.2 -112.752        246.726  "
      ]
     },
     "execution_count": 14,
     "metadata": {},
     "output_type": "execute_result"
    }
   ],
   "source": [
    "cols = ['Person', 'Order ID', 'Order Date', 'Customer ID', 'Customer Name', 'Region', 'Category', 'Sub-Category', 'Product Name', 'Sales', 'Quantity', 'Discount', 'Profit', 'Shipping Cost']\n",
    "df = df[cols]\n",
    "df.sample()"
   ]
  },
  {
   "cell_type": "code",
   "execution_count": 15,
   "id": "d1d4fae3",
   "metadata": {},
   "outputs": [
    {
     "data": {
      "text/html": [
       "<div>\n",
       "<style scoped>\n",
       "    .dataframe tbody tr th:only-of-type {\n",
       "        vertical-align: middle;\n",
       "    }\n",
       "\n",
       "    .dataframe tbody tr th {\n",
       "        vertical-align: top;\n",
       "    }\n",
       "\n",
       "    .dataframe thead th {\n",
       "        text-align: right;\n",
       "    }\n",
       "</style>\n",
       "<table border=\"1\" class=\"dataframe\">\n",
       "  <thead>\n",
       "    <tr style=\"text-align: right;\">\n",
       "      <th></th>\n",
       "      <th>Salesperson</th>\n",
       "      <th>Order ID</th>\n",
       "      <th>Order Date</th>\n",
       "      <th>Customer ID</th>\n",
       "      <th>Customer Name</th>\n",
       "      <th>Region</th>\n",
       "      <th>Category</th>\n",
       "      <th>Sub-Category</th>\n",
       "      <th>Product Name</th>\n",
       "      <th>Sales</th>\n",
       "      <th>Quantity</th>\n",
       "      <th>Discount</th>\n",
       "      <th>Profit</th>\n",
       "      <th>Shipping Cost</th>\n",
       "    </tr>\n",
       "  </thead>\n",
       "  <tbody>\n",
       "    <tr>\n",
       "      <th>23982</th>\n",
       "      <td>Vasco Magalhães</td>\n",
       "      <td>MX-2013-AC1042018-41576</td>\n",
       "      <td>2013-10-29</td>\n",
       "      <td>AC-1042018</td>\n",
       "      <td>Alyssa Crouse</td>\n",
       "      <td>South America</td>\n",
       "      <td>Office Supplies</td>\n",
       "      <td>Paper</td>\n",
       "      <td>Enermax Parchment Paper, Premium</td>\n",
       "      <td>112.86</td>\n",
       "      <td>11</td>\n",
       "      <td>0.0</td>\n",
       "      <td>45.1</td>\n",
       "      <td>12.642</td>\n",
       "    </tr>\n",
       "  </tbody>\n",
       "</table>\n",
       "</div>"
      ],
      "text/plain": [
       "           Salesperson                 Order ID Order Date Customer ID  \\\n",
       "23982  Vasco Magalhães  MX-2013-AC1042018-41576 2013-10-29  AC-1042018   \n",
       "\n",
       "       Customer Name         Region         Category Sub-Category  \\\n",
       "23982  Alyssa Crouse  South America  Office Supplies        Paper   \n",
       "\n",
       "                           Product Name   Sales  Quantity  Discount  Profit  \\\n",
       "23982  Enermax Parchment Paper, Premium  112.86        11       0.0    45.1   \n",
       "\n",
       "       Shipping Cost  \n",
       "23982         12.642  "
      ]
     },
     "execution_count": 15,
     "metadata": {},
     "output_type": "execute_result"
    }
   ],
   "source": [
    "df.rename(columns={'Person': 'Salesperson'}, inplace=True)\n",
    "df.sample()"
   ]
  },
  {
   "cell_type": "code",
   "execution_count": 16,
   "id": "e1df02f2",
   "metadata": {},
   "outputs": [
    {
     "data": {
      "text/plain": [
       "(50906, 14)"
      ]
     },
     "execution_count": 16,
     "metadata": {},
     "output_type": "execute_result"
    }
   ],
   "source": [
    "df.shape"
   ]
  },
  {
   "cell_type": "code",
   "execution_count": 17,
   "id": "5ad3063b",
   "metadata": {},
   "outputs": [
    {
     "data": {
      "text/plain": [
       "Salesperson              object\n",
       "Order ID                 object\n",
       "Order Date       datetime64[ns]\n",
       "Customer ID              object\n",
       "Customer Name            object\n",
       "Region                   object\n",
       "Category                 object\n",
       "Sub-Category             object\n",
       "Product Name             object\n",
       "Sales                   float64\n",
       "Quantity                  int64\n",
       "Discount                float64\n",
       "Profit                  float64\n",
       "Shipping Cost           float64\n",
       "dtype: object"
      ]
     },
     "execution_count": 17,
     "metadata": {},
     "output_type": "execute_result"
    }
   ],
   "source": [
    "df.dtypes"
   ]
  },
  {
   "cell_type": "code",
   "execution_count": 18,
   "id": "62c6db79",
   "metadata": {},
   "outputs": [
    {
     "data": {
      "text/plain": [
       "Salesperson      0\n",
       "Order ID         0\n",
       "Order Date       0\n",
       "Customer ID      0\n",
       "Customer Name    0\n",
       "Region           0\n",
       "Category         0\n",
       "Sub-Category     0\n",
       "Product Name     0\n",
       "Sales            0\n",
       "Quantity         0\n",
       "Discount         0\n",
       "Profit           0\n",
       "Shipping Cost    0\n",
       "dtype: int64"
      ]
     },
     "execution_count": 18,
     "metadata": {},
     "output_type": "execute_result"
    }
   ],
   "source": [
    "df.isnull().sum()"
   ]
  },
  {
   "cell_type": "markdown",
   "id": "39918f25",
   "metadata": {},
   "source": [
    "### Since we have quantitative columns, we can look at their statistical summary"
   ]
  },
  {
   "cell_type": "code",
   "execution_count": 19,
   "id": "4b9c6bdf",
   "metadata": {},
   "outputs": [
    {
     "data": {
      "text/html": [
       "<div>\n",
       "<style scoped>\n",
       "    .dataframe tbody tr th:only-of-type {\n",
       "        vertical-align: middle;\n",
       "    }\n",
       "\n",
       "    .dataframe tbody tr th {\n",
       "        vertical-align: top;\n",
       "    }\n",
       "\n",
       "    .dataframe thead th {\n",
       "        text-align: right;\n",
       "    }\n",
       "</style>\n",
       "<table border=\"1\" class=\"dataframe\">\n",
       "  <thead>\n",
       "    <tr style=\"text-align: right;\">\n",
       "      <th></th>\n",
       "      <th>Sales</th>\n",
       "      <th>Quantity</th>\n",
       "      <th>Discount</th>\n",
       "      <th>Profit</th>\n",
       "      <th>Shipping Cost</th>\n",
       "    </tr>\n",
       "  </thead>\n",
       "  <tbody>\n",
       "    <tr>\n",
       "      <th>count</th>\n",
       "      <td>50906.000000</td>\n",
       "      <td>50906.000000</td>\n",
       "      <td>50906.000000</td>\n",
       "      <td>50906.000000</td>\n",
       "      <td>50906.000000</td>\n",
       "    </tr>\n",
       "    <tr>\n",
       "      <th>mean</th>\n",
       "      <td>247.035197</td>\n",
       "      <td>3.486406</td>\n",
       "      <td>0.143986</td>\n",
       "      <td>28.476798</td>\n",
       "      <td>26.532041</td>\n",
       "    </tr>\n",
       "    <tr>\n",
       "      <th>std</th>\n",
       "      <td>488.507977</td>\n",
       "      <td>2.279210</td>\n",
       "      <td>0.212715</td>\n",
       "      <td>174.703710</td>\n",
       "      <td>57.337141</td>\n",
       "    </tr>\n",
       "    <tr>\n",
       "      <th>min</th>\n",
       "      <td>0.444000</td>\n",
       "      <td>1.000000</td>\n",
       "      <td>0.000000</td>\n",
       "      <td>-6599.978000</td>\n",
       "      <td>1.002000</td>\n",
       "    </tr>\n",
       "    <tr>\n",
       "      <th>25%</th>\n",
       "      <td>30.840000</td>\n",
       "      <td>2.000000</td>\n",
       "      <td>0.000000</td>\n",
       "      <td>0.000000</td>\n",
       "      <td>2.620000</td>\n",
       "    </tr>\n",
       "    <tr>\n",
       "      <th>50%</th>\n",
       "      <td>85.162500</td>\n",
       "      <td>3.000000</td>\n",
       "      <td>0.000000</td>\n",
       "      <td>9.200000</td>\n",
       "      <td>7.800000</td>\n",
       "    </tr>\n",
       "    <tr>\n",
       "      <th>75%</th>\n",
       "      <td>251.626500</td>\n",
       "      <td>5.000000</td>\n",
       "      <td>0.200000</td>\n",
       "      <td>36.824500</td>\n",
       "      <td>24.540000</td>\n",
       "    </tr>\n",
       "    <tr>\n",
       "      <th>max</th>\n",
       "      <td>22638.480000</td>\n",
       "      <td>14.000000</td>\n",
       "      <td>0.850000</td>\n",
       "      <td>8399.976000</td>\n",
       "      <td>933.570000</td>\n",
       "    </tr>\n",
       "  </tbody>\n",
       "</table>\n",
       "</div>"
      ],
      "text/plain": [
       "              Sales      Quantity      Discount        Profit  Shipping Cost\n",
       "count  50906.000000  50906.000000  50906.000000  50906.000000   50906.000000\n",
       "mean     247.035197      3.486406      0.143986     28.476798      26.532041\n",
       "std      488.507977      2.279210      0.212715    174.703710      57.337141\n",
       "min        0.444000      1.000000      0.000000  -6599.978000       1.002000\n",
       "25%       30.840000      2.000000      0.000000      0.000000       2.620000\n",
       "50%       85.162500      3.000000      0.000000      9.200000       7.800000\n",
       "75%      251.626500      5.000000      0.200000     36.824500      24.540000\n",
       "max    22638.480000     14.000000      0.850000   8399.976000     933.570000"
      ]
     },
     "execution_count": 19,
     "metadata": {},
     "output_type": "execute_result"
    }
   ],
   "source": [
    "df_stats = df.describe()\n",
    "df_stats"
   ]
  },
  {
   "cell_type": "code",
   "execution_count": 20,
   "id": "7ba6d18b",
   "metadata": {},
   "outputs": [
    {
     "data": {
      "text/html": [
       "<div>\n",
       "<style scoped>\n",
       "    .dataframe tbody tr th:only-of-type {\n",
       "        vertical-align: middle;\n",
       "    }\n",
       "\n",
       "    .dataframe tbody tr th {\n",
       "        vertical-align: top;\n",
       "    }\n",
       "\n",
       "    .dataframe thead th {\n",
       "        text-align: right;\n",
       "    }\n",
       "</style>\n",
       "<table border=\"1\" class=\"dataframe\">\n",
       "  <thead>\n",
       "    <tr style=\"text-align: right;\">\n",
       "      <th></th>\n",
       "      <th>Sales</th>\n",
       "      <th>Quantity</th>\n",
       "      <th>Discount</th>\n",
       "      <th>Profit</th>\n",
       "      <th>Shipping Cost</th>\n",
       "    </tr>\n",
       "  </thead>\n",
       "  <tbody>\n",
       "    <tr>\n",
       "      <th>mean</th>\n",
       "      <td>247.035197</td>\n",
       "      <td>3.486406</td>\n",
       "      <td>0.143986</td>\n",
       "      <td>28.476798</td>\n",
       "      <td>26.532041</td>\n",
       "    </tr>\n",
       "    <tr>\n",
       "      <th>std</th>\n",
       "      <td>488.507977</td>\n",
       "      <td>2.279210</td>\n",
       "      <td>0.212715</td>\n",
       "      <td>174.703710</td>\n",
       "      <td>57.337141</td>\n",
       "    </tr>\n",
       "  </tbody>\n",
       "</table>\n",
       "</div>"
      ],
      "text/plain": [
       "           Sales  Quantity  Discount      Profit  Shipping Cost\n",
       "mean  247.035197  3.486406  0.143986   28.476798      26.532041\n",
       "std   488.507977  2.279210  0.212715  174.703710      57.337141"
      ]
     },
     "execution_count": 20,
     "metadata": {},
     "output_type": "execute_result"
    }
   ],
   "source": [
    "df_stats_mean = df.describe().loc[['mean', 'std']]\n",
    "df_stats_mean"
   ]
  },
  {
   "cell_type": "markdown",
   "id": "6aaee238",
   "metadata": {},
   "source": [
    "### With mean and standard deviation, we can plot a box and whisker plot"
   ]
  },
  {
   "cell_type": "code",
   "execution_count": 21,
   "id": "44e60ed4",
   "metadata": {},
   "outputs": [
    {
     "data": {
      "image/png": "[encoded data removed]",
      "text/plain": [
       "<Figure size 640x480 with 1 Axes>"
      ]
     },
     "metadata": {},
     "output_type": "display_data"
    }
   ],
   "source": [
    "df_stats_mean[['Sales', 'Profit', 'Shipping Cost']].plot(kind='box')\n",
    "plt.title('Box and Whisker Plot of Summary Statistics')\n",
    "plt.show()"
   ]
  },
  {
   "cell_type": "code",
   "execution_count": 23,
   "id": "b6c47350",
   "metadata": {},
   "outputs": [
    {
     "data": {
      "text/html": [
       "<div>\n",
       "<style scoped>\n",
       "    .dataframe tbody tr th:only-of-type {\n",
       "        vertical-align: middle;\n",
       "    }\n",
       "\n",
       "    .dataframe tbody tr th {\n",
       "        vertical-align: top;\n",
       "    }\n",
       "\n",
       "    .dataframe thead th {\n",
       "        text-align: right;\n",
       "    }\n",
       "</style>\n",
       "<table border=\"1\" class=\"dataframe\">\n",
       "  <thead>\n",
       "    <tr style=\"text-align: right;\">\n",
       "      <th></th>\n",
       "      <th>Category</th>\n",
       "      <th>Sales</th>\n",
       "    </tr>\n",
       "  </thead>\n",
       "  <tbody>\n",
       "    <tr>\n",
       "      <th>0</th>\n",
       "      <td>Furniture</td>\n",
       "      <td>4.099857e+06</td>\n",
       "    </tr>\n",
       "    <tr>\n",
       "      <th>1</th>\n",
       "      <td>Office Supplies</td>\n",
       "      <td>3.757458e+06</td>\n",
       "    </tr>\n",
       "    <tr>\n",
       "      <th>2</th>\n",
       "      <td>Technology</td>\n",
       "      <td>4.718259e+06</td>\n",
       "    </tr>\n",
       "  </tbody>\n",
       "</table>\n",
       "</div>"
      ],
      "text/plain": [
       "          Category         Sales\n",
       "0        Furniture  4.099857e+06\n",
       "1  Office Supplies  3.757458e+06\n",
       "2       Technology  4.718259e+06"
      ]
     },
     "execution_count": 23,
     "metadata": {},
     "output_type": "execute_result"
    }
   ],
   "source": [
    "df_sales_category = df.groupby([\"Category\"]).Sales.sum().reset_index()\n",
    "df_sales_category"
   ]
  },
  {
   "cell_type": "code",
   "execution_count": 24,
   "id": "04f79f49",
   "metadata": {},
   "outputs": [
    {
     "data": {
      "image/png": "[encoded data removed]",
      "text/plain": [
       "<Figure size 640x480 with 1 Axes>"
      ]
     },
     "metadata": {},
     "output_type": "display_data"
    }
   ],
   "source": [
    "df_sales_category.plot(kind='bar', x='Category', y='Sales', legend=None)\n",
    "plt.title('Sales by Category')\n",
    "plt.xlabel('Category')\n",
    "plt.ylabel('Sales (Hundreds of Thousands)')\n",
    "plt.show()"
   ]
  },
  {
   "cell_type": "code",
   "execution_count": 26,
   "id": "143abae4",
   "metadata": {},
   "outputs": [
    {
     "data": {
      "text/html": [
       "<div>\n",
       "<style scoped>\n",
       "    .dataframe tbody tr th:only-of-type {\n",
       "        vertical-align: middle;\n",
       "    }\n",
       "\n",
       "    .dataframe tbody tr th {\n",
       "        vertical-align: top;\n",
       "    }\n",
       "\n",
       "    .dataframe thead th {\n",
       "        text-align: right;\n",
       "    }\n",
       "</style>\n",
       "<table border=\"1\" class=\"dataframe\">\n",
       "  <thead>\n",
       "    <tr style=\"text-align: right;\">\n",
       "      <th></th>\n",
       "      <th>Category</th>\n",
       "      <th>Profit</th>\n",
       "    </tr>\n",
       "  </thead>\n",
       "  <tbody>\n",
       "    <tr>\n",
       "      <th>0</th>\n",
       "      <td>Furniture</td>\n",
       "      <td>282469.49020</td>\n",
       "    </tr>\n",
       "    <tr>\n",
       "      <th>1</th>\n",
       "      <td>Office Supplies</td>\n",
       "      <td>510638.29790</td>\n",
       "    </tr>\n",
       "    <tr>\n",
       "      <th>2</th>\n",
       "      <td>Technology</td>\n",
       "      <td>656532.11318</td>\n",
       "    </tr>\n",
       "  </tbody>\n",
       "</table>\n",
       "</div>"
      ],
      "text/plain": [
       "          Category        Profit\n",
       "0        Furniture  282469.49020\n",
       "1  Office Supplies  510638.29790\n",
       "2       Technology  656532.11318"
      ]
     },
     "execution_count": 26,
     "metadata": {},
     "output_type": "execute_result"
    }
   ],
   "source": [
    "df_profit_category = df.groupby([\"Category\"]).Profit.sum().reset_index()\n",
    "df_profit_category"
   ]
  },
  {
   "cell_type": "code",
   "execution_count": 27,
   "id": "b73f1ded",
   "metadata": {},
   "outputs": [
    {
     "data": {
      "image/png": "[encoded data removed]",
      "text/plain": [
       "<Figure size 640x480 with 1 Axes>"
      ]
     },
     "metadata": {},
     "output_type": "display_data"
    }
   ],
   "source": [
    "df_profit_category.plot(kind='bar', x='Category', y='Profit', legend=None)\n",
    "plt.title('Profit by Category')\n",
    "plt.xlabel('Category')\n",
    "plt.ylabel('Profit')\n",
    "plt.show()"
   ]
  },
  {
   "cell_type": "code",
   "execution_count": null,
   "id": "93b23f88",
   "metadata": {},
   "outputs": [],
   "source": []
  }
 ],
 "metadata": {
  "kernelspec": {
   "display_name": "Python 3 (ipykernel)",
   "language": "python",
   "name": "python3"
  },
  "language_info": {
   "codemirror_mode": {
    "name": "ipython",
    "version": 3
   },
   "file_extension": ".py",
   "mimetype": "text/x-python",
   "name": "python",
   "nbconvert_exporter": "python",
   "pygments_lexer": "ipython3",
   "version": "3.10.5"
  }
 },
 "nbformat": 4,
 "nbformat_minor": 5
}
